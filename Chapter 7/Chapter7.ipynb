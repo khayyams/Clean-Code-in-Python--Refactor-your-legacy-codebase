{
 "cells": [
  {
   "cell_type": "markdown",
   "metadata": {},
   "source": [
    "# Introduction"
   ]
  },
  {
   "cell_type": "markdown",
   "metadata": {},
   "source": [
    "## What is an Iteration?"
   ]
  },
  {
   "cell_type": "markdown",
   "metadata": {},
   "source": [
    "> A process that is repeated more than one time by applying the same logic is called an Iteration."
   ]
  },
  {
   "cell_type": "code",
   "execution_count": 43,
   "metadata": {},
   "outputs": [
    {
     "name": "stdout",
     "output_type": "stream",
     "text": [
      "0 is an Even Number\n",
      "5 is an Odd Number\n",
      "10 is an Even Number\n",
      "15 is an Odd Number\n",
      "20 is an Even Number\n"
     ]
    }
   ],
   "source": [
    "a = [0, 5, 10, 15, 20]\n",
    "for i in a:\n",
    "    if i % 2 == 0:\n",
    "        print(str(i)+' is an Even Number')\n",
    "    else:\n",
    "        print(str(i)+' is an Odd Number')"
   ]
  },
  {
   "cell_type": "markdown",
   "metadata": {},
   "source": [
    "## Problems before Iterators:"
   ]
  },
  {
   "cell_type": "markdown",
   "metadata": {},
   "source": [
    "<ol>\n",
    "    <li>\n",
    "    Complex of Iteration Logic\n",
    "        <ul>\n",
    "            <li>Manually managing indices</li>\n",
    "            <li>Hard to keep track of state while looping</li>\n",
    "        </ul>\n",
    "    </li>\n",
    "    <li>\n",
    "    Inefficient Memory Usage\n",
    "        <ul>\n",
    "            <li>Infinite sequences was a nightmare</li>\n",
    "        </ul>\n",
    "    </li>\n",
    "    <li>\n",
    "    Rigid and Repetitive Code\n",
    "        <ul>\n",
    "            <li>Hard to reusing iteration logic across different projects</li>\n",
    "        </ul>\n",
    "    </li>\n",
    "    <li>\n",
    "    Limited Flexibility for Complex Iterations\n",
    "        <ul>\n",
    "            <li>Filtering</li>\n",
    "            <li>Skipping</li>\n",
    "            <li>Generating dynamic sequences</li>\n",
    "        </ul>\n",
    "    </li>\n",
    "</ol>"
   ]
  },
  {
   "cell_type": "markdown",
   "metadata": {},
   "source": [
    "## Iterators"
   ]
  },
  {
   "cell_type": "markdown",
   "metadata": {},
   "source": [
    "An iterator is an <span style='color: green'>object</span> which <span style='color: green'>contains a countable number of values</span> and it is used to <span style='color: yellow'>iterate over iterable objects like list, tuples, sets, etc.</span> Iterators are <span style='color: green'>implemented using </span> <span style='color: yellow'>a class</span> and a local variable for iterating is not required\n",
    "<br>\n",
    "<br>\n",
    "It follows <span style='color: yellow'>Lazy Evaluation</span> where the evaluation of the expression will be on hold and stored in the memory until the item is called specifically which helps us to avoid repeated evaluation. As lazy evaluation is implemented, it requires only 1 memory location to process the value and when we are using a large dataset then, wastage of RAM space will be reduced the need to load the entire dataset at the same time will not be there."
   ]
  },
  {
   "cell_type": "markdown",
   "metadata": {},
   "source": [
    "- <strong style='color: yellow'>iter()</strong> function is used to create an iterator containing an iterable object.\n",
    "- <strong style='color: yellow'>next()</strong> function is used to call the next element in the iterable object.\n",
    "- Once an iterator is exhausted, it cannot be reused. After the iterable object is completed, to use them again reassign them to the same object."
   ]
  },
  {
   "cell_type": "code",
   "execution_count": 44,
   "metadata": {},
   "outputs": [
    {
     "name": "stdout",
     "output_type": "stream",
     "text": [
      "Ostad\n",
      "Salehi\n",
      "is\n",
      "The Best\n"
     ]
    }
   ],
   "source": [
    "# iter() / .__iter__()\n",
    "# next() / .__next__()\n",
    "\n",
    "iter_list = iter(['Ostad', 'Salehi', 'is', 'The Best'])\n",
    "# iter_list = ['Ostad', 'Salehi', 'is', 'The Best'].__iter__()\n",
    "\n",
    "# next()\n",
    "print(next(iter_list))\n",
    "# .__next__()\n",
    "print(iter_list.__next__())\n",
    "\n",
    "\n",
    "print(next(iter_list))\n",
    "print(next(iter_list))"
   ]
  },
  {
   "cell_type": "markdown",
   "metadata": {},
   "source": [
    "### StopIteration Exception:"
   ]
  },
  {
   "cell_type": "code",
   "execution_count": 45,
   "metadata": {},
   "outputs": [
    {
     "ename": "StopIteration",
     "evalue": "",
     "output_type": "error",
     "traceback": [
      "\u001b[0;31m---------------------------------------------------------------------------\u001b[0m",
      "\u001b[0;31mStopIteration\u001b[0m                             Traceback (most recent call last)",
      "Cell \u001b[0;32mIn[45], line 1\u001b[0m\n\u001b[0;32m----> 1\u001b[0m \u001b[38;5;28mprint\u001b[39m(\u001b[38;5;28;43mnext\u001b[39;49m\u001b[43m(\u001b[49m\u001b[43miter_list\u001b[49m\u001b[43m)\u001b[49m)\n",
      "\u001b[0;31mStopIteration\u001b[0m: "
     ]
    }
   ],
   "source": [
    "print(next(iter_list))"
   ]
  },
  {
   "cell_type": "markdown",
   "metadata": {},
   "source": [
    "### Memory Usage"
   ]
  },
  {
   "cell_type": "code",
   "execution_count": null,
   "metadata": {},
   "outputs": [],
   "source": [
    "import sys\n",
    "\n",
    "x = [1, 2, 3, 4, 5]\n",
    "\n",
    "print('List size (1 to 5): ', sys.getsizeof(x), 'bytes')\n",
    "print('Iterator size  (1 to 5): ', sys.getsizeof(iter(x)), 'bytes')"
   ]
  },
  {
   "cell_type": "markdown",
   "metadata": {},
   "source": [
    "### Make Iterator using class (old syntax)"
   ]
  },
  {
   "cell_type": "code",
   "execution_count": null,
   "metadata": {},
   "outputs": [],
   "source": [
    "class ExampleIterator:\n",
    "    def __init__(self, n: int) -> None:\n",
    "        self.n = n\n",
    "\n",
    "    def __iter__(self) -> object:\n",
    "        self.current = 0\n",
    "        return self\n",
    "    \n",
    "    def __next__(self):\n",
    "        self.current += 1\n",
    "        if self.current > self.n:\n",
    "            raise StopIteration\n",
    "        \n",
    "        return self.current"
   ]
  },
  {
   "cell_type": "markdown",
   "metadata": {},
   "source": [
    "## Generators"
   ]
  },
  {
   "cell_type": "markdown",
   "metadata": {},
   "source": [
    "Generators are another newer way of creating iterators in a simple way where it uses the keyword “yield” instead of returning it in a defined function."
   ]
  },
  {
   "cell_type": "markdown",
   "metadata": {},
   "source": [
    "Generators are implemented using a function."
   ]
  },
  {
   "cell_type": "markdown",
   "metadata": {},
   "source": [
    "Elegant way of creating ``ExampleIter`` :"
   ]
  },
  {
   "cell_type": "code",
   "execution_count": 39,
   "metadata": {},
   "outputs": [],
   "source": [
    "def example_generator(n):\n",
    "    for i in range(1, n+1):\n",
    "        yield i # pause and not terminating the function"
   ]
  },
  {
   "cell_type": "code",
   "execution_count": null,
   "metadata": {},
   "outputs": [],
   "source": [
    "print(\"The square of numbers are : \")\n",
    "for i in example_generator(5):\n",
    "    print(i)"
   ]
  },
  {
   "cell_type": "markdown",
   "metadata": {},
   "source": [
    "## Table of Difference Between Iterator vs Generators\n",
    "\n",
    "| **Iterator**                                                                 | **Generator**                                                                                   |\n",
    "|------------------------------------------------------------------------------|-------------------------------------------------------------------------------------------------|\n",
    "| Class is used to implement an iterator                                       | Function is used to implement a generator.                                                     |\n",
    "| Local Variables aren’t used here.                                            | All the local variables before the `yield` function are stored.                                  |\n",
    "| Iterator uses `iter()` and `next()` functions                                | Generator uses `yield` keyword                                                                 |\n",
    "| Every iterator is not a generator                                            | Every generator is an iterator                                                                |\n"
   ]
  },
  {
   "cell_type": "markdown",
   "metadata": {},
   "source": [
    "## Common Mistake!!!!!!"
   ]
  },
  {
   "cell_type": "markdown",
   "metadata": {},
   "source": [
    "``range()`` is not an iterator!"
   ]
  },
  {
   "cell_type": "markdown",
   "metadata": {},
   "source": [
    "#### Key Differences Between Range and Iterator\n",
    "\n",
    "| **Feature**           | **Range Object**                         | **Iterator Object**                   |\n",
    "|------------------------|------------------------------------------|---------------------------------------|\n",
    "| **Reusability**       | ✅  | ❌    |\n",
    "| **Indexing**          | ✅  | ❌    |\n",
    "| **Creation**          | Built-in using `range(start, stop)`.     | Created using `iter()` or custom classes. |\n",
    "| **Lazy Evaluation**   | ✅  | ✅    |\n",
    "| **Memory Efficiency** | Efficient, stores `start`, `stop`, `step`. | Efficient, processes one element at a time. |\n",
    "| **Custom Behavior**   | Fixed behavior for numeric sequences.    | Customizable behavior with classes.   |\n"
   ]
  },
  {
   "cell_type": "markdown",
   "metadata": {},
   "source": [
    "# Generators, Iterators, and Asynchronous Programming"
   ]
  },
  {
   "cell_type": "markdown",
   "metadata": {},
   "source": [
    "Clean Code Github: https://github.com/PacktPublishing/Clean-Code-in-Python-Second-Edition/tree/main"
   ]
  },
  {
   "cell_type": "markdown",
   "metadata": {},
   "source": [
    "## A first look at generators"
   ]
  },
  {
   "cell_type": "markdown",
   "metadata": {},
   "source": [
    "Create dummy CSV data set"
   ]
  },
  {
   "cell_type": "code",
   "execution_count": 43,
   "metadata": {},
   "outputs": [],
   "source": [
    "# <purchase_date>, <price>"
   ]
  },
  {
   "cell_type": "code",
   "execution_count": 42,
   "metadata": {},
   "outputs": [],
   "source": [
    "\"\"\"Helper to generate test data.\"\"\"\n",
    "import os\n",
    "\n",
    "\n",
    "PURCHASES_FILE = os.path.join(os.getcwd(), \"purchases.csv\")\n",
    "\n",
    "def create_purchases_file(filename, entries=1_000_000):\n",
    "    if os.path.exists(PURCHASES_FILE):\n",
    "        return\n",
    "\n",
    "    with open(filename, \"w+\") as f:\n",
    "        for i in range(entries):\n",
    "            line = f\"2018-01-01,{i}\\n\"\n",
    "            f.write(line)\n",
    "\n",
    "\n",
    "if __name__ == \"__main__\":\n",
    "    create_purchases_file(PURCHASES_FILE)"
   ]
  },
  {
   "cell_type": "code",
   "execution_count": 6,
   "metadata": {},
   "outputs": [],
   "source": [
    "import logging\n",
    "\n",
    "logging.basicConfig(level=logging.INFO, format=\"%(message)s\")\n",
    "logger = logging.getLogger(__name__)"
   ]
  },
  {
   "cell_type": "code",
   "execution_count": 44,
   "metadata": {},
   "outputs": [],
   "source": [
    "class PurchasesStats:\n",
    "    def __init__(self, purchases):\n",
    "        self.purchases = iter(purchases)\n",
    "        self.min_price: float = None\n",
    "        self.max_price: float = None\n",
    "        self._total_purchases_price: float = 0.0\n",
    "        self._total_purchases = 0\n",
    "        self._initialize()\n",
    "\n",
    "    def _initialize(self):\n",
    "        try:\n",
    "            first_value = next(self.purchases)\n",
    "        except StopIteration:\n",
    "            raise ValueError(\"no values provided\")\n",
    "\n",
    "        self.min_price = self.max_price = first_value\n",
    "        self._update_avg(first_value)\n",
    "\n",
    "    def process(self):\n",
    "        for purchase_value in self.purchases:\n",
    "            self._update_min(purchase_value)\n",
    "            self._update_max(purchase_value)\n",
    "            self._update_avg(purchase_value)\n",
    "        return self\n",
    "\n",
    "    def _update_min(self, new_value: float):\n",
    "        if new_value < self.min_price:\n",
    "            self.min_price = new_value\n",
    "\n",
    "    def _update_max(self, new_value: float):\n",
    "        if new_value > self.max_price:\n",
    "            self.max_price = new_value\n",
    "\n",
    "    def _update_avg(self, new_value: float):\n",
    "        self._total_purchases_price += new_value\n",
    "        self._total_purchases += 1\n",
    "\n",
    "    @property\n",
    "    def avg_price(self):\n",
    "        return self._total_purchases_price / self._total_purchases\n",
    "    \n",
    "    def __str__(self):\n",
    "        return (\n",
    "            f\"{self.__class__.__name__}({self.min_price}, \"\n",
    "            f\"{self.max_price}, {self.avg_price})\"\n",
    "        )"
   ]
  },
  {
   "cell_type": "markdown",
   "metadata": {},
   "source": [
    "<span style='color: red'>Wrong approach:</span>"
   ]
  },
  {
   "cell_type": "code",
   "execution_count": 49,
   "metadata": {},
   "outputs": [],
   "source": [
    "def load_purchases(filename):\n",
    "    purchases = []\n",
    "    with open(filename) as f:\n",
    "        for line in f:\n",
    "            *_, price_raw = line.partition(\",\")\n",
    "            purchases.append(float(price_raw))\n",
    "\n",
    "    return purchases"
   ]
  },
  {
   "cell_type": "markdown",
   "metadata": {},
   "source": [
    "<span style='color: lightgreen'>Correct approach:</span>"
   ]
  },
  {
   "cell_type": "code",
   "execution_count": 50,
   "metadata": {},
   "outputs": [],
   "source": [
    "def load_purchases(filename):\n",
    "    with open(filename) as f:\n",
    "        for line in f:\n",
    "            *_, price_raw = line.partition(\",\")\n",
    "            yield float(price_raw)"
   ]
  },
  {
   "cell_type": "code",
   "execution_count": null,
   "metadata": {},
   "outputs": [],
   "source": [
    "purchases = load_purchases(PURCHASES_FILE)\n",
    "stats = PurchasesStats(purchases).process()\n",
    "logger.info(\"Results: %s\", stats)"
   ]
  },
  {
   "cell_type": "markdown",
   "metadata": {},
   "source": [
    "``yield`` keyword makes the generator object:"
   ]
  },
  {
   "cell_type": "code",
   "execution_count": null,
   "metadata": {},
   "outputs": [],
   "source": [
    "load_purchases(\"file\")"
   ]
  },
  {
   "cell_type": "markdown",
   "metadata": {},
   "source": [
    "## Generator expressions"
   ]
  },
  {
   "cell_type": "code",
   "execution_count": null,
   "metadata": {},
   "outputs": [],
   "source": [
    "[x**2 for x in range(10)]"
   ]
  },
  {
   "cell_type": "code",
   "execution_count": null,
   "metadata": {},
   "outputs": [],
   "source": [
    "(x**2 for x in range(10))"
   ]
  },
  {
   "cell_type": "markdown",
   "metadata": {},
   "source": [
    "Generator expressions can also be passed directly to functions that work with iterables, such as sum() and max():"
   ]
  },
  {
   "cell_type": "code",
   "execution_count": null,
   "metadata": {},
   "outputs": [],
   "source": [
    "sum(x**2 for x in range(10))"
   ]
  },
  {
   "cell_type": "code",
   "execution_count": null,
   "metadata": {},
   "outputs": [],
   "source": [
    "min(x**2 for x in range(10))"
   ]
  },
  {
   "cell_type": "code",
   "execution_count": null,
   "metadata": {},
   "outputs": [],
   "source": [
    "max(x**2 for x in range(10))"
   ]
  },
  {
   "cell_type": "markdown",
   "metadata": {},
   "source": [
    "<span style='color: lightgreen'>Attention!</span> Always pass a generator expression, instead of a list comprehension, to functions that expect iterables, such as min(), max(), and sum(). This is more efficient and Pythonic."
   ]
  },
  {
   "cell_type": "markdown",
   "metadata": {},
   "source": [
    "<span style='color: lightgreen'>Note:</span> Remember that generators are exhausted after they're iterated over, because they don't hold all the data in memory."
   ]
  },
  {
   "cell_type": "markdown",
   "metadata": {},
   "source": [
    "## Iterating idiomatically"
   ]
  },
  {
   "cell_type": "markdown",
   "metadata": {},
   "source": [
    "### Idioms for iteration"
   ]
  },
  {
   "cell_type": "markdown",
   "metadata": {},
   "source": [
    "We are already familiar with the built-in enumerate() function:"
   ]
  },
  {
   "cell_type": "code",
   "execution_count": null,
   "metadata": {},
   "outputs": [],
   "source": [
    "list(enumerate(\"abcdef\"))"
   ]
  },
  {
   "cell_type": "markdown",
   "metadata": {},
   "source": [
    "We want an object that can produce a sequence\n",
    "of numbers, from a starting one, without any limits; one that can\n",
    "simply create an infinite sequence."
   ]
  },
  {
   "cell_type": "markdown",
   "metadata": {},
   "source": [
    "An object as simple as the following one can do the trick. Every time we call this\n",
    "object, we get the next number of the sequence ad infinitum:"
   ]
  },
  {
   "cell_type": "code",
   "execution_count": 104,
   "metadata": {},
   "outputs": [],
   "source": [
    "class NumberSequence:\n",
    "    def __init__(self, start=0):\n",
    "        self.current = start\n",
    "        \n",
    "    def next(self):\n",
    "        current = self.current\n",
    "        self.current += 1\n",
    "        return current"
   ]
  },
  {
   "cell_type": "code",
   "execution_count": 86,
   "metadata": {},
   "outputs": [],
   "source": [
    "seq = NumberSequence()"
   ]
  },
  {
   "cell_type": "code",
   "execution_count": null,
   "metadata": {},
   "outputs": [],
   "source": [
    "seq.next() # Run as many as you like!"
   ]
  },
  {
   "cell_type": "code",
   "execution_count": 88,
   "metadata": {},
   "outputs": [],
   "source": [
    "seq = NumberSequence(10) # Start from 10"
   ]
  },
  {
   "cell_type": "code",
   "execution_count": null,
   "metadata": {},
   "outputs": [],
   "source": [
    "seq.next() # Run as many as you like!"
   ]
  },
  {
   "cell_type": "code",
   "execution_count": null,
   "metadata": {},
   "outputs": [],
   "source": [
    "# Syntax reminder\n",
    "list(zip([1,2,3,4,5], \"abcdef\"))"
   ]
  },
  {
   "cell_type": "markdown",
   "metadata": {},
   "source": [
    "But the problem is 🫠:"
   ]
  },
  {
   "cell_type": "code",
   "execution_count": null,
   "metadata": {},
   "outputs": [],
   "source": [
    "list(zip(NumberSequence(), \"abcdef\"))\n",
    "# TypeError: zip argument #1 must support iteration"
   ]
  },
  {
   "cell_type": "markdown",
   "metadata": {},
   "source": [
    "The problem lies in the fact that ``NumberSequence`` does not support iteration."
   ]
  },
  {
   "cell_type": "markdown",
   "metadata": {},
   "source": [
    "Fix:"
   ]
  },
  {
   "cell_type": "code",
   "execution_count": 118,
   "metadata": {},
   "outputs": [],
   "source": [
    "class NumberSequence:\n",
    "    def __init__(self, start=0):\n",
    "        self.current = start\n",
    "\n",
    "    # Change name() to __name__()\n",
    "    def __next__(self):\n",
    "        current = self.current\n",
    "        self.current += 1\n",
    "        return current\n",
    "    \n",
    "    # Add __iter__()\n",
    "    def __iter__(self):\n",
    "        return self"
   ]
  },
  {
   "cell_type": "code",
   "execution_count": null,
   "metadata": {},
   "outputs": [],
   "source": [
    "list(zip(NumberSequence(), \"abcdef\"))"
   ]
  },
  {
   "cell_type": "markdown",
   "metadata": {},
   "source": [
    "### The ``next()`` function"
   ]
  },
  {
   "cell_type": "markdown",
   "metadata": {},
   "source": [
    "The ``next()`` built-in function will advance the iterable to its next element and\n",
    "return it:"
   ]
  },
  {
   "cell_type": "code",
   "execution_count": 123,
   "metadata": {},
   "outputs": [],
   "source": [
    "word = iter(\"hello\")"
   ]
  },
  {
   "cell_type": "code",
   "execution_count": null,
   "metadata": {},
   "outputs": [],
   "source": [
    "next(word)"
   ]
  },
  {
   "cell_type": "markdown",
   "metadata": {},
   "source": [
    "If the iterator does not have more elements to produce, the StopIteration exception\n",
    "is raised:"
   ]
  },
  {
   "cell_type": "code",
   "execution_count": null,
   "metadata": {},
   "outputs": [],
   "source": [
    "word = iter(\"hello\")\n",
    "print(next(word))\n",
    "print(next(word))\n",
    "print(next(word))\n",
    "print(next(word))\n",
    "print(next(word))\n",
    "print(next(word))"
   ]
  },
  {
   "cell_type": "markdown",
   "metadata": {},
   "source": [
    "This exception signals that the iteration is over and that there are no more elements\n",
    "to consume."
   ]
  },
  {
   "cell_type": "markdown",
   "metadata": {},
   "source": [
    "Handle with the by ``default value`` :"
   ]
  },
  {
   "cell_type": "code",
   "execution_count": null,
   "metadata": {},
   "outputs": [],
   "source": [
    "next(word, \"default value\")"
   ]
  },
  {
   "cell_type": "markdown",
   "metadata": {},
   "source": [
    "<span style='color: lightgreen'>Note:</span> It is advisable to use the default value most of the time, to avoid having exceptions\n",
    "at runtime in our programs. If we are absolutely sure that the iterator we're dealing\n",
    "with cannot be empty, it's still better to be use default value."
   ]
  },
  {
   "cell_type": "markdown",
   "metadata": {},
   "source": [
    "### Using a generator"
   ]
  },
  {
   "cell_type": "markdown",
   "metadata": {},
   "source": [
    "The previous code can be simplified significantly by simply using a generator."
   ]
  },
  {
   "cell_type": "code",
   "execution_count": 130,
   "metadata": {},
   "outputs": [],
   "source": [
    "def sequence(start=0):\n",
    "    while True:\n",
    "        yield start\n",
    "        start += 1"
   ]
  },
  {
   "cell_type": "markdown",
   "metadata": {},
   "source": [
    "<strong>Because it is a generator</strong>, it's perfectly fine to create\n",
    "an infinite loop like this"
   ]
  },
  {
   "cell_type": "code",
   "execution_count": 131,
   "metadata": {},
   "outputs": [],
   "source": [
    "seq = sequence(10)"
   ]
  },
  {
   "cell_type": "code",
   "execution_count": null,
   "metadata": {},
   "outputs": [],
   "source": [
    "next(seq) # Run as many times as you wish!"
   ]
  },
  {
   "cell_type": "code",
   "execution_count": null,
   "metadata": {},
   "outputs": [],
   "source": [
    "list(zip(sequence(), \"abcdef\"))"
   ]
  },
  {
   "cell_type": "markdown",
   "metadata": {},
   "source": [
    "## Simplifying code through iterators"
   ]
  },
  {
   "cell_type": "markdown",
   "metadata": {},
   "source": [
    "### Nested loops"
   ]
  },
  {
   "cell_type": "markdown",
   "metadata": {},
   "source": [
    "<span style='color: red'>Wrong approach:</span>"
   ]
  },
  {
   "cell_type": "code",
   "execution_count": 134,
   "metadata": {},
   "outputs": [],
   "source": [
    "def search_nested_bad(array, desired_value):\n",
    "    \"\"\"Example of an iteration in a nested loop.\"\"\"\n",
    "    coords = None\n",
    "    for i, row in enumerate(array):\n",
    "        for j, cell in enumerate(row):\n",
    "            if cell == desired_value:\n",
    "                coords = (i, j)\n",
    "                break\n",
    "\n",
    "        if coords is not None:\n",
    "            break\n",
    "\n",
    "    if coords is None:\n",
    "        raise ValueError(f\"{desired_value} not found\")\n",
    "\n",
    "    logger.info(\"value %r found at [%i, %i]\", desired_value, *coords)\n",
    "    return coords"
   ]
  },
  {
   "cell_type": "markdown",
   "metadata": {},
   "source": [
    "<span style='color: lightgreen'>Correct approach:</span>"
   ]
  },
  {
   "cell_type": "code",
   "execution_count": 135,
   "metadata": {},
   "outputs": [],
   "source": [
    "def _iterate_array2d(array2d):\n",
    "    for i, row in enumerate(array2d):\n",
    "        for j, cell in enumerate(row):\n",
    "            yield (i, j), cell\n",
    "\n",
    "\n",
    "def search_nested(array, desired_value):\n",
    "    \"\"\"\"Searching in multiple dimensions with a single loop.\"\"\"\n",
    "    try:\n",
    "        coord = next(\n",
    "            coord\n",
    "            for (coord, cell) in _iterate_array2d(array)\n",
    "            if cell == desired_value\n",
    "        )\n",
    "    except StopIteration as e:\n",
    "        raise ValueError(f\"{desired_value} not found\") from e\n",
    "\n",
    "    logger.info(\"value %r found at [%i, %i]\", desired_value, *coord)\n",
    "    return coord"
   ]
  },
  {
   "cell_type": "markdown",
   "metadata": {},
   "source": [
    "<h3>Multi Processing</h3>\n",
    "\n",
    "<img src=\"./01. Multi_Processing.png\"/>"
   ]
  },
  {
   "cell_type": "markdown",
   "metadata": {},
   "source": [
    "<h3>Threading</h3>\n",
    "\n",
    "<img src=\"./02. Threading.png\"/>"
   ]
  },
  {
   "cell_type": "markdown",
   "metadata": {},
   "source": [
    "<h3>Coroutine</h3>\n",
    "\n",
    "<img src=\"./03. Coroutine.png\"/>"
   ]
  },
  {
   "cell_type": "markdown",
   "metadata": {},
   "source": [
    "## Coroutines"
   ]
  },
  {
   "cell_type": "markdown",
   "metadata": {},
   "source": [
    "The idea of a coroutine is to have a function, whose execution can be suspended\n",
    "at a given point in time, to be later resumed."
   ]
  },
  {
   "cell_type": "markdown",
   "metadata": {},
   "source": [
    "## The methods of the generator interface"
   ]
  },
  {
   "cell_type": "markdown",
   "metadata": {},
   "source": [
    "### ``close()``"
   ]
  },
  {
   "cell_type": "markdown",
   "metadata": {},
   "source": [
    "When calling this method, the generator will receive the ``GeneratorExit`` exception.\n",
    "If it's not handled, then the generator will finish without producing any more values,\n",
    "and its iteration will stop."
   ]
  },
  {
   "cell_type": "code",
   "execution_count": 1,
   "metadata": {},
   "outputs": [],
   "source": [
    "class DBHandler:\n",
    "    \"\"\"Simulate reading from the database by pages.\"\"\"\n",
    "\n",
    "    def __init__(self, db):\n",
    "        self.db = db\n",
    "        self.is_closed = False\n",
    "\n",
    "    def read_n_records(self, limit):\n",
    "        return [(i, f\"row {i}\") for i in range(limit)]\n",
    "\n",
    "    def close(self):\n",
    "        logger.info(\"closing connection to database %r\", self.db)\n",
    "        self.is_closed = True"
   ]
  },
  {
   "cell_type": "code",
   "execution_count": 2,
   "metadata": {},
   "outputs": [],
   "source": [
    "def stream_db_records(db_handler):\n",
    "    try:\n",
    "        while True:\n",
    "            yield db_handler.read_n_records(10)\n",
    "    except GeneratorExit:\n",
    "        db_handler.close()"
   ]
  },
  {
   "cell_type": "code",
   "execution_count": 3,
   "metadata": {},
   "outputs": [],
   "source": [
    "streamer = stream_db_records(DBHandler(\"testdb\"))"
   ]
  },
  {
   "cell_type": "code",
   "execution_count": null,
   "metadata": {},
   "outputs": [],
   "source": [
    "next(streamer)"
   ]
  },
  {
   "cell_type": "markdown",
   "metadata": {},
   "source": [
    "At each call to the generator, it will return 10 rows obtained from the database\n",
    "handler, but when we decide to explicitly finish the iteration and call close(),\n",
    "we also want to close the connection to the database"
   ]
  },
  {
   "cell_type": "code",
   "execution_count": null,
   "metadata": {},
   "outputs": [],
   "source": [
    "streamer.close()"
   ]
  },
  {
   "cell_type": "markdown",
   "metadata": {},
   "source": [
    "<span style='color: lightgreen'>Note:</span> Use the ``close()`` method on generators to perform finishing-up\n",
    "tasks when needed."
   ]
  },
  {
   "cell_type": "markdown",
   "metadata": {},
   "source": [
    "### ``throw(ex_type[, ex_value[, ex_traceback]])``"
   ]
  },
  {
   "cell_type": "markdown",
   "metadata": {},
   "source": [
    "This method will throw the exception at the line where the generator is currently\n",
    "suspended. If the generator handles the exception that was sent, the code in that\n",
    "particular except clause will be called; otherwise, the exception will propagate to\n",
    "the caller."
   ]
  },
  {
   "cell_type": "code",
   "execution_count": 8,
   "metadata": {},
   "outputs": [],
   "source": [
    "class CustomException(Exception):\n",
    "    \"\"\"An exception of the domain model.\"\"\""
   ]
  },
  {
   "cell_type": "code",
   "execution_count": 9,
   "metadata": {},
   "outputs": [],
   "source": [
    "def stream_data(db_handler):\n",
    "    while True:\n",
    "        try:\n",
    "            yield db_handler.read_n_records(10)\n",
    "        except CustomException as e:\n",
    "            logger.info(\"controlled error %r, continuing\", e)\n",
    "        except Exception as e:\n",
    "            logger.info(\"unhandled error %r, stopping\", e)\n",
    "            db_handler.close()\n",
    "            break"
   ]
  },
  {
   "cell_type": "code",
   "execution_count": 10,
   "metadata": {},
   "outputs": [],
   "source": [
    "streamer = stream_data(DBHandler(\"testdb\"))"
   ]
  },
  {
   "cell_type": "code",
   "execution_count": null,
   "metadata": {},
   "outputs": [],
   "source": [
    "next(streamer)"
   ]
  },
  {
   "cell_type": "code",
   "execution_count": null,
   "metadata": {},
   "outputs": [],
   "source": [
    "streamer.throw(CustomException)"
   ]
  },
  {
   "cell_type": "code",
   "execution_count": null,
   "metadata": {},
   "outputs": [],
   "source": [
    "streamer.throw(RuntimeError)"
   ]
  },
  {
   "cell_type": "markdown",
   "metadata": {},
   "source": [
    "### ``send(value)``"
   ]
  },
  {
   "cell_type": "markdown",
   "metadata": {},
   "source": [
    "You can use ``send(value)`` to pass a value to the generator, which resumes execution from the yield statement."
   ]
  },
  {
   "cell_type": "code",
   "execution_count": 14,
   "metadata": {},
   "outputs": [],
   "source": [
    "def coro():\n",
    "    print(\"Coroutine started\")\n",
    "    y = yield  # Waits for a value to be sent\n",
    "    print(f\"Received: {y}\")"
   ]
  },
  {
   "cell_type": "code",
   "execution_count": 18,
   "metadata": {},
   "outputs": [],
   "source": [
    "# Create the generator\n",
    "gen = coro()"
   ]
  },
  {
   "cell_type": "code",
   "execution_count": null,
   "metadata": {},
   "outputs": [],
   "source": [
    "# Prime the generator (start it up to the first yield)\n",
    "next(gen)  # or gen.send(None)"
   ]
  },
  {
   "cell_type": "code",
   "execution_count": null,
   "metadata": {},
   "outputs": [],
   "source": [
    "# Send a value to the generator\n",
    "gen.send(42)"
   ]
  },
  {
   "cell_type": "markdown",
   "metadata": {},
   "source": [
    "We would like to parametrize that number (10) so that we can change it throughout\n",
    "different calls. Unfortunately, the next() function does not provide us with options\n",
    "for that. But luckily, we have ``send()``:"
   ]
  },
  {
   "cell_type": "code",
   "execution_count": 23,
   "metadata": {},
   "outputs": [],
   "source": [
    "def stream_db_records(db_handler):\n",
    "    retrieved_data = None\n",
    "    previous_page_size = 10\n",
    "    try:\n",
    "        while True:\n",
    "            page_size = yield retrieved_data\n",
    "            if page_size is None:\n",
    "                page_size = previous_page_size\n",
    "\n",
    "            previous_page_size = page_size\n",
    "\n",
    "            retrieved_data = db_handler.read_n_records(page_size)\n",
    "    except GeneratorExit:\n",
    "        db_handler.close()"
   ]
  },
  {
   "cell_type": "code",
   "execution_count": 27,
   "metadata": {},
   "outputs": [],
   "source": [
    "streamer = stream_db_records(DBHandler(\"testdb\"))"
   ]
  },
  {
   "cell_type": "code",
   "execution_count": 29,
   "metadata": {},
   "outputs": [],
   "source": [
    "next(streamer)"
   ]
  },
  {
   "cell_type": "code",
   "execution_count": null,
   "metadata": {},
   "outputs": [],
   "source": [
    "streamer.send(15)"
   ]
  },
  {
   "cell_type": "markdown",
   "metadata": {},
   "source": [
    "Sending values to the coroutine only works when this one is suspended at a yield\n",
    "statement, waiting for something to produce. For this to happen, the coroutine will\n",
    "have to be advanced to that status. The only way to do this is by calling next() on it.\n",
    "This means that before sending anything to the coroutine, this has to be advanced at\n",
    "least once via the next() method. Failure to do so will result in an exception:"
   ]
  },
  {
   "cell_type": "code",
   "execution_count": 33,
   "metadata": {},
   "outputs": [],
   "source": [
    "# Create the generator\n",
    "gen = coro()"
   ]
  },
  {
   "cell_type": "code",
   "execution_count": null,
   "metadata": {},
   "outputs": [],
   "source": [
    "# Send a value to the generator\n",
    "gen.send(42)"
   ]
  },
  {
   "cell_type": "markdown",
   "metadata": {},
   "source": [
    "<span style='color: lightgreen'>Note:</span> Always remember to advance a coroutine by calling next() before\n",
    "sending any values to it."
   ]
  },
  {
   "cell_type": "markdown",
   "metadata": {},
   "source": [
    "More Pythonic:"
   ]
  },
  {
   "cell_type": "code",
   "execution_count": 35,
   "metadata": {},
   "outputs": [],
   "source": [
    "def stream_db_records(db_handler):\n",
    "    retrieved_data = None\n",
    "    page_size = 10\n",
    "    try:\n",
    "        while True:\n",
    "            page_size = (yield retrieved_data) or page_size\n",
    "            retrieved_data = db_handler.read_n_records(page_size)\n",
    "    except GeneratorExit:\n",
    "        db_handler.close()"
   ]
  },
  {
   "cell_type": "code",
   "execution_count": null,
   "metadata": {},
   "outputs": [],
   "source": [
    "streamer = stream_db_records(DBHandler('testdb'))"
   ]
  },
  {
   "cell_type": "code",
   "execution_count": 37,
   "metadata": {},
   "outputs": [],
   "source": [
    "next(streamer)"
   ]
  },
  {
   "cell_type": "code",
   "execution_count": null,
   "metadata": {},
   "outputs": [],
   "source": [
    "streamer.send(5)"
   ]
  },
  {
   "cell_type": "markdown",
   "metadata": {},
   "source": [
    "Get rid of ``next()`` function at before ``send()``:"
   ]
  },
  {
   "cell_type": "code",
   "execution_count": 39,
   "metadata": {},
   "outputs": [],
   "source": [
    "def prepare_coroutine(coroutine):\n",
    "    def wrapped(*args, **kwargs):\n",
    "        advanced_coroutine = coroutine(*args, **kwargs)\n",
    "        next(advanced_coroutine)\n",
    "        return advanced_coroutine\n",
    "\n",
    "    return wrapped"
   ]
  },
  {
   "cell_type": "code",
   "execution_count": 40,
   "metadata": {},
   "outputs": [],
   "source": [
    "@prepare_coroutine\n",
    "def auto_stream_db_records(db_handler):\n",
    "    \"\"\"This coroutine is automatically advanced so it doesn't need the first\n",
    "    next() call.\n",
    "    \"\"\"\n",
    "    retrieved_data = None\n",
    "    page_size = 10\n",
    "    try:\n",
    "        while True:\n",
    "            page_size = (yield retrieved_data) or page_size\n",
    "            retrieved_data = db_handler.read_n_records(page_size)\n",
    "    except GeneratorExit:\n",
    "        db_handler.close()"
   ]
  },
  {
   "cell_type": "code",
   "execution_count": null,
   "metadata": {},
   "outputs": [],
   "source": [
    "streamer = auto_stream_db_records(DBHandler('testdb'))"
   ]
  },
  {
   "cell_type": "code",
   "execution_count": null,
   "metadata": {},
   "outputs": [],
   "source": [
    "streamer.send(5)"
   ]
  },
  {
   "cell_type": "markdown",
   "metadata": {},
   "source": [
    "# References"
   ]
  },
  {
   "cell_type": "markdown",
   "metadata": {},
   "source": [
    "- Clean Code\n",
    "- [Geeks for Geeks](https://www.geeksforgeeks.org/)\n",
    "- [Stack Overflow](https://stackoverflow.com/)\n",
    "- [Quera](https://quera.org/blog/coroutine-in-python/)"
   ]
  }
 ],
 "metadata": {
  "kernelspec": {
   "display_name": "usr",
   "language": "python",
   "name": "python3"
  },
  "language_info": {
   "codemirror_mode": {
    "name": "ipython",
    "version": 3
   },
   "file_extension": ".py",
   "mimetype": "text/x-python",
   "name": "python",
   "nbconvert_exporter": "python",
   "pygments_lexer": "ipython3",
   "version": "3.12.3"
  }
 },
 "nbformat": 4,
 "nbformat_minor": 2
}

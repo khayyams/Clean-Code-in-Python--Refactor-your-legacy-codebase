{
 "cells": [
  {
   "cell_type": "markdown",
   "id": "90c3ad50-b193-4f9d-8ac0-c55b6ca9cb39",
   "metadata": {},
   "source": [
    "<h1 style=\"text-align:center;font-size:220%;color:#0000CD; font-family: 'B Nazanin';\">فصل 3<br><hr><span style=\"color:#000000;font-size:150%;\">ویژگی های عمومی کد خوب </span></h1>"
   ]
  },
  {
   "cell_type": "markdown",
   "id": "65f88692-c1b7-4e73-8b29-4fd2215b2de7",
   "metadata": {},
   "source": [
    "<div  style=\"text-align:center;direction:rtl;line-height:200%;\">\n",
    "<font face=\"B nazanin\" size=5>\n",
    "<p></p>\n",
    "<hr>\n",
    "استاد: دکتر صالحی\n",
    "<br>\n",
    "ارائه دهنده: ریحانه رئیسی\n",
    "<br>\n",
    "نگار بهارلو\n",
    "<br>\n",
    "عاطفه شالوزاد\n",
    "<br>\n",
    "درس مباحثی در علوم کامپیوتر\n",
    "<hr>\n",
    "</font>\n",
    "</div>\n",
    "</font>\n",
    "</div>"
   ]
  },
  {
   "cell_type": "markdown",
   "id": "c7a919ed-146a-40d4-91dd-e2b789c338e9",
   "metadata": {},
   "source": [
    "<div  style=\"direction:rtl;line-height:200%;\">\n",
    "  <font face=\"B nazanin\" size=5>\n",
    "    <p></p>\n",
    "درباره‌ی ویژگی‌های کلی کد خوب است و بر اهمیت طراحی خوب در ساخت نرم‌افزار تأکید دارد. نویسنده توضیح می‌دهد که کد و طراحی از یکدیگر جدا نیستند؛ در واقع کد، همان طراحی است و نمایانگر جزئی‌ترین سطح طراحی می‌باشد. در ابتدا، بر اهمیت ساختاردهی منسجم و استفاده از الگوهای نوشتن کد فشرده و مطابق با اصول اشاره شده و حالا هدف به ایجاد کدی قوی و بدون خطا، یا حداقل به گونه‌ای که خطاها به‌وضوح قابل شناسایی باشند، ارتقا یافته است.\n",
    "<br>\n",
    "در این فصل و فصل بعد، اصول طراحی در سطحی بالاتر از جزئیات پیاده‌سازی مطرح می‌شوند.\n",
    "<br>\n",
    "کیفیت کد چندبعدی است، و می‌توان آن را مشابه ویژگی‌های کیفیتی معماری نرم‌افزار دانست. به عنوان مثال، انتظار داریم نرم‌افزار از نظر امنیت، کارایی، قابلیت اطمینان و نگهداری کیفیت مطلوبی داشته باشد.\n",
    "\n",
    "</font>\n",
    "</div>\n"
   ]
  },
  {
   "cell_type": "markdown",
   "id": "58648a0d-6c46-4845-b596-8097012e1417",
   "metadata": {},
   "source": [
    "<div\n",
    "  style=\"direction:rtl;line-height:200%;\">\n",
    "  <font face=\"B Nazanin\" size=4>\n",
    "    <font color=#000080 size=5>\n",
    "اهداف این فصل به شرح زیر هستند:\n",
    "\n",
    "</font>\n",
    "</div>\n"
   ]
  },
  {
   "cell_type": "markdown",
   "id": "fbf658c8-4109-4eba-a668-fc65dba7b0cc",
   "metadata": {},
   "source": [
    "<div  style=\"direction:rtl;line-height:200%;\">\n",
    "  <font face=\"B nazanin\" size=5>\n",
    "    <p></p>\n",
    "•\tدرک مفاهیم مربوط به نرم‌افزار قوی\n",
    "<br>\n",
    "•\tیادگیری نحوه‌ی مدیریت داده‌های نادرست در جریان کار برنامه\n",
    "<br>\n",
    "•\tطراحی نرم‌افزار قابل نگهداری که بتوان به راحتی آن را گسترش داد و با نیازهای جدید تطبیق داد\n",
    "<br>\n",
    "•\tطراحی نرم‌افزار قابل استفاده مجدد\n",
    "<br>\n",
    "•\tنوشتن کد مؤثر که بهره‌وری تیم توسعه را بالا نگه دارد\n",
    "\n",
    "</font>\n",
    "</div>\n"
   ]
  },
  {
   "cell_type": "markdown",
   "id": "b60fb0a6-d032-4014-a693-9225e847df92",
   "metadata": {},
   "source": [
    "<hr>"
   ]
  },
  {
   "cell_type": "markdown",
   "id": "ac7a8732-d9bc-4473-8bac-91ad2a3dbb76",
   "metadata": {},
   "source": [
    "<div\n",
    "  style=\"direction:rtl;line-height:200%;\">\n",
    "  <font face=\"B Nazanin\" size=4>\n",
    "    <font color=#000080 size=5>\n",
    "طراحی بر اساس قرارداد  :Design by Contract\n",
    "\n",
    "</font>\n",
    "</div>\n"
   ]
  },
  {
   "cell_type": "markdown",
   "id": "5492996c-44c8-433e-984a-4b963107c7e0",
   "metadata": {},
   "source": [
    "<div  style=\"direction:rtl;line-height:200%;\">\n",
    "  <font face=\"B nazanin\" size=5>\n",
    "    <p></p>\n",
    "برخی از بخش‌های نرم‌افزاری که روی آن کار می‌کنیم قرار نیست مستقیماً توسط کاربران فراخوانی شوند، بلکه باید توسط دیگر بخش‌های کد مورد استفاده قرار گیرند. چنین حالتی زمانی پیش می‌آید که مسئولیت‌های برنامه را بین اجزا یا لایه‌های مختلف تقسیم می‌کنیم و باید به تعامل بین آن‌ها فکر کنیم.\n",
    "<br>\n",
    "برای مثال، یک تابع داریم که قرار است با مجموعه‌ای از پارامترهای نوع عدد صحیح کار کند، و تابع دیگری تابع ما را با پارامترهای رشته‌ای فراخوانی کند، واضح است که این کار نباید طبق انتظار پیش برود؛ در واقع، تابع ما نباید اصلاً اجرا شود چون به اشتباه فراخوانی شده است (اشتباه از سوی مشتری است). این خطا نباید بی‌صدا عبور کند.\n",
    "<br>\n",
    "البته، هنگام طراحی یک API، ورودی، خروجی و اثرات جانبی مورد انتظار باید مستند شوند. اما مستندسازی نمی‌تواند رفتار نرم‌افزار را در زمان اجرا تضمین کند. این قواعد، یعنی آنچه که هر بخش از کد برای عملکرد صحیح انتظار دارد و آنچه که فراخواننده از آن‌ها انتظار دارد، باید بخشی از طراحی باشند؛ و اینجاست که مفهوم قرارداد (Contract) به میان می‌آید.\n",
    "<br>\n",
    "ایده‌ی پشت رویکرد طراحی بر اساس قرارداد (DbC) این است.\n",
    "\n",
    "</font>\n",
    "</div>\n"
   ]
  },
  {
   "cell_type": "markdown",
   "id": "96b610e9-b2e5-45ec-a4e7-0fc712c6b682",
   "metadata": {},
   "source": [
    "<div\n",
    "  style=\"direction:rtl;line-height:200%;\">\n",
    "  <font face=\"B Nazanin\" size=4>\n",
    "    <font color=#0000cd size=5>\n",
    "یک قرارداد شامل پیش‌شرط‌ها و پس‌شرط‌ها است، اما در برخی موارد، ناپایداری‌ها (invariants) و اثرات جانبی نیز توصیف می‌شوند:\n",
    "</font>\n",
    "</div>\n"
   ]
  },
  {
   "cell_type": "markdown",
   "id": "99bafd8e-53e8-46dd-8831-27268d0e43b4",
   "metadata": {},
   "source": [
    "<div\n",
    "  style=\"direction:rtl;line-height:200%;\">\n",
    "  <font face=\"B Nazanin\" size=4>\n",
    "    <font color=#4169e1 size=5>\n",
    "  پیش‌شرط‌ها:  Preconditions\n",
    "</font>\n",
    "</div>\n"
   ]
  },
  {
   "cell_type": "markdown",
   "id": "6719ecb2-5495-402c-b1a5-8ddd720c2c61",
   "metadata": {},
   "source": [
    "<div  style=\"direction:rtl;line-height:200%;\">\n",
    "  <font face=\"B nazanin\" size=5>\n",
    "    <p></p>\n",
    "این‌ها شامل تمام بررسی‌هایی است که کد قبل از اجرا انجام می‌دهد.\n",
    "</font>\n",
    "</div>\n"
   ]
  },
  {
   "cell_type": "markdown",
   "id": "00307b81-7255-4744-b59b-878400cb1ebf",
   "metadata": {},
   "source": [
    "<div\n",
    "  style=\"direction:rtl;line-height:200%;\">\n",
    "  <font face=\"B Nazanin\" size=4>\n",
    "    <font color=#4169e1 size=5>\n",
    "پس‌شرط‌ها: Postconditions\n",
    "</font>\n",
    "</div>\n"
   ]
  },
  {
   "cell_type": "markdown",
   "id": "7de20573-538b-41ff-bde2-b3b7c0ab614e",
   "metadata": {},
   "source": [
    "<div  style=\"direction:rtl;line-height:200%;\">\n",
    "  <font face=\"B nazanin\" size=5>\n",
    "    <p></p>\n",
    "برعکس پیش‌شرط‌ها، اعتبارسنجی‌های پس‌شرط بعد از اجرای تابع و هنگام بازگشت از آن انجام می‌شوند.\n",
    "\n",
    "</font>\n",
    "</div>\n"
   ]
  },
  {
   "cell_type": "markdown",
   "id": "d70c471a-65fd-40d2-9019-19acc8b78ab7",
   "metadata": {},
   "source": [
    "<div\n",
    "  style=\"direction:rtl;line-height:200%;\">\n",
    "  <font face=\"B Nazanin\" size=4>\n",
    "    <font color=#4169e1 size=5>\n",
    "پایداری ها :Invariants\n",
    "</font>\n",
    "</div>\n"
   ]
  },
  {
   "cell_type": "markdown",
   "id": "34ce7248-1920-4189-aa48-0a440222104f",
   "metadata": {},
   "source": [
    "<div  style=\"direction:rtl;line-height:200%;\">\n",
    "  <font face=\"B nazanin\" size=5>\n",
    "    <p></p>\n",
    "به طور اختیاری، بهتر است در مستندات تابع (docstring)، ناپایداری‌ها را ذکر کنیم. این موارد چیزهایی هستند که در حین اجرای کد تابع ثابت باقی می‌مانند و به بیان منطق صحیح عملکرد تابع کمک می‌کنند.\n",
    "</font>\n",
    "</div>\n"
   ]
  },
  {
   "cell_type": "markdown",
   "id": "a436d11e-f801-4159-844a-b0a0e40d9f5e",
   "metadata": {},
   "source": [
    "\n",
    "<div\n",
    "  style=\"direction:rtl;line-height:200%;\">\n",
    "  <font face=\"B Nazanin\" size=4>\n",
    "    <font color=#4169e1 size=5>\n",
    "اثرات جانبی: Side effects\n",
    "</font>\n",
    "</div>\n"
   ]
  },
  {
   "cell_type": "markdown",
   "id": "397242b8-cd7c-4d26-84d3-f46bb6e18715",
   "metadata": {},
   "source": [
    "<div  style=\"direction:rtl;line-height:200%;\">\n",
    "  <font face=\"B nazanin\" size=5>\n",
    "    <p></p>\n",
    "به طور اختیاری، می‌توانیم هرگونه اثر جانبی کد را نیز در مستندات تابع ذکر کنیم.\n",
    "<br>\n",
    "<br>\n",
    "دلیل طراحی بر اساس قرارداداین است که در صورت وقوع خطاها، این خطاها باید به راحتی قابل شناسایی باشند (و با مشخص بودن اینکه آیا پیش‌شرط یا پس‌شرط شکست خورده است، می‌توانیم علت خطا را سریع‌تر پیدا کنیم و اصلاح کنیم). مهم‌تر اینکه، می‌خواهیم از اجرای بخش‌های حیاتی کد در شرایط اشتباه جلوگیری کنیم.\n",
    "\n",
    "</font>\n",
    "</div>\n"
   ]
  },
  {
   "cell_type": "markdown",
   "id": "a31c5600-8954-4bbf-82da-a4376e23b34b",
   "metadata": {},
   "source": [
    "<hr>"
   ]
  },
  {
   "cell_type": "markdown",
   "id": "634ae43e-fbf0-48a3-822a-bef049a394c2",
   "metadata": {},
   "source": [
    "<div\n",
    "  style=\"direction:rtl;line-height:200%;\">\n",
    "  <font face=\"B Nazanin\" size=4>\n",
    "    <font color=#000080 size=5>\n",
    "پیش‌شرط‌ها  Preconditions\n",
    "\n",
    "</font>\n",
    "</div>\n"
   ]
  },
  {
   "cell_type": "markdown",
   "id": "599f6cc2-edba-487c-9ed0-d8f906e9b9ab",
   "metadata": {},
   "source": [
    "<div  style=\"direction:rtl;line-height:200%;\">\n",
    "  <font face=\"B nazanin\" size=5>\n",
    "    <p></p>\n",
    "پیش‌شرط‌ها تضمین‌هایی هستند که یک تابع یا متد برای عملکرد صحیح خود انتظار دارد.\n",
    "<br>\n",
    "گاهی لازم است نوع دقیق داده‌هایی که ارائه می‌شود را بررسی کنیم. این بررسی دقیقاً مشابه بررسی نوع با ابزارهایی مثل mypy نیست، بلکه بیشتر به معنای بررسی مقادیر مشخص مورد نیاز است.\n",
    "\n",
    "</font>\n",
    "</div>\n"
   ]
  },
  {
   "cell_type": "markdown",
   "id": "e8abf4af-0675-4026-83d2-313749ab00ea",
   "metadata": {},
   "source": [
    "<div  style=\"direction:rtl;line-height:200%;\">\n",
    "  <font face=\"B nazanin\" size=5>\n",
    "    <p></p>\n",
    "بخشی از این بررسی‌ها را می‌توان با ابزارهای تحلیل استاتیک مانند mypy که در فصل اول معرفی شد، شناسایی کرد؛ اما این بررسی‌ها به تنهایی کافی نیستند. یک تابع باید اعتبارسنجی‌های مناسبی برای اطلاعاتی که قرار است پردازش کند، داشته باشد.\n",
    "<br>این موضوع پرسشی را مطرح می‌کند که منطق اعتبارسنجی باید کجا قرار گیرد؟\n",
    "\n",
    "</font>\n",
    "</div>\n"
   ]
  },
  {
   "cell_type": "markdown",
   "id": "11a591d5-80ee-4c55-aa7c-c24d1688439a",
   "metadata": {},
   "source": [
    "\n",
    "\n",
    "\n",
    "<div\n",
    "  style=\"direction:rtl;line-height:200%;\">\n",
    "  <font face=\"B Nazanin\" size=4>\n",
    "    <font color=#000080 size=5>\n",
    "پس‌شرط‌ها Postconditions\n",
    "\n",
    "</font>\n",
    "</div>\n"
   ]
  },
  {
   "cell_type": "markdown",
   "id": "280e49e3-2f05-488d-9e82-564c3b71e257",
   "metadata": {},
   "source": [
    "<div  style=\"direction:rtl;line-height:200%;\">\n",
    "  <font face=\"B nazanin\" size=5>\n",
    "    <p></p>\n",
    "پس‌شرط‌ها بخشی از قرارداد هستند که مسئولیت تضمین وضعیت درست سیستم پس از بازگشت تابع یا متد را بر عهده دارند.\n",
    "\n",
    "</font>\n",
    "</div>\n"
   ]
  },
  {
   "cell_type": "markdown",
   "id": "5905e88c-2a30-4721-beba-3b7a6c43e35c",
   "metadata": {},
   "source": [
    "<div\n",
    "  style=\"direction:rtl;line-height:200%;\">\n",
    "  <font face=\"B Nazanin\" size=4>\n",
    "    <font color=#000080 size=5>\n",
    "قراردادهای پایتونیک Pythonic contracts\n",
    "\n",
    "</font>\n",
    "</div>"
   ]
  },
  {
   "cell_type": "markdown",
   "id": "43557f31-410b-4c49-b606-6a9f8c5fe561",
   "metadata": {},
   "source": [
    "<div  style=\"direction:rtl;line-height:200%;\">\n",
    "  <font face=\"B nazanin\" size=5>\n",
    "    <p></p>\n",
    "در زمان نگارش این کتاب، PEP-316 با عنوان (برنامه‌نویسی بر اساس قرارداد برای پایتون) در وضعیت تعلیق قرار دارد,\n",
    "احتمالاً بهترین راه برای اعمال این اصل افزودن مکانیزم‌های کنترلی به متدها، توابع و کلاس‌ها است.\n",
    "<br>\n",
    "ما همچنین می‌خواهیم که کد را تا حد امکان ایزوله نگه داریم.\n",
    "\n",
    "</font>\n",
    "</div>\n"
   ]
  },
  {
   "cell_type": "markdown",
   "id": "38ff80ae-8bda-4190-858e-8cf18a593f6a",
   "metadata": {},
   "source": [
    "\n",
    "<div\n",
    "  style=\"direction:rtl;line-height:200%;\">\n",
    "  <font face=\"B Nazanin\" size=4>\n",
    "    <font color=#000080 size=5>\n",
    "نتیجه‌گیری < طراحی بر اساس قرارداد>\n",
    "<BR>\n",
    "Design by contract – conclusions\n",
    "\n",
    "</font>\n",
    "</div>\n"
   ]
  },
  {
   "cell_type": "markdown",
   "id": "fae78c60-464e-42c0-a75c-5390a38ceaf2",
   "metadata": {},
   "source": [
    "<div  style=\"direction:rtl;line-height:200%;\">\n",
    "  <font face=\"B nazanin\" size=5>\n",
    "    <p></p>\n",
    "ارزش اصلی این اصل طراحی در شناسایی مؤثر محل بروز مشکل است.\n",
    "<br>\n",
    "نتیجه پیروی از این اصل، مقاوم‌تر شدن کد خواهد بود.\n",
    "<br>\n",
    "این اصل همچنین به وضوح ساختار برنامه کمک می‌کند.\n",
    "<br>\n",
    "پیروی از این اصول قطعاً به کار بیشتری نیاز دارد.\n",
    "<br>\n",
    "با این حال، برای اثربخشی این روش، باید دقیقاً بررسی کنیم که چه مواردی برای اعتبارسنجی ارزش دارند و این موارد باید معنای مهمی داشته باشند.\n",
    "\n",
    "</font>\n",
    "</div>\n"
   ]
  },
  {
   "cell_type": "markdown",
   "id": "970afd5f-ee1c-45d1-8b05-897eed24ae56",
   "metadata": {},
   "source": [
    "<hr>"
   ]
  },
  {
   "cell_type": "markdown",
   "id": "39a24bde-23e1-4d26-9e83-dd2c1a027327",
   "metadata": {},
   "source": [
    "<div\n",
    "  style=\"direction:rtl;line-height:200%;\">\n",
    "  <font face=\"B Nazanin\" size=4>\n",
    "    <font color=#000080 size=5>\n",
    "برنامه‌ نویسی تدافعی Defensive Programming\n",
    "\n",
    "</font>\n",
    "</div>\n"
   ]
  },
  {
   "cell_type": "markdown",
   "id": "2afec85c-2965-433d-ad6d-5287e439e891",
   "metadata": {},
   "source": [
    "<div  style=\"direction:rtl;line-height:200%;\">\n",
    "  <font face=\"B nazanin\" size=5>\n",
    "    <p></p>\n",
    "برنامه‌نویسی تدافعی (Defensive Programming) رویکردی نسبتاً متفاوت از طراحی بر اساس قرارداد (DbC) دارد.\n",
    "<br>\n",
    "برنامه‌نویسی تدافعی تکنیکی با جنبه‌های مختلف است و اگر با اصول طراحی دیگر ترکیب شود، بسیار مفید خواهد بود.\n",
    "<br>\n",
    "ایده‌های اصلی برنامه‌نویسی تدافعی در نحوه‌ی مدیریت خطاها برای سناریوهایی است که احتمال وقوع آنها را انتظار داریم و نحوه‌ی برخورد با خطاهایی که نباید رخ دهند (شرایط غیرممکن).\n",
    "\n",
    "</font>\n",
    "</div>\n"
   ]
  },
  {
   "cell_type": "markdown",
   "id": "259639ce-ccb8-47f8-8d31-5fd3ebb5505e",
   "metadata": {},
   "source": [
    "<div\n",
    "  style=\"direction:rtl;line-height:200%;\">\n",
    "  <font face=\"B Nazanin\" size=4>\n",
    "    <font color=#000080 size=5>\n",
    "مدیریت خطا Error handling\n",
    "\n",
    "</font>\n",
    "</div>\n"
   ]
  },
  {
   "cell_type": "markdown",
   "id": "b4f8c2a7-80c8-448d-8cb2-d36a7ce92de1",
   "metadata": {},
   "source": [
    "<div  style=\"direction:rtl;line-height:200%;\">\n",
    "  <font face=\"B nazanin\" size=5>\n",
    "    <p></p>\n",
    "در برنامه‌های ما، از روش‌های مدیریت خطا برای موقعیت‌هایی استفاده می‌شود که احتمال وقوع خطا در آنها را پیش‌بینی می‌کنیم، مانند داده‌های ورودی. \n",
    "<br>\n",
    "ایده‌ی اصلی در مدیریت خطا این است که به صورت مؤثر به این خطاهای مورد انتظار پاسخ دهیم.\n",
    "<br>\n",
    "در برنامه‌نویسی، روش‌های مختلفی برای مدیریت خطا وجود دارد:\n",
    "<br>\n",
    "- جایگزینی مقدار (Value substitution)\n",
    "<br>\n",
    "- ثبت خطا (Error logging)\n",
    "<br>\n",
    "-مدیریت استثناها (Exception handling)\n",
    "\n",
    "</font>\n",
    "</div>\n"
   ]
  },
  {
   "cell_type": "markdown",
   "id": "418c5f74-db0f-4006-9967-a111e5fa1d53",
   "metadata": {},
   "source": [
    "<div\n",
    "  style=\"direction:rtl;line-height:200%;\">\n",
    "  <font face=\"B Nazanin\" size=4>\n",
    "    <font color=#000080 size=5>\n",
    "جایگزینی مقدار Value substitution\n",
    "\n",
    "</font>\n",
    "</div>\n"
   ]
  },
  {
   "cell_type": "markdown",
   "id": "e91d028a-1900-457a-9ed6-70d67133d475",
   "metadata": {},
   "source": [
    "<div  style=\"direction:rtl;line-height:200%;\">\n",
    "  <font face=\"B nazanin\" size=5>\n",
    "    <p></p>\n",
    "در برخی از سناریوها، وقتی خطایی رخ می‌دهد و احتمال تولید یک مقدار نادرست یا شکست کامل نرم‌افزار وجود دارد، ممکن است بتوانیم نتیجه را با یک مقدار دیگر و امن‌تر جایگزین کنیم.\n",
    "<br>\n",
    "با این حال، جایگزینی مقدار همیشه امکان‌پذیر نیست.\n",
    "<br>\n",
    "این روش ممکن است برای برخی نرم‌افزارها مناسب نباشد؛ به‌ویژه نرم‌افزارهای حیاتی یا داده‌های حساس.\n",
    "<br>\n",
    "یک نسخه امن‌تر از این تصمیم، استفاده ازمقادیر پیش‌فرض برای داده‌هایی است که ارائه نشده‌اند برای مثال :\n",
    "\n",
    "</font>\n",
    "</div>\n"
   ]
  },
  {
   "cell_type": "code",
   "execution_count": 14,
   "id": "320a01db-588f-428c-8fe4-61af77e2e00c",
   "metadata": {},
   "outputs": [
    {
     "data": {
      "text/plain": [
       "5432"
      ]
     },
     "execution_count": 14,
     "metadata": {},
     "output_type": "execute_result"
    }
   ],
   "source": [
    "configuration = {\"dbport\": 5432}\n",
    "configuration.get(\"dbhost\", \"localhost\")\n",
    "'localhost'\n",
    "configuration.get(\"dbport\")\n",
    "5432"
   ]
  },
  {
   "cell_type": "markdown",
   "id": "2431c92b-e331-47d8-ae64-0aadbb4602fd",
   "metadata": {},
   "source": [
    "<div  style=\"direction:rtl;line-height:200%;\">\n",
    "  <font face=\"B nazanin\" size=5>\n",
    "    <p></p>\n",
    "متغیرهای محیطی (Environment Variables) نیز API مشابهی دارند:   \n",
    "\n",
    "</font>\n",
    "</div>\n"
   ]
  },
  {
   "cell_type": "code",
   "execution_count": 15,
   "id": "ffdb0a05-c5aa-4b09-92b4-42196423f37d",
   "metadata": {},
   "outputs": [
    {
     "data": {
      "text/plain": [
       "5432"
      ]
     },
     "execution_count": 15,
     "metadata": {},
     "output_type": "execute_result"
    }
   ],
   "source": [
    "import os\n",
    "os.getenv(\"DBHOST\")\n",
    "'localhost'\n",
    "os.getenv(\"DPORT\", 5432)\n",
    "5432"
   ]
  },
  {
   "cell_type": "markdown",
   "id": "58441ea9-06ea-420d-924e-02a1a5944fab",
   "metadata": {},
   "source": [
    "<div  style=\"direction:rtl;line-height:200%;\">\n",
    "  <font face=\"B nazanin\" size=5>\n",
    "    <p></p>\n",
    "می‌توانیم برای پارامترهای توابع خودمان نیز مقادیر پیش‌فرض تعریف کنیم:\n",
    "\n",
    "</font>\n",
    "</div>\n"
   ]
  },
  {
   "cell_type": "markdown",
   "id": "eeb7ac67-ebbc-4d53-bc31-2e43ad43d202",
   "metadata": {},
   "source": [
    "```Python\n",
    "def connect_database(host=\"localhost\", port=5432):\n",
    "... logger.info(\"connecting to database server at %s:%i\", host,\n",
    "port)\n",
    "```"
   ]
  },
  {
   "cell_type": "markdown",
   "id": "c602c63e-1c66-45da-9420-21396bb6f635",
   "metadata": {},
   "source": [
    "<div  style=\"direction:rtl;line-height:200%;\">\n",
    "  <font face=\"B nazanin\" size=5>\n",
    "    <p></p>\n",
    "به طور کلی، جایگزینی پارامترهای غایب با مقادیر پیش‌فرض معمولاً قابل‌قبول است؛ اما جایگزین کردن داده‌های نادرست با مقادیر نزدیک به آن‌ها (که قانونی به‌نظر می‌رسند) خطرناک است و ممکن است برخی از خطاها را پنهان کند.\n",
    "\n",
    "</font>\n",
    "</div>\n"
   ]
  },
  {
   "cell_type": "markdown",
   "id": "aefe0668-13d7-473c-b509-894b56009cbc",
   "metadata": {},
   "source": [
    "<div\n",
    "  style=\"direction:rtl;line-height:200%;\">\n",
    "  <font face=\"B Nazanin\" size=4>\n",
    "    <font color=#000080 size=5>\n",
    "مدیریت استثناها در سطح مناسب انتزاع \n",
    "\n",
    "\n",
    "</font>\n",
    "</div>\n"
   ]
  },
  {
   "cell_type": "markdown",
   "id": "9a1823d6-3168-4515-998f-85cca07c09d1",
   "metadata": {},
   "source": [
    "<div  style=\"direction:rtl;line-height:200%;\">\n",
    "  <font face=\"B nazanin\" size=5>\n",
    "    <p></p>\n",
    "استثناها همچنین بخشی از توابع اصلی هستند که یک کار انجام می‌دهند و فقط یک کار. استثنایی که تابع در حال مدیریت یا ایجاد آن است باید با منطق انتزاع شده در آن سازگار باشد.\n",
    "<br>\n",
    "در مثال زیر، می‌توانیم ببینیم که منظور ما از مخلوط کردن سطوح مختلف انتزاع چیست.\n",
    "\n",
    "</font>\n",
    "</div>\n"
   ]
  },
  {
   "cell_type": "code",
   "execution_count": 1,
   "id": "779b1864-0909-44a2-93eb-2ed9a33f3a7a",
   "metadata": {},
   "outputs": [
    {
     "name": "stdout",
     "output_type": "stream",
     "text": [
      "Connecting...\n",
      "Sending data: b'Test Data'\n"
     ]
    }
   ],
   "source": [
    "import time\n",
    "import logging\n",
    "\n",
    "# تنظیم logger\n",
    "logger = logging.getLogger(__name__)\n",
    "logging.basicConfig(level=logging.INFO)\n",
    "\n",
    "# فرض کنیم کلاس‌های Connector و Event به صورت زیر تعریف شده‌اند\n",
    "class Connector:\n",
    "    def connect(self):\n",
    "        # فرض کنید اتصال برقرار می‌شود\n",
    "        print(\"Connecting...\")\n",
    "        return self\n",
    "\n",
    "    def send(self, data):\n",
    "        # فرض کنید داده ارسال می‌شود\n",
    "        print(f\"Sending data: {data}\")\n",
    "\n",
    "class Event:\n",
    "    def __init__(self, data):\n",
    "        self.data = data\n",
    "\n",
    "    def decode(self):\n",
    "        # فرض کنید داده‌ها به صورت بایت‌ها دیکد می‌شوند\n",
    "        return self.data.encode('utf-8')\n",
    "\n",
    "class DataTransport:\n",
    "    \"\"\" \n",
    "    An example of an object handling exceptions of different\n",
    "    levels.\n",
    "    \"\"\"\n",
    "    _RETRY_BACKOFF: int = 5\n",
    "    _RETRY_TIMES: int = 3\n",
    "    \n",
    "    def __init__(self, connector: Connector) -> None:\n",
    "        self._connector = connector\n",
    "        self.connection = None\n",
    "\n",
    "    def deliver_event(self, event: Event):\n",
    "        try:\n",
    "            self.connect()\n",
    "            data = event.decode()\n",
    "            self.send(data)\n",
    "        except ConnectionError as e:\n",
    "            logger.info(\"Connection error detected: %s\", e)\n",
    "            raise\n",
    "        except ValueError as e:\n",
    "            logger.error(\"%r contains incorrect data: %s\", event, e)\n",
    "            raise\n",
    "\n",
    "    def connect(self):\n",
    "        for _ in range(self._RETRY_TIMES):\n",
    "            try:\n",
    "                self.connection = self._connector.connect()\n",
    "            except ConnectionError as e:\n",
    "                logger.info(\"%s: attempting new connection in %is\", e, self._RETRY_BACKOFF)\n",
    "                time.sleep(self._RETRY_BACKOFF)\n",
    "            else:\n",
    "                return self.connection\n",
    "        raise ConnectionError(f\"Couldn't connect after {self._RETRY_TIMES} times\")\n",
    "\n",
    "    def send(self, data: bytes):\n",
    "        return self.connection.send(data)\n",
    "\n",
    "# مثال استفاده\n",
    "connector = Connector()\n",
    "event = Event(\"Test Data\")\n",
    "transport = DataTransport(connector)\n",
    "\n",
    "# ارسال رویداد\n",
    "try:\n",
    "    transport.deliver_event(event)\n",
    "except Exception as e:\n",
    "    print(f\"Error: {e}\")\n",
    "\n"
   ]
  },
  {
   "cell_type": "markdown",
   "id": "e3df6e80-f970-4e71-be94-1eaede1caba2",
   "metadata": {},
   "source": [
    "<div  style=\"direction:rtl;line-height:200%;\">\n",
    "  <font face=\"B nazanin\" size=5>\n",
    "    <p></p>\n",
    "ValueError چه ربطی به ConnectionError دارد؟\n",
    "</font>\n",
    "</div>\n"
   ]
  },
  {
   "cell_type": "code",
   "execution_count": 4,
   "id": "eb18f8a8-e880-40f6-a3eb-5cc2cefbe66a",
   "metadata": {},
   "outputs": [],
   "source": [
    "def connect_with_retry(connector: Connector, retry_n_times: int, retry_backoff: int = 5):\n",
    "    \"\"\"Tries to establish the connection of <connector> retrying\n",
    "    <retry_n_times>, and waiting <retry_backoff> seconds between \n",
    "    attempts.\n",
    "    If it can connect, returns the connection object.\n",
    "    If it's not possible to connect after the retries have been \n",
    "    exhausted, raises ``ConnectionError``.\n",
    "    :param connector: An object with a ``.connect()`` method.\n",
    "    :param retry_n_times int: The number of times to try to call\n",
    "    ``connector.connect()``.\n",
    "    :param retry_backoff int: The time lapse between retry calls.\n",
    "    \"\"\"\n",
    "    for _ in range(retry_n_times):\n",
    "            try:\n",
    "                return connector.connect()\n",
    "            except ConnectionError as e:\n",
    "                logger.info(\"%s: attempting new connection in %is\", e, retry_backoff)\n",
    "                time.sleep(retry_backoff)\n",
    "                exc = ConnectionError(f\"Couldn't connect after {retry_n_times} times\")\n",
    "                logger.exception(exc)\n",
    "                raise exc"
   ]
  },
  {
   "cell_type": "markdown",
   "id": "125136ec-1831-42d8-9b5a-a4d2e76d660e",
   "metadata": {},
   "source": [
    "<div  style=\"direction:rtl;line-height:200%;\">\n",
    "  <font face=\"B nazanin\" size=5>\n",
    "    <p></p>\n",
    "   با در نظر گرفتن این دو نکته، نسخه جدید متد بسیار جمع و جورتر و قابل خواندن‌تر خواهد بود:\n",
    "\n",
    "</font>\n",
    "</div>\n"
   ]
  },
  {
   "cell_type": "code",
   "execution_count": 3,
   "id": "3f20b0c5-8054-4a3c-b1ad-89c0042fa5c6",
   "metadata": {},
   "outputs": [],
   "source": [
    "\n",
    "class DataTransport:\n",
    "    \"\"\"An example of an object that separates the exception handling by\n",
    "    abstraction levels.\n",
    "    \"\"\"\n",
    "    _RETRY_BACKOFF: int = 5\n",
    "    _RETRY_TIMES: int = 3\n",
    "    \n",
    "    def __init__(self, connector: Connector) -> None:\n",
    "        self._connector = connector\n",
    "        self.connection = None\n",
    "       \n",
    "    def deliver_event(self, event: Event):\n",
    "        self.connection = connect_with_retry(self._connector, self._RETRY_TIMES, self._RETRY_BACKOFF)\n",
    "        self.send(event)\n",
    "       \n",
    "    def send(self, event: Event):\n",
    "        try:\n",
    "            return self.connection.send(event.decode())\n",
    "        except ValueError as e:\n",
    "            logger.error(\"%r contains incorrect data: %s\", event, e)\n",
    "            raise\n",
    "\n"
   ]
  },
  {
   "cell_type": "markdown",
   "id": "9d367743-760d-4bbb-8615-034f92e97b9a",
   "metadata": {},
   "source": [
    "<div  style=\"direction:rtl;line-height:200%;\">\n",
    "  <font face=\"B nazanin\" size=5>\n",
    "    <p></p>\n",
    "حالا مشاهده می‌کنیم که چگونه جداسازی کلاس‌های استثنا، جداسازی مسئولیت‌ها را نیز مشخص می‌کند.\n",
    "\n",
    "</font>\n",
    "</div>\n"
   ]
  },
  {
   "cell_type": "markdown",
   "id": "51d381e9-7d60-4502-9ad9-20d6855944d0",
   "metadata": {},
   "source": [
    "<div\n",
    "  style=\"direction:rtl;line-height:200%;\">\n",
    "  <font face=\"B Nazanin\" size=4>\n",
    "    <font color=#000080 size=5>\n",
    "استثناها را برای کاربران نهایی افشا نکنید Do not expose tracebacks to end users\n",
    "</font>\n",
    "</div>\n"
   ]
  },
  {
   "cell_type": "markdown",
   "id": "d199f17e-d5ca-45f2-a5b3-124530618d8a",
   "metadata": {},
   "source": [
    "\n",
    "\n",
    "\n",
    "\n",
    "<div  style=\"direction:rtl;line-height:200%;\">\n",
    "  <font face=\"B nazanin\" size=5>\n",
    "    <p></p>\n",
    "این یک ملاحظه امنیتی است.\n",
    "<br>\n",
    "هنگامی که یک استثنا نشان‌دهنده یک مشکل است، مهم است که آن را با جزئیات زیاد (شامل اطلاعات traceback، پیام و تمام آنچه که می‌توانیم جمع‌آوری کنیم) ثبت کنیم تا مشکل به طور مؤثر اصلاح شود.\n",
    "<br>\n",
    "در پایتون، tracebackهای استثناها شامل اطلاعات بسیار غنی و مفیدی برای اشکال‌زدایی هستند.\n",
    "<br>\n",
    "اگر تصمیم به انتشار استثناها دارید، مطمئن شوید که هیچ‌گونه اطلاعات حساس را افشا نکنید.\n",
    "\n",
    "</font>\n",
    "</div>\n"
   ]
  },
  {
   "cell_type": "markdown",
   "id": "89048623-743d-48fb-b94e-2c0961ab6a78",
   "metadata": {},
   "source": [
    "<div\n",
    "  style=\"direction:rtl;line-height:200%;\">\n",
    "  <font face=\"B Nazanin\" size=4>\n",
    "    <font color=#000080 size=5>\n",
    "از بلاک‌های except خالی اجتناب کنیدAvoid empty except blocks\n",
    "\n",
    "</font>\n",
    "</div>\n"
   ]
  },
  {
   "cell_type": "markdown",
   "id": "d2ee409b-af7b-4a43-8a66-50886720321c",
   "metadata": {},
   "source": [
    "<div  style=\"direction:rtl;line-height:200%;\">\n",
    "  <font face=\"B nazanin\" size=5>\n",
    "    <p></p>\n",
    "این موضوع حتی به عنوان بدترین ضدالگو در پایتون شناخته شده است.\n",
    "      <br>\n",
    "پایتون آنقدر انعطاف‌پذیر است که به ما این امکان را می‌دهد که کدی بنویسیم که ممکن است دارای اشکال باشد و با این حال، هیچ خطایی ایجاد نکند، مانند این:\n",
    "</font>\n",
    "</div>\n"
   ]
  },
  {
   "cell_type": "code",
   "execution_count": 21,
   "id": "0c946ff4-3d8c-482e-af47-d4a1871e6d37",
   "metadata": {},
   "outputs": [],
   "source": [
    "try:\n",
    "    process_data()\n",
    "except:\n",
    "    pass"
   ]
  },
  {
   "cell_type": "markdown",
   "id": "dcca0cdd-a2ec-46de-b7dc-9ccf7f0e4b4c",
   "metadata": {},
   "source": [
    "<div  style=\"direction:rtl;line-height:200%;\">\n",
    "  <font face=\"B nazanin\" size=5>\n",
    "    <p></p>\n",
    "مشکل این است که این کد هیچ‌گاه خطا نمی‌دهد، حتی زمانی که باید این‌گونه باشد.\n",
    "\n",
    "</font>\n",
    "</div>\n"
   ]
  },
  {
   "cell_type": "markdown",
   "id": "79fab73f-e66a-425d-a425-0de8d0781ebd",
   "metadata": {},
   "source": [
    "<div\n",
    "  style=\"direction:rtl;line-height:200%;\">\n",
    "  <font face=\"B Nazanin\" size=4>\n",
    "    <font color=#0000cd size=5>\n",
    "محیط یکپارچه‌سازی مداوم خود را (با استفاده از ابزارهایی مانند آن‌هایی که در فصل اول، مقدمه، فرمت‌بندی کد و ابزارها بررسی شدند) پیکربندی کنید تا به‌طور خودکار بلوک‌های استثنای خالی را گزارش دهد.\n",
    "\n",
    "</font>\n",
    "</div>\n"
   ]
  },
  {
   "cell_type": "markdown",
   "id": "83ebb73e-c477-4854-b8e0-3f3153c284d6",
   "metadata": {},
   "source": [
    "<div  style=\"direction:rtl;line-height:200%;\">\n",
    "  <font face=\"B nazanin\" size=5>\n",
    "    <p></p>\n",
    "در صورت وقوع استثنا، این بلوک کد اجرا نمی‌شود و ممکن است این همان چیزی باشد که ما در ابتدا می‌خواستیم.\n",
    "\n",
    "</font>\n",
    "</div>\n"
   ]
  },
  {
   "cell_type": "markdown",
   "id": "6a42d84e-5280-415f-bb2e-7b5e39266284",
   "metadata": {},
   "source": [
    "<div  style=\"direction:rtl;line-height:200%;\">\n",
    "  <font face=\"B nazanin\" size=5>\n",
    "    <p></p>\n",
    "دو جایگزین وجود دارد:\n",
    "<br>\n",
    "• گرفتن استثنای خاص‌تری (نه آنقدر گسترده که شامل `Exception` شود).\n",
    "<br>\n",
    "• انجام برخی از اقدامات واقعی برای مدیریت خطا در بلوک ecexpt\n",
    "</font>\n",
    "</div>\n"
   ]
  },
  {
   "cell_type": "markdown",
   "id": "95430543-4cd0-453e-b3fe-5c01d83b0df1",
   "metadata": {},
   "source": [
    "<div  style=\"direction:rtl;line-height:200%;\">\n",
    "  <font face=\"B nazanin\" size=5>\n",
    "    <p></p>\n",
    "بهترین کار این است که هر دو توصیه را به‌کار ببریم.\n",
    "<br>\n",
    "مدیریت خود استثنا می‌تواند معانی مختلفی داشته باشد.\n",
    "</font>\n",
    "</div>\n"
   ]
  },
  {
   "cell_type": "markdown",
   "id": "fc5f3001-256f-40fa-bddd-0242bb382ae5",
   "metadata": {},
   "source": [
    "\n",
    "\n",
    "<div\n",
    "  style=\"direction:rtl;line-height:200%;\">\n",
    "  <font face=\"B Nazanin\" size=4>\n",
    "    <font color=#0000cd size=5>\n",
    "اگر تصمیم بگیرید که یک استثنای دیگر را پرتاب کنید، استثنای اصلی که باعث مشکل شده را نیز در آن گنجانید (برای اطلاعات بیشتر به بخش بعدی مراجعه کنید)\n",
    "\n",
    "</font>\n",
    "</div>\n"
   ]
  },
  {
   "cell_type": "markdown",
   "id": "4deda7ac-6b5c-4fcd-a427-f9a9d70df65b",
   "metadata": {},
   "source": [
    "<div  style=\"direction:rtl;line-height:200%;\">\n",
    "  <font face=\"B nazanin\" size=5>\n",
    "    <p></p>\n",
    "دلیل دیگر برای اجتناب از استفاده از بلوک `except` خالی با استفاده از`pass` این است که این کار به صورت ضمنی است.\n",
    "<br>\n",
    "در مثال ما، ممکن است این طور به نظر برسد:\n",
    "</font>\n",
    "</div>\n"
   ]
  },
  {
   "cell_type": "code",
   "execution_count": 11,
   "id": "777d6380-dec6-4437-a531-51080bd204a0",
   "metadata": {},
   "outputs": [
    {
     "name": "stdout",
     "output_type": "stream",
     "text": [
      "Program continues...\n"
     ]
    }
   ],
   "source": [
    "import contextlib\n",
    "\n",
    "# فرض بر این است که process_data() ممکن است یک KeyError ایجاد کند\n",
    "def process_data():\n",
    "    # شبیه‌سازی یک KeyError\n",
    "    data = {\"key\": \"value\"}\n",
    "    return data[\"non_existing_key\"]  # این خط باعث بروز KeyError می‌شود\n",
    "\n",
    "# استفاده از contextlib.suppress برای نادیده گرفتن KeyError\n",
    "with contextlib.suppress(KeyError):\n",
    "    process_data()\n",
    "\n",
    "# ادامه اجرای برنامه\n",
    "print(\"Program continues...\")\n"
   ]
  },
  {
   "cell_type": "markdown",
   "id": "87993736-8777-4ae6-abf5-430f471dab3a",
   "metadata": {},
   "source": [
    "\n",
    "<div\n",
    "  style=\"direction:rtl;line-height:200%;\">\n",
    "  <font face=\"B Nazanin\" size=4>\n",
    "    <font color=#000080 size=5>\n",
    "استثنای اصلی را درج کنید Include the original exception\n",
    "\n",
    "</font>\n",
    "</div>\n"
   ]
  },
  {
   "cell_type": "markdown",
   "id": "c6d7ec6e-2e71-48ec-a999-9a3b5fedb73f",
   "metadata": {},
   "source": [
    "<div  style=\"direction:rtl;line-height:200%;\">\n",
    "  <font face=\"B nazanin\" size=5>\n",
    "    <p></p>\n",
    "به عنوان بخشی از منطق رسیدگی به خطا، ممکن است تصمیم بگیریم که یکی دیگر را مطرح کنیم و شاید حتی پیام آن را تغییر دهیم.\n",
    "<br>\n",
    "برای مثال، اگر بخواهیم استثناهای پیش‌فرض را با موارد سفارشی به صورت داخلی در پروژه خود بپیچیم، همچنان می‌توانیم این کار را در حالی انجام دهیم که اطلاعات مربوط به ریشه را نیز شامل می‌شود:\n",
    "</font>\n",
    "</div>\n"
   ]
  },
  {
   "cell_type": "code",
   "execution_count": 12,
   "id": "7dcb43a8-74fa-4d46-b96a-106cb5114b81",
   "metadata": {},
   "outputs": [],
   "source": [
    "class InternalDataError(Exception):\n",
    "      \"\"\"An exception with the data of our domain problem.\"\"\"\n",
    "\n",
    "\n",
    "def process(data_dictionary, record_id):\n",
    "    try:\n",
    "        return data_dictionary[record_id]\n",
    "    except KeyError as e:\n",
    "         raise InternalDataError(\"Record not present\") from e"
   ]
  },
  {
   "cell_type": "markdown",
   "id": "bf127f26-c15d-4773-b2a4-9883b42a9aa4",
   "metadata": {},
   "source": [
    "<div\n",
    "  style=\"direction:rtl;line-height:200%;\">\n",
    "  <font face=\"B Nazanin\" size=4>\n",
    "    <font color=#0000cd size=5>\n",
    "همیشه از دستورزیر زمانی که نوع استثنا را تغییر می‌دهید، استفاده کنید.\n",
    "\n",
    "</font>\n",
    "</div>\n"
   ]
  },
  {
   "cell_type": "code",
   "execution_count": 13,
   "id": "7d5d1988-a9e3-4255-a7a1-f494b93ab19b",
   "metadata": {},
   "outputs": [
    {
     "ename": "SyntaxError",
     "evalue": "invalid syntax (1047087286.py, line 1)",
     "output_type": "error",
     "traceback": [
      "\u001b[1;36m  Cell \u001b[1;32mIn[13], line 1\u001b[1;36m\u001b[0m\n\u001b[1;33m    raise <e> from <o>\u001b[0m\n\u001b[1;37m          ^\u001b[0m\n\u001b[1;31mSyntaxError\u001b[0m\u001b[1;31m:\u001b[0m invalid syntax\n"
     ]
    }
   ],
   "source": [
    "raise <e> from <o>"
   ]
  },
  {
   "cell_type": "markdown",
   "id": "d770ce1e-d95e-4b01-99a3-5388939112d6",
   "metadata": {},
   "source": [
    "<div\n",
    "  style=\"direction:rtl;line-height:200%;\">\n",
    "  <font face=\"B Nazanin\" size=4>\n",
    "    <font color=#000080 size=5>\n",
    "استفاده از Assertions در پایتون:\n",
    "\n",
    "</font>\n",
    "</div>\n"
   ]
  },
  {
   "cell_type": "markdown",
   "id": "3ce72eb6-78e9-4db6-94cc-c1a32f04069e",
   "metadata": {},
   "source": [
    "<div  style=\"direction:rtl;line-height:200%;\">\n",
    "  <font face=\"B nazanin\" size=5>\n",
    "    <p></p>\n",
    "Assertionsبه شرایطی اطلاق می‌شود که نباید هرگز اتفاق بیافتند، بنابراین عبارت داخل دستور `assert` باید به معنای یک شرط غیرممکن باشد.\n",
    "<br>\n",
    "ایده استفاده از assertions این است که از ایجاد آسیب بیشتر توسط برنامه در صورت مواجهه با سناریوی نادرست جلوگیری شود.\n",
    "<br>\n",
    "یک  assertion شرطی بولی در کد است که باید برای صحت برنامه برقرار باشد.\n",
    "</font>\n",
    "</div>\n"
   ]
  },
  {
   "cell_type": "code",
   "execution_count": null,
   "id": "aaa6f631-a25e-45ce-a756-9a9c408c40c0",
   "metadata": {},
   "outputs": [],
   "source": [
    "try:\n",
    "    assert condition.holds(), \"Condition is not satisfied\"\n",
    "except AssertionError:\n",
    "    alternative_procedure()"
   ]
  },
  {
   "cell_type": "markdown",
   "id": "2f76009c-d6fc-453f-a8b7-ff862c70756c",
   "metadata": {},
   "source": [
    "<div\n",
    "  style=\"direction:rtl;line-height:200%;\">\n",
    "  <font face=\"B Nazanin\" size=4>\n",
    "    <font color=#0000cd size=5>\n",
    "از گرفتن استثنای AssertionError خودداری کنید زیرا این ممکن است برای خوانندگان کد گیج‌کننده باشد. اگر انتظار دارید که قسمتی از کد شما یک استثنا را ایجاد کند، سعی کنید از یک استثنای خاص‌تر استفاده کنید.\n",
    "\n",
    "</font>\n",
    "</div>\n"
   ]
  },
  {
   "cell_type": "markdown",
   "id": "ea338a2b-533c-4409-94a3-3f5eb96a1062",
   "metadata": {},
   "source": [
    "<div  style=\"direction:rtl;line-height:200%;\">\n",
    "  <font face=\"B nazanin\" size=5>\n",
    "    <p></p>\n",
    "مشاوره قبلی در مورد گرفتن استثنای  AssertionError در جهت جلوگیری از خراب شدن بی‌صدا و بی‌خبر برنامه است.\n",
    "مطمئن شوید که برنامه زمانی که یک  Assertion شکست می‌خورد، خاتمه می‌یابد.\n",
    "<br>\n",
    "دلیل دیگری که چرا کد قبلی ایده بدی است این است که علاوه بر گرفتن AssertionError، عبارت در دستور  assert یک فراخوانی تابع است.\n",
    "<br>\n",
    "یک جایگزین بهتر به چند خط کد بیشتر نیاز دارد، اما اطلاعات مفیدتری را فراهم می‌آورد.\n",
    "\n",
    "</font>\n",
    "</div>\n"
   ]
  },
  {
   "cell_type": "code",
   "execution_count": null,
   "id": "d5b1c910-add0-4f2f-a10f-8f28fe41f8c0",
   "metadata": {},
   "outputs": [],
   "source": [
    "result = condition.holds()\n",
    "assert result > 0, f\"Error with {result}"
   ]
  },
  {
   "cell_type": "markdown",
   "id": "ab06ac45-811e-4c2f-9a00-b03e02fffaea",
   "metadata": {},
   "source": [
    "<div  style=\"direction:rtl;line-height:200%;\">\n",
    "  <font face=\"B nazanin\" size=5>\n",
    "    <p></p>\n",
    "حال این سوال پیش می آید که رابطه میان  assertions و exception چیست ؟\n",
    "</font>\n",
    "</div>\n"
   ]
  },
  {
   "cell_type": "markdown",
   "id": "d531db2f-19e2-4ac1-bafe-eefb43f3d8de",
   "metadata": {},
   "source": [
    "<hr>"
   ]
  },
  {
   "cell_type": "markdown",
   "id": "dc96fc97-215d-403b-8ac7-6808875ede7d",
   "metadata": {},
   "source": [
    "<div\n",
    "  style=\"direction:rtl;line-height:200%;\">\n",
    "  <font face=\"B Nazanin\" size=4>\n",
    "    <font color=#000080 size=5>\n",
    "تفکیک مسئولیت‌ ها (Separation of Concerns)\n",
    "</font>\n",
    "</div>"
   ]
  },
  {
   "cell_type": "markdown",
   "id": "865f180c-edb8-4ae1-b602-24ae8e5eed7f",
   "metadata": {},
   "source": [
    "<div  style=\"direction:rtl;line-height:200%;\">\n",
    "  <font face=\"B nazanin\" size=5>\n",
    "    <p></p>\n",
    "این یک اصل طراحی است که در سطوح مختلف اعمال می‌شود. در برنامه‌نویسی و به‌ ویژه در طراحی نرم‌افزارتفکیک مسئولیت‌ ها یکی از اصول کلیدی است که به معنای تفکیک بخش‌های مختلف یک برنامه بر اساس وظایف و مسئولیت‌های آن‌ها است.\n",
    "<br>\n",
    "هر قسمت از برنامه باید فقط مسئول یک بخش از عملکرد باشد و نباید چیزی در مورد سایر بخش‌ها بداند.\n",
    "</font>\n",
    "</div>"
   ]
  },
  {
   "cell_type": "markdown",
   "id": "ab61c7bd-4d25-4135-b8a8-41a1dbc7ec90",
   "metadata": {},
   "source": [
    "<div\n",
    "  style=\"direction:rtl;line-height:200%;\">\n",
    "  <font face=\"B Nazanin\" size=4>\n",
    "    <font color=#4169E1 size=5>\n",
    "مزایای تفکیک مسئولیت‌ ها\n",
    "</font>\n",
    "</div>"
   ]
  },
  {
   "cell_type": "markdown",
   "id": "55a23de4-22e8-4794-becf-e003ffc17d12",
   "metadata": {},
   "source": [
    "<div  style=\"direction:rtl;line-height:200%;\">\n",
    "  <font face=\"B nazanin\" size=5>\n",
    "    <p></p>\n",
    "•\tنگهداری و تغییرات آسان\n",
    "<br>\n",
    "•\tقابلیت تست\n",
    "<br>\n",
    "•\tافزایش خوانایی\n",
    "<br>\n",
    "•\tمقیاس‌پذیری\n",
    "</font>\n",
    "</div>"
   ]
  },
  {
   "cell_type": "markdown",
   "id": "4abd1d64-1f15-4f88-9a7a-2fedca544e4f",
   "metadata": {},
   "source": [
    "<div  style=\"direction:rtl;line-height:200%;\">\n",
    "  <font face=\"B nazanin\" size=5>\n",
    "    <p></p>\n",
    "مفهوم تفکیک مسئولیت‌ها به ماژول‌ها، پکیج‌ها و اساساً هر جزء نرم‌افزاری نیز اعمال می‌شود.\n",
    "\n",
    "</font>\n",
    "</div>"
   ]
  },
  {
   "cell_type": "markdown",
   "id": "45912486-6cf8-4a2d-be5a-bfb0351a0761",
   "metadata": {},
   "source": [
    "<hr>"
   ]
  },
  {
   "cell_type": "markdown",
   "id": "bdc34e2e-0783-478b-a5b4-0c024f592486",
   "metadata": {},
   "source": [
    "<div\n",
    "  style=\"direction:rtl;line-height:200%;\">\n",
    "  <font face=\"B Nazanin\" size=4>\n",
    "    <font color=#000080 size=5>\n",
    "انسجام و پیوستگی(Cohesion/ Coupling)\n",
    "</font>\n",
    "</div>"
   ]
  },
  {
   "cell_type": "markdown",
   "id": "6648bb11-cac4-4991-8e87-9f1b594e7616",
   "metadata": {},
   "source": [
    "<div  style=\"direction:rtl;line-height:200%;\">\n",
    "  <font face=\"B nazanin\" size=5>\n",
    "    <p></p>\n",
    "انسجام   (Cohesion)به این معناست که اشیاء باید هدفی کوچک و مشخص داشته باشند و باید کمترین کار ممکن را انجام دهند. هرچه اشیاء ما همبستگی بیشتری داشته باشند، مفیدتر و قابل استفاده مجددتر خواهند بود و طراحی ما بهتر خواهد شد.\n",
    "</font>\n",
    "</div>"
   ]
  },
  {
   "cell_type": "markdown",
   "id": "ada4667f-182a-41cf-9c2e-91d9b6545a5c",
   "metadata": {},
   "source": [
    "<div\n",
    "  style=\"direction:rtl;line-height:200%;\">\n",
    "  <font face=\"B Nazanin\" size=4>\n",
    "    <font color=#4169E1 size=5>\n",
    "کدی با انسجام بالا:\n",
    "</font>\n",
    "</div>"
   ]
  },
  {
   "cell_type": "markdown",
   "id": "8a3c4b50-a975-4bb7-baaa-c552937ba23e",
   "metadata": {},
   "source": [
    "<div  style=\"direction:rtl;line-height:200%;\">\n",
    "  <font face=\"B nazanin\" size=5>\n",
    "    <p></p>\n",
    "•  قابل فهم‌تر\n",
    "<br> \n",
    "•  قابل نگهداری‌\n",
    "<br>\n",
    "•  قابلیت استفاده مجدد\n",
    "\n",
    "</font>\n",
    "</div>"
   ]
  },
  {
   "cell_type": "markdown",
   "id": "f26aab17-4065-4202-b2d1-ca5ad52cea89",
   "metadata": {},
   "source": [
    "<div  style=\"direction:rtl;line-height:200%;\">\n",
    "  <font face=\"B nazanin\" size=5>\n",
    "    <p></p>\n",
    "پیوستگی  (Coupling)به میزان وابستگی و ارتباط بین اجزای مختلف کد اشاره دارد.\n",
    "</font>\n",
    "</div>"
   ]
  },
  {
   "cell_type": "markdown",
   "id": "32f0b7fe-23ca-4795-a82a-c22942c2dd2f",
   "metadata": {},
   "source": [
    "<div\n",
    "  style=\"direction:rtl;line-height:200%;\">\n",
    "  <font face=\"B Nazanin\" size=4>\n",
    "    <font color=#4169E1 size=5>\n",
    "کد با پیوستگی کم:\n",
    "\n",
    "</font>\n",
    "</div>"
   ]
  },
  {
   "cell_type": "markdown",
   "id": "23e20045-76c4-49a2-9d79-b856c18fde86",
   "metadata": {},
   "source": [
    "<div  style=\"direction:rtl;line-height:200%;\">\n",
    "  <font face=\"B nazanin\" size=5>\n",
    "    <p></p>\n",
    "•  قابل تست و نگهداری‌\n",
    "<br>\n",
    "•  انعطاف‌پذیرتر \n",
    "\n",
    "</font>\n",
    "</div>"
   ]
  },
  {
   "cell_type": "markdown",
   "id": "d4710bb7-26cf-41a0-9647-c4960579d115",
   "metadata": {},
   "source": [
    "<div  style=\"direction:rtl;line-height:200%;\">\n",
    "  <font face=\"B nazanin\" size=5>\n",
    "    <p></p>\n",
    "نرم‌افزار خوب طراحی شده همبستگی بالا و پیوستگی پایین خواهد داشت.\n",
    "\n",
    "</font>\n",
    "</div>"
   ]
  },
  {
   "cell_type": "markdown",
   "id": "9949bcd1-0bb9-4bae-bb62-c39f291e3352",
   "metadata": {},
   "source": [
    "<hr>"
   ]
  },
  {
   "cell_type": "markdown",
   "id": "c7d057af-7175-4c31-8bef-10e1546b04e0",
   "metadata": {},
   "source": [
    "<div\n",
    "  style=\"direction:rtl;line-height:200%;\">\n",
    "  <font face=\"B Nazanin\" size=4>\n",
    "    <font color=#000080 size=5>\n",
    "DRY/OAOO\n",
    "</font>\n",
    "</div>"
   ]
  },
  {
   "cell_type": "markdown",
   "id": "04066132-a6ff-4520-bf9d-aab23134625e",
   "metadata": {},
   "source": [
    "<div  style=\"direction:rtl;line-height:200%;\">\n",
    "  <font face=\"B nazanin\" size=5>\n",
    "    <p></p>\n",
    "به هم مرتبط هستند، بنابراین در اینجا با هم گنجانده شده‌اند:\n",
    "</font>\n",
    "</div>"
   ]
  },
  {
   "cell_type": "markdown",
   "id": "f3b49e89-f0c2-460e-862c-c4d1524dc352",
   "metadata": {},
   "source": [
    "<div  style=\"direction:rtl;line-height:200%;\">\n",
    "  <font face=\"B nazanin\" size=5>\n",
    "    <p></p>\n",
    " DRY به معنای \"خودت رو تکرار نکن\" است. این اصل می‌گوید که هر بخش از دانش یا منطق در کد تنها باید یک‌بار در برنامه تعریف شود و از تکرار کد مشابه یا کد تکراری باید اجتناب کرد. \n",
    "<br>\n",
    " OAOO یا \"یک‌بار و فقط یک‌بار\" مشابه اصل  DRY است و بر این ایده تاکید دارد که هر عنصر یا منطق باید یک‌بار و فقط یک‌بار در کد نوشته شود.\n",
    "</font>\n",
    "</div>"
   ]
  },
  {
   "cell_type": "markdown",
   "id": "35a95c3c-5980-47c9-9f50-f288ed84768b",
   "metadata": {},
   "source": [
    "<div\n",
    "  style=\"direction:rtl;line-height:200%;\">\n",
    "  <font face=\"B Nazanin\" size=4>\n",
    "    <font color=#4169E1 size=5>\n",
    "تفاوت DRY و OAOO:\n",
    "\n",
    "</font>\n",
    "</div>"
   ]
  },
  {
   "cell_type": "markdown",
   "id": "9cb728a8-265d-4aa0-a406-1a18fbb5902c",
   "metadata": {},
   "source": [
    "<div  style=\"direction:rtl;line-height:200%;\">\n",
    "  <font face=\"B nazanin\" size=5>\n",
    "    <p></p>\n",
    "تکرار کد بسیار نامطلوب است به دلیل پیامدهای منفی زیادی که دارد:\n",
    "<br>\n",
    "•\tمستعد خطا \n",
    "<br>\n",
    "•\tهزینه ‌بر\n",
    "<br>\n",
    "•\tغیرقابل اعتماد\n",
    "\n",
    "</font>\n",
    "</div>"
   ]
  },
  {
   "cell_type": "markdown",
   "id": "632f0f68-b14e-469a-93c7-55abbef256c0",
   "metadata": {},
   "source": [
    "<div  style=\"direction:rtl;line-height:200%;\">\n",
    "  <font face=\"B nazanin\" size=5>\n",
    "    <p></p>\n",
    "فرض کنید که در یک مرکز آموزشی، دانش‌آموزان طبق معیارهای زیر رده‌بندی می‌شوند: ۱۱ امتیاز برای هر امتحانی که قبول شده‌اند، ۵ امتیاز منفی برای هر امتحان مردودی، و ۲ امتیاز منفی برای هر سال در موسسه:\n",
    "\n",
    "</font>\n",
    "</div>"
   ]
  },
  {
   "cell_type": "code",
   "execution_count": 6,
   "id": "e7c6d169-7b91-42d4-9073-b7db67e20c57",
   "metadata": {},
   "outputs": [
    {
     "name": "stdout",
     "output_type": "stream",
     "text": [
      "Name: Bob, Score: 75\n",
      "Name: David, Score: 78\n",
      "Name: Alice, Score: 94\n",
      "Name: Charlie, Score: 128\n"
     ]
    }
   ],
   "source": [
    "class Student:\n",
    "    def __init__(self, name, passed, failed, years):\n",
    "        self.name = name\n",
    "        self.passed = passed\n",
    "        self.failed = failed\n",
    "        self.years = years\n",
    "\n",
    "def process_students_list(students):\n",
    "    students_ranking = sorted(students, key=lambda s: s.passed * 11 - s.failed * 5 - s.years * 2)\n",
    "\n",
    "    for student in students_ranking:\n",
    "        score = student.passed * 11 - student.failed * 5 - student.years * 2\n",
    "        print(\"Name: {0}, Score: {1}\".format(student.name, score))\n",
    "\n",
    "# ایجاد لیست دانش‌آموزان\n",
    "students = [\n",
    "    Student(\"Alice\", 10, 2, 3),\n",
    "    Student(\"Bob\", 8, 1, 4),\n",
    "    Student(\"Charlie\", 12, 0, 2),\n",
    "    Student(\"David\", 9, 3, 3)\n",
    "]\n",
    "\n",
    "process_students_list(students)\n"
   ]
  },
  {
   "cell_type": "markdown",
   "id": "dce55f37-800c-42ca-9fb4-91e1042b1189",
   "metadata": {},
   "source": [
    "<div  style=\"direction:rtl;line-height:200%;\">\n",
    "  <font face=\"B nazanin\" size=5>\n",
    "    <p></p>\n",
    "ما باید دانش خود را از مسئله دامنه در کد خود منعطف کنیم و کد ما به این ترتیب کمتر در معرض تکرار قرار می‌گیرد و فهم آن نیز آسان‌تر خواهد بود:\n",
    "</font>\n",
    "</div>"
   ]
  },
  {
   "cell_type": "code",
   "execution_count": 4,
   "id": "6c2fbfdc-0953-4292-abc5-417d368da1b3",
   "metadata": {},
   "outputs": [],
   "source": [
    "def score_for_student(student):\n",
    "    return student.passed * 11 - student.failed * 5 - student.years * 2 \n",
    "def process_students_list(students): # do some processing...\n",
    "    students_ranking = sorted(students, key=score_for_student) # more processing\n",
    "    for student in students_ranking:\n",
    "            print(\n",
    "                \"Name: {0}, Score: {1}\".format(\n",
    "                    student.name, score_for_student(student)\n",
    "                )\n",
    "    )"
   ]
  },
  {
   "cell_type": "markdown",
   "id": "438c879e-4ca9-4df1-9118-38d1bab1357c",
   "metadata": {},
   "source": [
    "<hr>"
   ]
  },
  {
   "cell_type": "markdown",
   "id": "d3ab1338-e749-4a0b-ba5c-26d2e7239206",
   "metadata": {},
   "source": [
    "<div\n",
    "  style=\"direction:rtl;line-height:200%;\">\n",
    "  <font face=\"B Nazanin\" size=4>\n",
    "     <font color=#000080 size=5>\n",
    "YAGNI\n",
    "</font>\n",
    "</div>"
   ]
  },
  {
   "cell_type": "markdown",
   "id": "723c521e-3c00-4af7-a13f-8e8ea48b060a",
   "metadata": {},
   "source": [
    "<div  style=\"direction:rtl;line-height:200%;\">\n",
    "  <font face=\"B nazanin\" size=5>\n",
    "    <p></p>\n",
    "YAGNI، که مخفف \"You Aren't Gonna Need It\" به معنی \"به آن نیاز نخواهید داشت\"  یک اصل مهم در برنامه‌نویسی و توسعه نرم‌افزار می‌باشد که تاکید دارد فقط آن قابلیت‌هایی را پیاده‌سازی کنید که در حال حاضر به آن‌ها نیاز دارید.\n",
    "\n",
    "</font>\n",
    "</div>"
   ]
  },
  {
   "cell_type": "markdown",
   "id": "6164f2fb-050c-4aeb-bdc4-c8dcaab7fdd2",
   "metadata": {},
   "source": [
    "<div\n",
    "  style=\"direction:rtl;line-height:200%;\">\n",
    "  <font face=\"B Nazanin\" size=4>\n",
    "    <font color=#4169E1 size=5>\n",
    "چرا YAGNI مهم است؟\n",
    "</font>\n",
    "</div>"
   ]
  },
  {
   "cell_type": "markdown",
   "id": "805c9e73-6e49-4bfd-87ec-da4152074750",
   "metadata": {},
   "source": [
    "<div  style=\"direction:rtl;line-height:200%;\">\n",
    "  <font face=\"B nazanin\" size=5>\n",
    "    <p></p>\n",
    "با رعایت YAGNI می‌توانید از موارد زیر جلوگیری کنید:\n",
    "<br>\n",
    "•\tکد اضافی و پیچیدگی غیرضروری\n",
    "<br>\n",
    "•\tافزایش هزینه‌های نگهداری\n",
    "<br>\n",
    "•\tزمان‌بری و هدررفت منابع\n",
    "\n",
    "\n",
    "</font>\n",
    "</div>"
   ]
  },
  {
   "cell_type": "markdown",
   "id": "cb30be5d-9090-482f-b8d5-c65e0f7aaebb",
   "metadata": {},
   "source": [
    "<hr>"
   ]
  },
  {
   "cell_type": "markdown",
   "id": "c5dbeece-fd40-45f2-928a-1e602585214f",
   "metadata": {},
   "source": [
    "<div\n",
    "  style=\"direction:rtl;line-height:200%;\">\n",
    "  <font face=\"B Nazanin\" size=4>\n",
    "    <font color=#000080 size=5>\n",
    "KIS\n",
    "\n",
    "</font>\n",
    "</div>"
   ]
  },
  {
   "cell_type": "markdown",
   "id": "cd082c9f-9a42-4518-8328-d4ffbb5353c0",
   "metadata": {},
   "source": [
    "<div  style=\"direction:rtl;line-height:200%;\">\n",
    "  <font face=\"B nazanin\" size=5>\n",
    "    <p></p>\n",
    "مخفف \"Keep It Simple\" به معنای ساده نگه‌دار\n",
    "<br>\n",
    "حداقل عملکردی را پیاده ‌سازی کنید که مسئله را به درستی حل می‌کند و راه‌ حل شما را بیشتر از حد لازم پیچیده نمی‌سازد. به خاطر داشته باشید، هرچه طراحی ساده ‌تر باشد، نگهداری از آن آسان ‌تر خواهد بود\n",
    "\n",
    "</font>\n",
    "</div>"
   ]
  },
  {
   "cell_type": "markdown",
   "id": "37c2908c-3cb9-4bd0-99a9-8777e98ab4ab",
   "metadata": {},
   "source": [
    "<div  style=\"direction:rtl;line-height:200%;\">\n",
    "  <font face=\"B nazanin\" size=5>\n",
    "    <p></p>\n",
    "گاهی اوقات ممکن است کد را بیش از حد پیچیده کنیم و توابع یا متدهای بیشتری نسبت به نیاز ایجاد کنیم. \n",
    "<br>\n",
    "کلاس زیر یک namespace (فضای نام) از مجموعه‌ ای از پارامترهای کلید واژه‌ای ایجاد می‌کند که فراهم شده‌اند، اما رابط کد آن نسبتاً پیچیده است.\n",
    "\n",
    "</font>\n",
    "</div>"
   ]
  },
  {
   "cell_type": "code",
   "execution_count": 8,
   "id": "153eb71d-6e56-4dae-9abc-9cd3c3eb28f1",
   "metadata": {},
   "outputs": [
    {
     "name": "stdout",
     "output_type": "stream",
     "text": [
      "{'id_': 123, 'user': 'Ali', 'location': 'Tehran'}\n"
     ]
    }
   ],
   "source": [
    "class ComplicatedNamespace:\n",
    "    \"\"\"A convoluted example of initializing an object with some properties.\"\"\"\n",
    "    ACCEPTED_VALUES = (\"id_\", \"user\", \"location\")\n",
    "\n",
    "    @classmethod\n",
    "    def init_with_data(cls, **data):\n",
    "        instance = cls()\n",
    "        for key, value in data.items():\n",
    "            if key in cls.ACCEPTED_VALUES:\n",
    "                setattr(instance, key, value)\n",
    "        return instance\n",
    "obj = ComplicatedNamespace.init_with_data(id_=123, user=\"Ali\", location=\"Tehran\", extra=\"value\")\n",
    "print(vars(obj))  \n"
   ]
  },
  {
   "cell_type": "markdown",
   "id": "d215fd0e-dc7e-41f5-ab54-b2a97aaebc08",
   "metadata": {},
   "source": [
    "<div  style=\"direction:rtl;line-height:200%;\">\n",
    "  <font face=\"B nazanin\" size=5>\n",
    "    <p></p>\n",
    "داشتن یک متد اضافی در کلاس برای مقداردهی اولیه به شیء ضروری به نظر نمی‌رسد. سپس، تکرار و فراخوانی `setattr` درون آن، موضوع را حتی عجیب‌تر می‌کند، و رابطی که به کاربر ارائه می‌شود چندان واضح نیست.\n",
    "\n",
    "</font>\n",
    "</div>"
   ]
  },
  {
   "cell_type": "code",
   "execution_count": 10,
   "id": "805b3433-7342-408c-a226-44f293501178",
   "metadata": {},
   "outputs": [
    {
     "data": {
      "text/plain": [
       "False"
      ]
     },
     "execution_count": 10,
     "metadata": {},
     "output_type": "execute_result"
    }
   ],
   "source": [
    "cn = ComplicatedNamespace.init_with_data(id_=42, user=\"root\", location=\"127.0.0.1\", extra=\"excluded\" ) \n",
    "cn.id_, cn.user, cn.location = (42, 'root', '127.0.0.1')\n",
    "hasattr(cn, \"extra\")\n",
    "False"
   ]
  },
  {
   "cell_type": "markdown",
   "id": "a94b1847-5ff6-41b4-812a-e2edab47739b",
   "metadata": {},
   "source": [
    "<div  style=\"direction:rtl;line-height:200%;\">\n",
    "  <font face=\"B nazanin\" size=5>\n",
    "    <p></p>\n",
    "کاربر باید از وجود این متد دیگر مطلع باشد که این مسئله راحت نیست. بهتر است کار را ساده نگه داریم و شیء را به همان شکلی که معمولاً هر شیء دیگری را در پایتون مقداردهی اولیه می‌کنیم، مقداردهی کنیم (در نهایت، متدی برای این کار وجود دارد) یعنی با استفاده از متد `__init__`.\n",
    "\n",
    "</font>\n",
    "</div>"
   ]
  },
  {
   "cell_type": "code",
   "execution_count": 12,
   "id": "5460363d-9033-4e6e-a725-4e6b8956be13",
   "metadata": {},
   "outputs": [],
   "source": [
    "class Namespace:\n",
    "    \"\"\"Create an object from keyword arguments.\"\"\"\n",
    "    ACCEPTED_VALUES = (\"id_\", \"user\", \"location\")\n",
    "    def __init__(self, **data):\n",
    "        for attr_name, attr_value in data.items():\n",
    "            if attr_name in self.ACCEPTED_VALUES:\n",
    "                setattr(self, attr_name, attr_value)"
   ]
  },
  {
   "cell_type": "markdown",
   "id": "ccbf693b-3cc2-4eeb-bd81-bf158b182aa3",
   "metadata": {},
   "source": [
    "<hr>"
   ]
  },
  {
   "cell_type": "markdown",
   "id": "0d750c4c-34ff-4733-8f78-bf473cad2b54",
   "metadata": {},
   "source": [
    "<div\n",
    "  style=\"direction:rtl;line-height:200%;\">\n",
    "  <font face=\"B Nazanin\" size=4>\n",
    "    <font color=#000080 size=5>\n",
    "EAFP/ LBYL\n",
    "</font>\n",
    "</div>"
   ]
  },
  {
   "cell_type": "markdown",
   "id": "c8ac9417-5902-4938-a9fd-a0f69a0e2643",
   "metadata": {},
   "source": [
    "<div  style=\"direction:rtl;line-height:200%;\">\n",
    "  <font face=\"B nazanin\" size=5>\n",
    "    <p></p>\n",
    "EAFP این است که کد خود را به گونه‌ای بنویسیم که مستقیماً یک عملیات را انجام دهد و سپس، در صورت شکست، پیامدهای آن را بعداً برطرف کنیم.\n",
    "<br>\n",
    "معمولاً این به این معنی است که اجرای یک قطعه کد را امتحان می‌کنیم و انتظار داریم که به درستی اجرا شود، اما اگر با استثنا مواجه شدیم، کد اصلاحی را در بلوک `except` انجام می‌دهیم.\n",
    "\n",
    "\n",
    "</font>\n",
    "</div>"
   ]
  },
  {
   "cell_type": "markdown",
   "id": "c4ba70b8-0c05-4e45-afc4-ee6859cfdfcd",
   "metadata": {},
   "source": [
    "<div  style=\"direction:rtl;line-height:200%;\">\n",
    "  <font face=\"B nazanin\" size=5>\n",
    "    <p></p>\n",
    "این روش دقیقاً مقابل LBYL است.\n",
    "\n",
    "</font>\n",
    "</div>"
   ]
  },
  {
   "cell_type": "markdown",
   "id": "f66d3bed-109e-4db8-8bb9-e642ba1437af",
   "metadata": {},
   "source": [
    "<div  style=\"direction:rtl;line-height:200%;\">\n",
    "  <font face=\"B nazanin\" size=5>\n",
    "    <p></p>\n",
    " ابتدا بررسی می‌کنیم که چیزی که قصد استفاده از آن را داریم موجود است یا خیر.\n",
    "      <br>\n",
    "برای مثال، ممکن است بخواهیم بررسی کنیم که آیا یک فایل موجود است قبل از آنکه بخواهیم با آن کار کنیم.\n",
    "\n",
    "</font>\n",
    "</div>"
   ]
  },
  {
   "cell_type": "code",
   "execution_count": 14,
   "id": "1b599911-51e9-4371-928e-e46cb9ea8271",
   "metadata": {},
   "outputs": [
    {
     "name": "stdout",
     "output_type": "stream",
     "text": [
      "The file 'example.txt' does not exist.\n"
     ]
    }
   ],
   "source": [
    "import os\n",
    "\n",
    "filename = \"example.txt\"\n",
    "if os.path.exists(filename):\n",
    "    # باز کردن و خواندن محتوای فایل\n",
    "    with open(filename, 'r') as f:\n",
    "        content = f.read()  # خواندن کل محتوای فایل\n",
    "    print(\"File content:\\n\", content)\n",
    "else:\n",
    "    print(f\"The file '{filename}' does not exist.\")\n"
   ]
  },
  {
   "cell_type": "markdown",
   "id": "ae16b9b7-0112-4541-99c5-169eb08543ae",
   "metadata": {},
   "source": [
    "<div  style=\"direction:rtl;line-height:200%;\">\n",
    "  <font face=\"B nazanin\" size=5>\n",
    "    <p></p>\n",
    "نسخه‌ی  EAFP کد قبلی به این صورت خواهد بود:\n",
    "\n",
    "</font>\n",
    "</div>"
   ]
  },
  {
   "cell_type": "code",
   "execution_count": 16,
   "id": "ebfff20a-2721-4a0c-a0df-c87cd1ac4557",
   "metadata": {},
   "outputs": [
    {
     "name": "stderr",
     "output_type": "stream",
     "text": [
      "ERROR:__main__:FileNotFoundError: [Errno 2] No such file or directory: 'example.txt'\n"
     ]
    },
    {
     "name": "stdout",
     "output_type": "stream",
     "text": [
      "Error: The file 'example.txt' was not found.\n"
     ]
    }
   ],
   "source": [
    "import logging\n",
    "\n",
    "logging.basicConfig(level=logging.ERROR)\n",
    "logger = logging.getLogger(__name__)\n",
    "\n",
    "filename = \"example.txt\"\n",
    "\n",
    "# تلاش برای باز کردن فایل و خواندن محتوا\n",
    "try:\n",
    "    with open(filename, 'r') as f:\n",
    "        content = f.read()  # خواندن محتوای فایل\n",
    "    print(\"File content:\\n\", content)\n",
    "except FileNotFoundError as e:\n",
    "    logger.error(f\"FileNotFoundError: {e}\")\n",
    "    print(f\"Error: The file '{filename}' was not found.\")\n"
   ]
  },
  {
   "cell_type": "markdown",
   "id": "4dfdcd01-c1aa-4cf5-8b6e-a6a7058fef8a",
   "metadata": {},
   "source": [
    "<div\n",
    "  style=\"direction:rtl;line-height:200%;\">\n",
    "  <font face=\"B Nazanin\" size=4>\n",
    "    <font color=#4169E1 size=5>\n",
    "مقایسه EAFP و LBYL\n",
    "\n",
    "</font>\n",
    "</div>\n"
   ]
  },
  {
   "cell_type": "markdown",
   "id": "2399143a-430c-425d-aa92-df9408b1c477",
   "metadata": {},
   "source": [
    "<div  style=\"direction:rtl;line-height:200%;\">\n",
    "  <font face=\"B nazanin\" size=5>\n",
    "    <p></p>\n",
    "•\tخوانایی کد\n",
    "<br>\n",
    "•\tکارایی\n",
    "<br>\n",
    "•\tتطبیق با زبان\n",
    "\n",
    "</font>\n",
    "</div>"
   ]
  },
  {
   "cell_type": "markdown",
   "id": "82eff91b-868d-4624-8e17-233471a32fcc",
   "metadata": {},
   "source": [
    "<hr>"
   ]
  },
  {
   "cell_type": "markdown",
   "id": "766e5b87-5480-4cba-bd15-575759063316",
   "metadata": {},
   "source": [
    "<div\n",
    "  style=\"direction:rtl;line-height:200%;\">\n",
    "  <font face=\"B Nazanin\" size=4>\n",
    "    <font color=#000080 size=5>\n",
    "وراثت تصمیم درستی است\n",
    "</font>\n",
    "</div>"
   ]
  },
  {
   "cell_type": "markdown",
   "id": "c4f8180a-240a-456e-8f40-2f3ffc1920a4",
   "metadata": {},
   "source": [
    "<div  style=\"direction:rtl;line-height:200%;\">\n",
    "  <font face=\"B nazanin\" size=5>\n",
    "    <p></p>\n",
    "هنگام ایجاد یک کلاس مشتق، باید محتاط باشیم. از یک طرف، مزیت این را دارد که همه کد متدهای کلاس والد را به‌صورت رایگان به دست می‌آوریم، اما از طرف دیگر، تمام این موارد را به کلاس جدید منتقل می‌کنیم، به این معنا که ممکن است مقدار زیادی قابلیت در تعریف جدید قرار دهیم.\n",
    "\n",
    "</font>\n",
    "</div>"
   ]
  },
  {
   "cell_type": "markdown",
   "id": "78c3cfeb-c10a-438d-bf01-58010f0194da",
   "metadata": {},
   "source": [
    "<div  style=\"direction:rtl;line-height:200%;\">\n",
    "  <font face=\"B nazanin\" size=5>\n",
    "    <p></p>\n",
    "در کتابخانه استاندارد پایتون می‌توانید نمونه‌های خوبی از استفاده صحیح از وراثت پیدا کنید.\n",
    "</font>\n",
    "</div>"
   ]
  },
  {
   "cell_type": "markdown",
   "id": "f92498f3-26ac-4c37-9008-5b2ab4086dc7",
   "metadata": {},
   "source": [
    "</font>\n",
    "</div>\n",
    "<div style=\"line-height:300%;\">\n",
    "  <font face=\"XB Zar\" size=5>\n",
    "    <a href=\"https://docs.python. org/3/library/http.server.html#http.server.BaseHTTPRequestHandler\">https://docs.python. org/3/library/http.server.html#http.server.BaseHTTPRequestHandler\n",
    "</a>\n",
    "</font>\n",
    "<div>"
   ]
  },
  {
   "cell_type": "markdown",
   "id": "e09a6080-2aec-401d-94f9-e5a16e1c95d0",
   "metadata": {},
   "source": [
    "<div\n",
    "  style=\"direction:rtl;line-height:200%;\">\n",
    "  <font face=\"B Nazanin\" size=4>\n",
    "    <font color=#4169E1 size=5>\n",
    "وراثت چندگانه در پایتون\n",
    "</font>\n",
    "</div>"
   ]
  },
  {
   "cell_type": "markdown",
   "id": "76fd73bf-b3b4-4c5b-9837-6c434b488a25",
   "metadata": {},
   "source": [
    "<div  style=\"direction:rtl;line-height:200%;\">\n",
    "  <font face=\"B nazanin\" size=5>\n",
    "    <p></p>\n",
    "همانطور که وراثت، زمانی که به اشتباه استفاده شود، منجر به مشکلات طراحی می‌شود، شما می‌توانید انتظار داشته باشید که وراثت چندگانه نیز وقتی به درستی پیاده‌سازی نشود، مشکلات بزرگ‌تری ایجاد خواهد کرد.\n",
    "</font>\n",
    "</div>"
   ]
  },
  {
   "cell_type": "markdown",
   "id": "4f620d9e-af98-4949-a654-c89f61a96b11",
   "metadata": {},
   "source": [
    "<div  style=\"direction:rtl;line-height:200%;\">\n",
    "  <font face=\"B nazanin\" size=5>\n",
    "    <p></p>\n",
    "وراثت چندگانه یک راه‌ حل کاملاً معتبر است وقتی که به درستی استفاده شود، و این امکان را برای ایجاد الگوهای جدید (مانند الگوی آداپتر که در فصل 9 بررسی کردیم، یعنی Common Design  Patterns و mixins) فراهم می‌آورد.\n",
    "<br>\n",
    "یکی از کاربردهای قدرتمند وراثت چندگانه شاید در زمینه ایجاد mixins باشد.\n",
    "</font>\n",
    "</div>"
   ]
  },
  {
   "cell_type": "markdown",
   "id": "e681ee94-646e-4d4b-bcc3-e03567d51ffb",
   "metadata": {},
   "source": [
    "<div\n",
    "  style=\"direction:rtl;line-height:200%;\">\n",
    "  <font face=\"B Nazanin\" size=4>\n",
    "    <font color=#000080 size=5>\n",
    "(MRO) \n",
    "</font>\n",
    "</div>"
   ]
  },
  {
   "cell_type": "markdown",
   "id": "fa10b4d4-584d-453e-b63b-2968d35043f9",
   "metadata": {},
   "source": [
    "<div  style=\"direction:rtl;line-height:200%;\">\n",
    "  <font face=\"B nazanin\" size=5>\n",
    "    <p></p>\n",
    "برخی افراد از وراثت چندگانه خوششان نمی‌آید به دلیل محدودیت‌هایی که در زبان‌های برنامه‌نویسی دیگر دارد، به عنوان مثال (diamond problem).\n",
    "</font>\n",
    "</div>"
   ]
  },
  {
   "cell_type": "markdown",
   "id": "e79221e5-7e6c-402d-a45c-1f03b9b5336d",
   "metadata": {},
   "source": [
    "<div\n",
    "  style=\"direction:rtl;line-height:200%;\">\n",
    "  <font face=\"B Nazanin\" size=4>\n",
    "    <font color=#4169E1 size=5>\n",
    "کدام یک از پیاده ‌سازی‌ها برای کلاس پایین ‌تر استفاده خواهد شد؟\n",
    "\n",
    "</font>\n",
    "</div>"
   ]
  },
  {
   "cell_type": "markdown",
   "id": "54088472-123f-487f-97b7-54d42de82a97",
   "metadata": {},
   "source": [
    "<div  style=\"direction:rtl;line-height:200%;\">\n",
    "  <font face=\"B nazanin\" size=5>\n",
    "    <p></p>\n",
    "یکی از کلاس‌های خاص مانند `ConcreteModuleA12` را در نظر بگیرید—این کلاس از `BaseModule1` و `BaseModule2` گسترش می‌یابد، و هر یک از این کلاس‌ها پیاده‌سازی متد `__str__` را از کلاس `BaseModule` به ارث می‌برد. \n",
    "<br>\n",
    "حالا سوال این است که کدام‌یک از این دو متد برای `ConcreteModuleA12` استفاده خواهد شد؟\n",
    "</font>\n",
    "</div>"
   ]
  },
  {
   "attachments": {
    "8f410305-6fee-491a-b65b-ac6b0fcebbfb.png": {
     "image/png": "[encoded data removed]"
    }
   },
   "cell_type": "markdown",
   "id": "0a30ec76-0251-4bb3-a738-91f23f7e5c8d",
   "metadata": {},
   "source": [
    "![Screen Shot 2024-11-12 at 12.55.41 PM.png](attachment:8f410305-6fee-491a-b65b-ac6b0fcebbfb.png)"
   ]
  },
  {
   "cell_type": "markdown",
   "id": "109c8f89-b2b7-461b-aec2-360ca8aa5f60",
   "metadata": {},
   "source": [
    "<div  style=\"direction:rtl;line-height:200%;\">\n",
    "  <font face=\"B nazanin\" size=5>\n",
    "    <p></p>\n",
    "با مقداردهی به ویژگی کلاس، این موضوع روشن خواهد شد:\n",
    "\n",
    "</font>\n",
    "</div>"
   ]
  },
  {
   "cell_type": "code",
   "execution_count": 18,
   "id": "e09f9f0c-0004-46db-a53c-c6058c80415e",
   "metadata": {},
   "outputs": [],
   "source": [
    "class BaseModule:\n",
    "    module_name = \"top\"\n",
    "    def __init__(self, module_name):\n",
    "        self.name = module_name\n",
    "    def __str__(self):\n",
    "        return f\"{self.module_name}:{self.name}\"\n",
    "class BaseModule1(BaseModule):\n",
    "    module_name = \"module-1\"\n",
    "class BaseModule2(BaseModule):\n",
    "    module_name = \"module-2\"\n",
    "class BaseModule3(BaseModule):\n",
    "    module_name = \"module-3\"\n",
    "class ConcreteModuleA12(BaseModule1, BaseModule2):\n",
    "    \"\"\"Extend 1 & 2\"\"\"\n",
    "class ConcreteModuleB23(BaseModule2, BaseModule3):\n",
    "    \"\"\"Extend 2 & 3\"\"\""
   ]
  },
  {
   "cell_type": "markdown",
   "id": "78fea60e-b39d-461f-b53b-81f21d42a976",
   "metadata": {},
   "source": [
    "<div  style=\"direction:rtl;line-height:200%;\">\n",
    "  <font face=\"B nazanin\" size=5>\n",
    "    <p></p>\n",
    "حالا بیایید این را تست کنیم تا ببینیم کدام متد فراخوانی می‌شود:\n",
    "\n",
    "</font>\n",
    "</div>"
   ]
  },
  {
   "cell_type": "code",
   "execution_count": 21,
   "id": "7c94db17-6597-4be3-b7ec-be1902eef4e2",
   "metadata": {},
   "outputs": [
    {
     "data": {
      "text/plain": [
       "'module-1:test'"
      ]
     },
     "execution_count": 21,
     "metadata": {},
     "output_type": "execute_result"
    }
   ],
   "source": [
    "str(ConcreteModuleA12(\"test\")) \n"
   ]
  },
  {
   "cell_type": "markdown",
   "id": "5931d0fd-17fd-4c2f-bd3c-61e1e64bc0c0",
   "metadata": {},
   "source": [
    "<div  style=\"direction:rtl;line-height:200%;\">\n",
    "  <font face=\"B nazanin\" size=5>\n",
    "    <p></p>\n",
    "ما می‌توانیم به‌ طور خاص از کلاس بخواهیم که ترتیب حل آن را به ما نشان دهد:\n",
    "</font>\n",
    "</div>"
   ]
  },
  {
   "cell_type": "code",
   "execution_count": 24,
   "id": "74f106e3-f686-4def-b342-6ab6b238e6c2",
   "metadata": {},
   "outputs": [
    {
     "data": {
      "text/plain": [
       "['ConcreteModuleA12', 'BaseModule1', 'BaseModule2', 'BaseModule', 'object']"
      ]
     },
     "execution_count": 24,
     "metadata": {},
     "output_type": "execute_result"
    }
   ],
   "source": [
    "[cls.__name__ for cls in ConcreteModuleA12.mro()]\n"
   ]
  },
  {
   "cell_type": "markdown",
   "id": "453ba383-8556-4007-aeb7-e02eb22af24d",
   "metadata": {},
   "source": [
    "<div  style=\"direction:rtl;line-height:200%;\">\n",
    "  <font face=\"B nazanin\" size=5>\n",
    "    <p></p>\n",
    "دانستن اینکه چگونه متدها در یک سلسله‌مراتب حل می‌شوند می‌تواند در طراحی کلاس‌ها به نفع ما باشد، زیرا می‌توانیم از میکسین‌ها بهره ببریم.\n",
    "</font>\n",
    "</div>"
   ]
  },
  {
   "cell_type": "markdown",
   "id": "d831b152-5006-4161-8d59-97d178fb829e",
   "metadata": {},
   "source": [
    "<div\n",
    "  style=\"direction:rtl;line-height:200%;\">\n",
    "  <font face=\"B Nazanin\" size=4>\n",
    "    <font color=#000080 size=5>\n",
    "Mixins \n",
    "</font>\n",
    "</div>"
   ]
  },
  {
   "cell_type": "markdown",
   "id": "ef6eee61-3d6d-47dc-a4fc-1dfabbddaaa1",
   "metadata": {},
   "source": [
    "<div  style=\"direction:rtl;line-height:200%;\">\n",
    "  <font face=\"B nazanin\" size=5>\n",
    "    <p></p>\n",
    "میکسین یک کلاس پایه است که برخی رفتارهای مشترک را برای استفاده مجدد از کد در خود گنجانده است. معمولاً یک کلاس میکسین به‌تنهایی مفید نیست و تنها گسترش دادن این کلاس به‌تنهایی معمولاً کار نخواهد کرد.\n",
    "<br>\n",
    "ایده این است که از کلاس‌های میکسین همراه با کلاس‌های دیگر از طریق وراثت چندگانه استفاده کنیم تا متدها یا ویژگی‌های تعریف‌شده در میکسین در دسترس باشند.\n",
    "</font>\n",
    "</div>"
   ]
  },
  {
   "cell_type": "markdown",
   "id": "48ce3c5b-65e9-41f4-a31a-ace88fa9431c",
   "metadata": {},
   "source": [
    "<div  style=\"direction:rtl;line-height:200%;\">\n",
    "  <font face=\"B nazanin\" size=5>\n",
    "    <p></p>\n",
    "تصور کنید ما یک تجزیه‌کننده ساده داریم که یک رشته را گرفته و آن را بر اساس مقادیر جداشده با خط تیره (-) تکرار می‌کند\n",
    "</font>\n",
    "</div>"
   ]
  },
  {
   "cell_type": "code",
   "execution_count": 26,
   "id": "aa849d55-8e36-4c39-a42d-c80c3a75b60f",
   "metadata": {},
   "outputs": [],
   "source": [
    "class BaseTokenizer:\n",
    "    def __init__(self, str_token):\n",
    "        self.str_token = str_token\n",
    "    def __iter__(self):\n",
    "        yield from self.str_token.split(\"-\")"
   ]
  },
  {
   "cell_type": "code",
   "execution_count": 28,
   "id": "1de95721-744c-4d24-989b-f163caab9f72",
   "metadata": {},
   "outputs": [
    {
     "data": {
      "text/plain": [
       "['28a2320b', 'fd3f', '4627', '9792', 'a2b38e3c46b0']"
      ]
     },
     "execution_count": 28,
     "metadata": {},
     "output_type": "execute_result"
    }
   ],
   "source": [
    "tk = BaseTokenizer(\"28a2320b-fd3f-4627-9792-a2b38e3c46b0\") \n",
    "list(tk)"
   ]
  },
  {
   "cell_type": "markdown",
   "id": "21106c75-a765-46f4-8328-0cc8aa5c9d8f",
   "metadata": {},
   "source": [
    "<div  style=\"direction:rtl;line-height:200%;\">\n",
    "  <font face=\"B nazanin\" size=5>\n",
    "    <p></p>\n",
    "اما تصور کنید که کلاس‌های زیادی قبلاً از کلاس `BaseTokenizer` ارث‌بری کرده‌اند و نمی‌خواهیم همه آن‌ها را جایگزین کنیم. در این صورت، می‌توانیم یک کلاس جدید را به سلسله‌مراتب اضافه کنیم که این تبدیل را انجام دهد:\n",
    "</font>\n",
    "</div>"
   ]
  },
  {
   "cell_type": "code",
   "execution_count": 31,
   "id": "ba0151bb-09f7-4dc3-abd1-dcd307befdae",
   "metadata": {},
   "outputs": [],
   "source": [
    "class UpperIterableMixin:\n",
    "    def __iter__(self):\n",
    "        return map(str.upper, super().__iter__())\n",
    "class Tokenizer(UpperIterableMixin, BaseTokenizer):\n",
    "    pass"
   ]
  },
  {
   "cell_type": "markdown",
   "id": "64294c79-8ec2-4105-a9ec-5658cba4d72b",
   "metadata": {},
   "source": [
    "<div style=\"direction:rtl;line-height:200%;\">\n",
    "  <font face=\"B Nazanin\" size=4>\n",
    "    <font color=#000080 size=5>\n",
    "اشیاء قابل تغییر (Mutable) و غیرقابل تغییر (Immutable)\n",
    "\n",
    "</font>\n",
    "</div>\n"
   ]
  },
  {
   "cell_type": "markdown",
   "id": "5c6a21ae-d1fc-45f7-a2ac-bfa3808a69d7",
   "metadata": {},
   "source": [
    "<div  style=\"direction:rtl;line-height:200%;\">\n",
    "  <font face=\"B nazanin\" size=5>\n",
    "    <p></p>\n",
    "در پایتون، دو نوع شیء داریم:<br>\n",
    "•\tاشیاء قابل تغییر: مانند لیست‌ها (list) و دیکشنری‌ها (dict). این اشیاء را می‌توانیم بعد از ایجاد، تغییر دهیم.<br>\n",
    "•\tاشیاء غیرقابل تغییر: مانند رشته‌ها (str) و اعداد (int). این اشیاء بعد از ایجاد قابل تغییر نیستند.<br>\n",
    "\n",
    "</font>\n",
    "</div>\n"
   ]
  },
  {
   "cell_type": "markdown",
   "id": "d2574c65-743c-4f4c-871e-c23e867b111f",
   "metadata": {},
   "source": [
    "<div style=\"direction:rtl;line-height:200%;\">\n",
    "  <font face=\"B Nazanin\" size=4>\n",
    "    <font color=#000080 size=5>\n",
    "کپی شدن آرگومان‌ها در توابع\n",
    "\n",
    "</font>\n",
    "</div>\n"
   ]
  },
  {
   "cell_type": "markdown",
   "id": "9f7d9233-db13-46de-b0e7-5a7d56bc9d5b",
   "metadata": {},
   "source": [
    "<div  style=\"direction:rtl;line-height:200%;\">\n",
    "  <font face=\"B nazanin\" size=5>\n",
    "    <p></p>\n",
    "در پایتون، تمام آرگومان‌ها توسط مقدار (by value) به تابع ارسال می‌شوند. این بدان معنی است که وقتی مقادیری را به تابع ارسال می‌کنیم، آن‌ها به متغیرهایی که در تعریف تابع وجود دارند، تخصیص داده می‌شوند.<br>\n",
    "نکته‌ای که باید به آن توجه داشت این است که توابع ممکن است پارامترهایی که دریافت می‌کنند را تغییر دهند یا ندهند، و این به نوع پارامتر بستگی دارد: <br>\n",
    "•\tاگر آرگومان قابل تغییر (mutable) باشد (مثل لیست یا دیکشنری)، تابع می‌تواند آن را تغییر دهد، و این تغییر حتی بعد از پایان اجرای تابع هم باقی خواهد ماند. <br>\n",
    "•\tاگر آرگومان غیر قابل تغییر (immutable) باشد (مثل عدد یا رشته)، تغییرات تابع بر آن تأثیری نخواهد داشت.<br>\n",
    "بنابراین، دانستن این تفاوت کمک می‌کند که تصمیم‌گیری کنیم که چه مواقعی تغییر در آرگومان‌ها به‌عنوان اثر جانبی (side effect) پذیرفته شده است و چه مواقعی این تغییرات ممکن است مشکل‌ساز باشد.\n",
    "\n",
    "</font>\n",
    "</div>\n"
   ]
  },
  {
   "cell_type": "code",
   "execution_count": null,
   "id": "f34d89bb-30a6-4fda-9ba7-e2c4aa9d08dc",
   "metadata": {},
   "outputs": [],
   "source": [
    "def function(argument):\n",
    "    argument += \" in function\"\n",
    "    print(argument)\n",
    "\n",
    "im = \"hello\"\n",
    "print(id(im))\n",
    "im = im.replace('e','o')\n",
    "print(id(im))\n",
    "function(im)\n",
    "print(im)\n",
    "\n",
    "mutable = list(\"hello\")\n",
    "function(mutable)\n",
    "print(mutable)\n"
   ]
  },
  {
   "cell_type": "markdown",
   "id": "ad87fbe9-674e-4da7-b98e-a12ed22b39ba",
   "metadata": {},
   "source": [
    "<div  style=\"direction:rtl;line-height:200%;\">\n",
    "  <font face=\"B nazanin\" size=5>\n",
    "    <p></p>\n",
    "برای اشیاء غیرقابل تغییر (مثل رشته)، += یک شیء جدید می‌سازد و تغییر فقط در داخل تابع اعمال می‌شود.<br>\n",
    "برای اشیاء قابل تغییر (مثل لیست)، += شیء اصلی را تغییر می‌دهد و تغییرات در خارج از تابع نیز قابل مشاهده هستند.\n",
    "</font>\n",
    "</div>\n"
   ]
  },
  {
   "cell_type": "markdown",
   "id": "f2864567-3438-4538-92e1-0dc4dfe73b90",
   "metadata": {},
   "source": [
    "<div style=\"direction:rtl;line-height:200%;\">\n",
    "  <font face=\"B Nazanin\" size=4>\n",
    "    <font color=#000080 size=5>\n",
    "مدیریت اشیاء قابل تغییر و ارسال آرگومان‌های متغیر\n",
    "\n",
    "</font>\n",
    "</div>\n"
   ]
  },
  {
   "cell_type": "code",
   "execution_count": null,
   "id": "538ea224-b4fb-4692-b5a6-6816717559cc",
   "metadata": {},
   "outputs": [],
   "source": [
    "a = list(range(5))\n",
    "b = a  # متغیر b به همان لیست اشاره می‌کند\n",
    "b.append(99)\n",
    "print(b)  \n",
    "print(a)   \n"
   ]
  },
  {
   "cell_type": "markdown",
   "id": "ffcc4eb7-aa75-4019-8bd3-54243858037d",
   "metadata": {},
   "source": [
    "<div  style=\"direction:rtl;line-height:200%;\">\n",
    "  <font face=\"B nazanin\" size=5>\n",
    "    <p></p>\n",
    "نکته: هنگام کار با اشیاء قابل تغییر (مثل لیست‌ها)، باید دقت کنیم، زیرا این کار می‌تواند به تأثیرات ناخواسته (side effects) منجر شود. اگر اطمینان نداریم که تغییر در آرگومان‌ها مجاز است، بهتر است از جایگزین‌هایی استفاده کنیم که این مشکلات را ندارند.\n",
    "</font>\n",
    "</div>\n"
   ]
  },
  {
   "cell_type": "markdown",
   "id": "04c36887-361e-48b7-851a-582bbbf58315",
   "metadata": {},
   "source": [
    "<div style=\"direction:rtl;line-height:200%;\">\n",
    "  <font face=\"B Nazanin\" size=4>\n",
    "    <font color=#000080 size=5>\n",
    "ارسال آرگومان‌ها به صورت موقعیتی و کلیدواژه‌ای\n",
    "\n",
    "</font>\n",
    "</div>\n"
   ]
  },
  {
   "cell_type": "markdown",
   "id": "96065891-7aa6-49ec-b6f6-92869dbb28b2",
   "metadata": {},
   "source": [
    "<div  style=\"direction:rtl;line-height:200%;\">\n",
    "  <font face=\"B nazanin\" size=5>\n",
    "    <p></p>\n",
    "در پایتون، می‌توانیم آرگومان‌ها را هم به صورت موقعیتی (بر اساس ترتیب) و هم به صورت کلیدواژه‌ای ارسال کنیم. این یعنی می‌توانیم به صراحت مشخص کنیم که هر مقدار به کدام پارامتر ارسال می‌شود.<br>\n",
    "•\tقانون مهم: ابعد از اولین آرگومان کلیدواژه‌ای، همه آرگومان‌ها باید کلیدواژه‌ای باشند، وگرنه خطا  SyntaxError  می‌گیریم.<br>\n",
    "آرگومان‌های متغیر<br>\n",
    "پایتون اجازه می‌دهد که توابع، تعداد متغیری از آرگومان‌ها دریافت کنند. به این صورت، توابعی مانند format() یا print() می‌توانند با تعداد متفاوتی از آرگومان‌ها کار کنند.<br>\n",
    "استفاده از * برای جمع‌آوری آرگومان‌ها<br> \n",
    "برای ارسال تعداد متغیری از آرگومان‌های موقعیتی، از علامت ستاره * قبل از نام متغیر استفاده می‌کنیم. این کار به پایتون می‌گوید که آرگومان‌ها را به صورت یک لیست در داخل آن متغیر جمع‌آوری کند.\n",
    "</font>\n",
    "</div>\n"
   ]
  },
  {
   "cell_type": "code",
   "execution_count": null,
   "id": "f2c16bea-58c8-46f6-a690-e0e25f9a3081",
   "metadata": {},
   "outputs": [],
   "source": [
    "def my_function(x, y, z):\n",
    "    print(x, y, z)\n",
    "\n",
    "args = [1, 2, 3]\n",
    "my_function(*args)\n"
   ]
  },
  {
   "cell_type": "markdown",
   "id": "bb4b1143-4dc7-44ee-aeeb-e8c4df789815",
   "metadata": {},
   "source": [
    "<div style=\"direction:rtl;line-height:200%;\">\n",
    "  <font face=\"B Nazanin\" size=4>\n",
    "    <font color=#000080 size=5>\n",
    "بسته‌بندی (packing)\n",
    "</font>\n",
    "</div>\n"
   ]
  },
  {
   "cell_type": "code",
   "execution_count": null,
   "id": "b0b8c75d-4dc6-48c4-8b76-ca49e92d1adf",
   "metadata": {},
   "outputs": [],
   "source": [
    "def f(first, second, third):\n",
    "    print(first)\n",
    "    print(second)\n",
    "    print(third)\n",
    "l = [1, 2, 3]\n",
    "f(*l)\n"
   ]
  },
  {
   "cell_type": "markdown",
   "id": "6de6f9bf-7589-46e1-8dcc-8c1d6f5e29a1",
   "metadata": {},
   "source": [
    "<div style=\"direction:rtl;line-height:200%;\">\n",
    "  <font face=\"B Nazanin\" size=4>\n",
    "    <font color=#000080 size=5>\n",
    "باز کردن بسته‌ها (Unpacking)\n",
    "</font>\n",
    "</div>\n"
   ]
  },
  {
   "cell_type": "markdown",
   "id": "62417c12-8293-44ed-9e70-efda6c646195",
   "metadata": {},
   "source": [
    "<div  style=\"direction:rtl;line-height:200%;\">\n",
    "  <font face=\"B nazanin\" size=5>\n",
    "    <p></p>\n",
    "علاوه بر اینکه می‌توانیم کل لیست را به تابع بدهیم، می‌توانیم از بسته‌بندی به روش دیگری نیز استفاده کنیم تا عناصر یک لیست را به متغیرهای جداگانه اختصاص دهیم:\n",
    "</font>\n",
    "</div>\n"
   ]
  },
  {
   "cell_type": "code",
   "execution_count": null,
   "id": "4a4939ca-9a09-40cd-bd43-0d0c555674fa",
   "metadata": {},
   "outputs": [],
   "source": [
    "a, b, c = [1, 2, 3]\n",
    "print(a)  \n",
    "print(b)  \n",
    "print(c)  \n"
   ]
  },
  {
   "cell_type": "markdown",
   "id": "f728b792-eae2-440f-b021-1e9a93bc861a",
   "metadata": {},
   "source": [
    "<div style=\"direction:rtl;line-height:200%;\">\n",
    "  <font face=\"B Nazanin\" size=4>\n",
    "    <font color=#000080 size=5>\n",
    "بسته‌بندی جزئی (Partial Packing)\n",
    "</font>\n",
    "</div>\n"
   ]
  },
  {
   "cell_type": "markdown",
   "id": "1b3b1ff0-9e16-48f1-a2fe-d46908a67a8a",
   "metadata": {},
   "source": [
    "<div  style=\"direction:rtl;line-height:200%;\">\n",
    "  <font face=\"B nazanin\" size=5>\n",
    "    <p></p>\n",
    "پایتون به ما اجازه می‌دهد که فقط بخشی از عناصر یک لیست را جدا کنیم و بقیه را به صورت یک لیست در یک متغیر جمع کنیم. مثلاً اگر فقط اولین عنصر یک لیست را بخواهیم و بقیه برایمان مهم نباشد، می‌توانیم از * استفاده کنیم تا بقیه را در یک متغیر دیگر جمع کنیم:\n",
    "</font>\n",
    "</div>\n"
   ]
  },
  {
   "cell_type": "code",
   "execution_count": null,
   "id": "1f299b3c-54b1-4b25-9dc9-bdcf2f007f61",
   "metadata": {},
   "outputs": [],
   "source": [
    "def show(e, rest):\n",
    "    print(f\"Element: {e} - Rest: {rest}\")\n",
    "\n",
    "first, *rest = [1, 2, 3, 4, 5]\n",
    "show(first, rest)\n"
   ]
  },
  {
   "cell_type": "markdown",
   "id": "5b0d079b-2298-444b-8f6e-544d78356450",
   "metadata": {},
   "source": [
    "<div style=\"direction:rtl;line-height:200%;\">\n",
    "  <font face=\"B Nazanin\" size=4>\n",
    "    <font color=#000080 size=5>\n",
    "باز کردن از انتها به ابتدا\n",
    "</font>\n",
    "</div>\n"
   ]
  },
  {
   "cell_type": "code",
   "execution_count": null,
   "id": "d65ece31-5d03-4102-9020-ae3f566bb12f",
   "metadata": {},
   "outputs": [],
   "source": [
    "*rest, last = range(6)\n",
    "show(last, rest)\n"
   ]
  },
  {
   "cell_type": "markdown",
   "id": "3582fc2d-c7b4-4bed-ab55-6e0f208f303d",
   "metadata": {},
   "source": [
    "<div style=\"direction:rtl;line-height:200%;\">\n",
    "  <font face=\"B Nazanin\" size=4>\n",
    "    <font color=#000080 size=5>\n",
    "باز کردن بسته‌ها در یک دنباله\n",
    "</font>\n",
    "</div>\n"
   ]
  },
  {
   "cell_type": "code",
   "execution_count": null,
   "id": "0e5cb74b-9dbd-4dbb-88f7-92032dc2c45b",
   "metadata": {},
   "outputs": [],
   "source": [
    "first, *middle, last = range(6)\n",
    "print(first)   \n",
    "print(middle)  \n",
    "print(last)    \n"
   ]
  },
  {
   "cell_type": "markdown",
   "id": "4e5c2a1f-0a45-4ad0-9ce7-80ae2e3858d3",
   "metadata": {},
   "source": [
    "<div style=\"direction:rtl;line-height:200%;\">\n",
    "  <font face=\"B Nazanin\" size=4>\n",
    "    <font color=#000080 size=5>\n",
    "باز کردن بسته در لیست‌های خالی\n",
    "</font>\n",
    "</div>\n"
   ]
  },
  {
   "cell_type": "code",
   "execution_count": null,
   "id": "4fbeffc0-b841-4b97-9e4d-9ad0a4f85a13",
   "metadata": {},
   "outputs": [],
   "source": [
    "first, last, *empty = 1, 2, 3\n",
    "print(first)  \n",
    "print(last)   \n",
    "print(empty)   \n"
   ]
  },
  {
   "cell_type": "markdown",
   "id": "7312ed6d-589f-44d5-8205-17bbe40bf4a5",
   "metadata": {},
   "source": [
    "<div style=\"direction:rtl;line-height:200%;\">\n",
    "  <font face=\"B Nazanin\" size=4>\n",
    "    <font color=#000080 size=5>\n",
    "باز کردن بسته در تکرار (Iteration)\n",
    "</font>\n",
    "</div>\n"
   ]
  },
  {
   "cell_type": "code",
   "execution_count": null,
   "id": "51495d5f-81d9-4085-8e4e-385112859203",
   "metadata": {},
   "outputs": [],
   "source": [
    "from dataclasses import dataclass\n",
    "USERS = [\n",
    " (i, f\"first_name_{i}\", f\"last_name_{i}\")\n",
    " for i in range(1_000)\n",
    "]\n",
    "@dataclass\n",
    "class User:\n",
    " user_id: int\n",
    " first_name: str\n",
    " last_name: str\n",
    "def bad_users_from_rows(dbrows) -> list:\n",
    " \"\"\"A bad case (non-pythonic) of creating ``User``s from DB rows.\"\"\"\n",
    " return [User(row[0], row[1], row[2]) for row in dbrows]\n",
    "\n",
    "def users_from_rows(dbrows) -> list:\n",
    " \"\"\"Create ``User``s from DB rows.\"\"\"\n",
    " return [\n",
    " User(user_id, first_name, last_name)\n",
    " for (user_id, first_name, last_name) in dbrows\n",
    " ]\n",
    "    #در اینجا هر ردیف از داده‌های  به راحتی با استفاده از باز کردن بسته‌ها به سه متغیر با نام‌های مشخص تجزیه می‌شود\n"
   ]
  },
  {
   "cell_type": "markdown",
   "id": "f580164b-e216-48e3-a04d-e0a11d14ed38",
   "metadata": {},
   "source": [
    "<div  style=\"direction:rtl;line-height:200%;\">\n",
    "  <font face=\"B nazanin\" size=5>\n",
    "    <p></p>\n",
    "همچنین، می‌توانیم از عملگر * برای باز کردن توپل‌ها و ارسال تمامی مقادیر به تابع استفاده کنیم. این روش به این شکل است:\n",
    "</font>\n",
    "</div>\n"
   ]
  },
  {
   "cell_type": "markdown",
   "id": "9707ab7b-c8d3-465c-9a40-ccbcfd625729",
   "metadata": {},
   "source": [
    "```\n",
    "[User(*row) for row in dbrows]\n",
    "```\n",
    "\n"
   ]
  },
  {
   "cell_type": "markdown",
   "id": "40dfc3da-838e-40f4-98d8-082cd5092989",
   "metadata": {},
   "source": [
    "<div style=\"direction:rtl;line-height:200%;\">\n",
    "  <font face=\"B Nazanin\" size=4>\n",
    "    <font color=#000080 size=5>\n",
    "استفاده از  * برای آرگومان‌های موقعیتی\n",
    "</font>\n",
    "</div>\n"
   ]
  },
  {
   "cell_type": "markdown",
   "id": "1d09b28d-979b-4607-91a3-60e9405f2e6d",
   "metadata": {},
   "source": [
    "<div  style=\"direction:rtl;line-height:200%;\">\n",
    "  <font face=\"B nazanin\" size=5>\n",
    "    <p></p>\n",
    "اگر بخواهیم همه آرگومان‌های موقعیتی را از یک توپل به یک تابع ارسال کنیم، می‌توانیم از عملگر * استفاده کنیم. مثلاً در تابع max که از این عملگر برای پذیرش تعداد متغیر آرگومان‌ها استفاده می‌کند:\n",
    "</font>\n",
    "</div>\n"
   ]
  },
  {
   "cell_type": "markdown",
   "id": "292ac11b-2049-466f-aa9c-d3a8f906696b",
   "metadata": {},
   "source": [
    "```\n",
    "max(iterable, *[, default=obj, key=func])\n",
    "```"
   ]
  },
  {
   "cell_type": "markdown",
   "id": "25c0cc2b-523c-4d4c-abee-acf1a5ca863d",
   "metadata": {},
   "source": [
    "<div style=\"direction:rtl;line-height:200%;\">\n",
    "  <font face=\"B Nazanin\" size=4>\n",
    "    <font color=#000080 size=5>\n",
    "استفاده از   ** برای آرگومان‌های کلیدواژه‌ای\n",
    "</font>\n",
    "</div>\n"
   ]
  },
  {
   "cell_type": "markdown",
   "id": "23def9f4-f579-48d1-a9c4-d685e1304da9",
   "metadata": {},
   "source": [
    "<div  style=\"direction:rtl;line-height:200%;\">\n",
    "  <font face=\"B nazanin\" size=5>\n",
    "    <p></p>\n",
    "عملگر ** برای آرگومان‌های کلیدواژه‌ای استفاده می‌شود. زمانی که یک دیکشنری به تابع ارسال می‌شود و از دو ستاره ** استفاده می‌کنیم، کلیدهای دیکشنری به عنوان نام پارامترها و مقادیر دیکشنری به عنوان مقادیر پارامترها در نظر گرفته می‌شوند.\n",
    "</font>\n",
    "</div>\n"
   ]
  },
  {
   "cell_type": "markdown",
   "id": "339e8b6b-936c-4ee1-98c3-88b8ac1c6c6e",
   "metadata": {},
   "source": [
    "```\n",
    "function(**{\"key\": \"value\"})  ==  function(key=\"value\")\n",
    "```\n"
   ]
  },
  {
   "cell_type": "code",
   "execution_count": null,
   "id": "fcfc30c0-e3aa-498c-acb8-72ab6f15c208",
   "metadata": {},
   "outputs": [],
   "source": [
    "def function(**kwargs):\n",
    "    print(kwargs)\n",
    "function(key1=\"value1\", key2=\"value2\")\n",
    "    \n"
   ]
  },
  {
   "cell_type": "markdown",
   "id": "8e22d82c-d8e8-48b9-b7dd-f5905235a468",
   "metadata": {},
   "source": [
    "<div  style=\"direction:rtl;line-height:200%;\">\n",
    "  <font face=\"B nazanin\" size=5>\n",
    "    <p></p>\n",
    "•  با استفاده از * می‌توانیم آرگومان‌ها را به صورت موقعیتی به تابع ارسال کنیم.<br>\n",
    "•  با استفاده از ** می‌توانیم آرگومان‌ها را به صورت کلیدواژه‌ای ارسال کنیم و این آرگومان‌ها به دیکشنری تبدیل می‌شوند.<br>\n",
    "•  این عملگرها به ما کمک می‌کنند تا کدهای تمیزتر و پایتونیک‌تری بنویسیم و مدیریت آرگومان‌ها را به روشی مؤثرتر انجام دهیم.\n",
    "</font>\n",
    "</div>\n"
   ]
  },
  {
   "cell_type": "markdown",
   "id": "91d8cdcb-7f6e-4565-a4bd-97d8d36dfe70",
   "metadata": {},
   "source": [
    "<div  style=\"direction:rtl;line-height:200%;\">\n",
    "  <font face=\"B nazanin\" size=5.5>\n",
    "    <p></p>\n",
    "بهتر است که به جای دسترسی به مقادیر دیکشنری kwargs، آرگومان‌ها را به طور مستقیم در خود تعریف تابع استخراج کنیم:\n",
    "</font>\n",
    "</div>\n"
   ]
  },
  {
   "cell_type": "code",
   "execution_count": null,
   "id": "ff9a13d7-3061-4b99-90d1-903ffebf42e8",
   "metadata": {},
   "outputs": [],
   "source": [
    "def function(**kwargs):  # نادرست\n",
    "    timeout = kwargs.get(\"timeout\", DEFAULT_TIMEOUT)\n",
    "    ...\n"
   ]
  },
  {
   "cell_type": "code",
   "execution_count": null,
   "id": "bb12974d-295d-4651-a099-f4f81870cb5e",
   "metadata": {},
   "outputs": [],
   "source": [
    "DEFAULT_TIMEOUT = 30  \n",
    "\n",
    "def function(timeout=DEFAULT_TIMEOUT, **kwargs):\n",
    "    \n",
    "    print(f\"Timeout is set to: {timeout}\")\n"
   ]
  },
  {
   "cell_type": "markdown",
   "id": "d51b8293-b087-42d3-b2e6-84891439d1c5",
   "metadata": {},
   "source": [
    "<div style=\"direction:rtl;line-height:200%;\">\n",
    "  <font face=\"B Nazanin\" size=4>\n",
    "    <font color=#000080 size=5>\n",
    "پارامترهای فقط موقعیتی (Positional-Only Parameters)\n",
    "</font>\n",
    "</div>\n"
   ]
  },
  {
   "cell_type": "markdown",
   "id": "7ec6e578-f48c-4bd6-8f38-28a3b43a7394",
   "metadata": {},
   "source": [
    "<div  style=\"direction:rtl;line-height:200%;\">\n",
    "  <font face=\"B nazanin\" size=5>\n",
    "    <p></p>\n",
    "در پایتون، معمولاً آرگومان‌ها می‌توانند هم به صورت موقعیتی (بر اساس ترتیب) و هم به صورت کلیدواژه‌ای (با نام پارامترها) ارسال شوند. اما در نسخه ۳.۸ به بعد، یک ویژگی جدید به زبان پایتون اضافه شد که به شما این امکان را می‌دهد که پارامترهایی را تعریف کنید که فقط از طریق موقعیت (نه نام) قابل ارسال باشند. این کار با استفاده از / در امضای تابع امکان‌پذیر است.\n",
    "</font>\n",
    "</div>\n"
   ]
  },
  {
   "cell_type": "code",
   "execution_count": null,
   "id": "7ebf9fa3-345a-4415-9d68-2f0727074056",
   "metadata": {},
   "outputs": [],
   "source": [
    "def my_function(x, y, /):\n",
    "    print(f\"{x=}, {y=}\")\n",
    "my_function(1, 2)"
   ]
  },
  {
   "cell_type": "markdown",
   "id": "1697c062-4445-47c7-a086-33523243972c",
   "metadata": {},
   "source": [
    "<div  style=\"direction:rtl;line-height:200%;\">\n",
    "  <font face=\"B nazanin\" size=5>\n",
    "    <p></p>\n",
    "اما اگر بخواهیم از پارامترها به صورت کلیدواژه‌ای استفاده کنیم، خط  TypeError  دریافت خواهیم کرد\n",
    "</font>\n",
    "</div>\n"
   ]
  },
  {
   "cell_type": "markdown",
   "id": "905f14f5-be2c-4ba4-8e6f-7a0686d21409",
   "metadata": {},
   "source": [
    "<div style=\"direction:rtl;line-height:200%;\">\n",
    "  <font face=\"B Nazanin\" size=4>\n",
    "    <font color=#000080 size=5>\n",
    "چرا از پارامترهای فقط موقعیتی استفاده کنیم؟\n",
    "</font>\n",
    "</div>\n"
   ]
  },
  {
   "cell_type": "markdown",
   "id": "290f8819-e952-41c5-a258-d248dd9f035f",
   "metadata": {},
   "source": [
    "<div  style=\"direction:rtl;line-height:200%;\">\n",
    "  <font face=\"B nazanin\" size=5>\n",
    "    <p></p>\n",
    "1.\tبهبود خوانایی و وضوح: وقتی پارامترهایی داریم که باید فقط به صورت موقعیتی وارد شوند، این کار کمک می‌کند که رابط‌های برنامه‌نویسی (API) واضح‌تر و ساده‌تر شوند. به عبارت دیگر، این پارامترها را نمی‌توانیم به اشتباه با نام فراخوانی کنیم.<br>\n",
    "2.\tکنترل بیشتر: با استفاده از این ویژگی، می‌توانیم کنترل دقیقی روی نحوه ارسال مقادیر به پارامترها داشته باشیم و از اشتباهات جلوگیری کنیم.<br>\n",
    "3.\tرابط‌های ساده‌تر: گاهی اوقات بهتر است که یکپارچگی رابط تابع حفظ شود و از استفاده از نام پارامترها به جای موقعیت جلوگیری شود. این می‌تواند در مواردی مفید باشد که تابع باید فقط مقادیر خاصی را دریافت کند و استفاده از نام‌ها باعث پیچیدگی یا سردرگمی شود.\n",
    "</font>\n",
    "</div>\n"
   ]
  },
  {
   "cell_type": "markdown",
   "id": "d2c9c3c0-1424-41b3-9a3d-45e85c6b4b7e",
   "metadata": {},
   "source": [
    "<div style=\"direction:rtl;line-height:200%;\">\n",
    "  <font face=\"B Nazanin\" size=4>\n",
    "    <font color=#000080 size=5>\n",
    "پارامترهای فقط کلیدواژه‌ای (Keyword-Only Arguments)\n",
    "</font>\n",
    "</div>\n"
   ]
  },
  {
   "cell_type": "markdown",
   "id": "c35b7689-3b50-475f-bb53-ecdd64bd6d88",
   "metadata": {},
   "source": [
    "<div  style=\"direction:rtl;line-height:200%;\">\n",
    "  <font face=\"B nazanin\" size=5>\n",
    "    <p></p>\n",
    "در پایتون، علاوه بر پارامترهای فقط موقعیتی که در بخش قبلی توضیح دادیم، می‌توانیم پارامترهایی داشته باشیم که فقط به صورت کلیدواژه‌ای (یعنی با استفاده از نام پارامترها) ارسال شوند. این ویژگی به وضوح مشخص می‌کند که برای هر پارامتر چه مقداری ارسال شده و از اشتباهات احتمالی جلوگیری می‌کند.\n",
    "</font>\n",
    "</div>\n"
   ]
  },
  {
   "cell_type": "code",
   "execution_count": null,
   "id": "ffb7e193-65d5-4965-8398-d49827d38fa1",
   "metadata": {},
   "outputs": [],
   "source": [
    "def my_function(x, y, *args, kw1, kw2=0):\n",
    "    print(f\"{x=}, {y=}, {kw1=}, {kw2=}\")\n",
    "    print(args)\n",
    "# فراخوانی‌های معتبر\n",
    "my_function(1, 2, 3, 4, kw1=3, kw2=4)\n",
    "my_function(1, 2, kw1=3)  \n"
   ]
  },
  {
   "cell_type": "markdown",
   "id": "57243811-f0e5-4a57-b856-9f475ca101a4",
   "metadata": {},
   "source": [
    "<div  style=\"direction:rtl;line-height:200%;\">\n",
    "  <font face=\"B nazanin\" size=5>\n",
    "    <p></p>\n",
    "•  پارامترهای فقط موقعیتی (Positional-Only) و فقط کلیدواژه‌ای (Keyword-Only) هرکدام در شرایط خاص مفید هستند.<br>\n",
    "•  استفاده از پارامترهای فقط کلیدواژه‌ای در مواردی که نام پارامترها معنی‌دار است، کمک می‌کند تا کد خواناتر و مفهوم‌تر شود.<br>\n",
    "•  برای پارامترهایی که معنای خاصی ندارند (مثل توابعی که صرفاً داده‌ها را پردازش می‌کنند)، ممکن است پارامترهای فقط موقعیتی مفید باشند.<br>\n",
    "•  در بیشتر موارد، استفاده از پارامترهای فقط کلیدواژه‌ای باعث می‌شود که کد دقیق‌تر و ایمن‌تر باشد.\n",
    "</font>\n",
    "</div>\n"
   ]
  },
  {
   "cell_type": "markdown",
   "id": "4dee4eb0-cc56-45ac-9817-92c1fddeed93",
   "metadata": {},
   "source": [
    "<div style=\"direction:rtl;line-height:200%;\">\n",
    "  <font face=\"B Nazanin\" size=4>\n",
    "    <font color=#000080 size=5>\n",
    "تفاوت‌    * با *args \n",
    "\n",
    "</font>\n",
    "</div>\n"
   ]
  },
  {
   "cell_type": "code",
   "execution_count": null,
   "id": "076ba9d0-1300-4e4f-a405-1c9509b93c92",
   "metadata": {},
   "outputs": [],
   "source": [
    "def my_function(x, y, *args):\n",
    "    print(x, y)\n",
    "    print(args)\n",
    "\n",
    "my_function(1, 2, 3, 4, 5)\n"
   ]
  },
  {
   "cell_type": "code",
   "execution_count": null,
   "id": "5adc5747-486e-49b3-b931-10bbd02440e5",
   "metadata": {},
   "outputs": [],
   "source": [
    "def my_function(x, y, *, z=None):\n",
    "    print(x, y, z)\n",
    "\n",
    "# فراخوانی صحیح\n",
    "my_function(1, 2, z=3)\n",
    "\n",
    "# خطا در صورتی که از پارامتر به صورت موقعیتی استفاده شود\n",
    "#my_function(1, 2, 3)  # خطا\n"
   ]
  },
  {
   "cell_type": "markdown",
   "id": "304886bd-83ac-4069-89fa-e1f6a3b8c461",
   "metadata": {},
   "source": [
    "<div  style=\"direction:rtl;line-height:200%;\">\n",
    "  <font face=\"B nazanin\" size=5>\n",
    "    <p></p>\n",
    "•  از *args برای جمع‌آوری هر تعداد آرگومان موقعیتی استفاده می‌شود.<br>\n",
    "•  از نماد * برای مشخص کردن آغاز آرگومان‌های کلیدواژه‌ای فقط استفاده می‌شود، به طوری که همه آرگومان‌های بعد از آن باید به صورت کلیدواژه‌ای ارسال شوند.<br>\n",
    "•  استفاده از آرگومان‌های کلیدواژه‌ای فقط به کد کمک می‌کند که خواناتر و واضح‌تر باشد و همچنین از سازگاری با نسخه‌های قبلی و بازسازی کد پشتیبانی می‌کند.<br>\n",
    "</font>\n",
    "</div>\n"
   ]
  },
  {
   "cell_type": "markdown",
   "id": "122d590f-88a7-414d-b91d-af823d363a58",
   "metadata": {},
   "source": [
    "<div style=\"direction:rtl;line-height:200%;\">\n",
    "  <font face=\"B Nazanin\" size=4>\n",
    "    <font color=#000080 size=5>\n",
    "اگر تابعی تعداد زیادی آرگومان داشته باشد، احتمالاً طراحی آن مناسب نیست. این می‌تواند نشانه‌ای از مشکل در طراحی کد باشد، زیرا این نوع توابع پیچیده‌تر و نگهداری‌شان دشوارتر می‌شود.\n",
    "</font>\n",
    "<iv>\n",
    "\n"
   ]
  },
  {
   "cell_type": "markdown",
   "id": "5a459a92-7618-4f88-a94d-677a25e34ab4",
   "metadata": {},
   "source": [
    "<div style=\"direction:rtl;line-height:200%;\">\n",
    "  <font face=\"B Nazanin\" size=4>\n",
    "    <font color=#000080 size=5>\n",
    "مسئله‌ی پیوستگی‌های زیاد (Coupling):\n",
    "\n",
    "</font>\n",
    "</div>\n"
   ]
  },
  {
   "cell_type": "markdown",
   "id": "402ce667-0a38-4a17-8970-ea64aa05b60f",
   "metadata": {},
   "source": [
    "<div  style=\"direction:rtl;line-height:200%;\">\n",
    "  <font face=\"B nazanin\" size=5>\n",
    "    <p></p>\n",
    "هرچه تعداد آرگومان‌های یک تابع بیشتر باشد، وابستگی آن تابع به تابع دیگری (که آن را فراخوانی می‌کند) بیشتر خواهد بود. برای مثال، اگر تابعی 5 آرگومان بگیرد، فراخوانی آن می‌تواند دشوار باشد و نیاز به اطلاعات زیادی داشته باشد.<br>\n",
    "این نشان می‌دهد که توابعی که تعداد آرگومان زیادی دارند، احتمالاً به صورت دقیق وابسته به دیگر توابع هستند و این می‌تواند باعث شود که این توابع کارکرد داخلی یکدیگر را بدانند و حتی بخشی از آن را خودشان انجام دهند. این نوع وابستگی‌ها به طور کلی نشانه‌ای از طراحی ضعیف هستند.<br>\n",
    "اگر یک تابع نیاز به تعداد زیادی پارامتر دارد، این یک نشانه طراحی بد است که باید اصلاح شود. یکی از راه‌های مناسب برای رفع این مشکل، تجمیع پارامترها در یک شیء است که باعث ساده‌تر شدن کد و افزایش قابلیت استفاده مجدد آن می‌شود.\n",
    "</font>\n",
    "</div>\n"
   ]
  },
  {
   "cell_type": "markdown",
   "id": "09a7b356-0c1a-41e7-a7be-0339182bab4d",
   "metadata": {},
   "source": [
    "<div style=\"direction:rtl;line-height:200%;\">\n",
    "  <font face=\"B Nazanin\" size=4>\n",
    "    <font color=#000080 size=5>\n",
    "راه‌حل‌های پیشنهادی:\n",
    "</font>\n",
    "</div>\n"
   ]
  },
  {
   "cell_type": "markdown",
   "id": "877e31ac-04b4-423f-95a9-926fe7935006",
   "metadata": {},
   "source": [
    "<div  style=\"direction:rtl;line-height:200%;\">\n",
    "  <font face=\"B nazanin\" size=5>\n",
    "    <p></p>\n",
    "1.\tایجاد شیء جدید برای آرگومان‌ها (Reification): یکی از روش‌های حل این مشکل ایجاد یک شیء جدید است که تمام آرگومان‌ها را در خود نگه‌دارد. این شیء می‌تواند یک دیکشنری، یک لیست یا حتی یک کلاس خاص باشد که تمام اطلاعات مرتبط با آرگومان‌ها را به صورت یک‌جا ذخیره کند.<br>\n",
    "2.\tاستفاده از ویژگی‌های پایتون برای آرگومان‌های پویا: در پایتون می‌توان از ویژگی‌هایی مثل *args و **kwargs برای ایجاد توابع با امضای داینامیک استفاده کرد. این روش ممکن است راه‌حلی مناسب باشد، اما باید دقت کرد که زیاد از آن استفاده نشود، زیرا این نوع توابع ممکن است خیلی داینامیک شوند و نگهداری‌شان سخت باشد.<br>\n",
    "3.\tتقسیم توابع به توابع کوچک‌تر: حتی اگر امضای تابع درست باشد و از ویژگی‌های پایتون به خوبی استفاده شود، اگر تابع به انجام کارهای زیادی بپردازد و پیچیدگی بالایی داشته باشد، نشانه‌ای از این است که باید تابع به توابع کوچک‌تر تقسیم شود.\n",
    "\n",
    "</font>\n",
    "</div>\n"
   ]
  },
  {
   "cell_type": "markdown",
   "id": "22766c00-8a6b-4c91-809c-66905cbf4654",
   "metadata": {},
   "source": [
    "<div style=\"direction:rtl;line-height:200%;\">\n",
    "  <font face=\"B Nazanin\" size=4>\n",
    "    <font color=#000080 size=5>\n",
    "جلوگیری از ایجاد عوارض جانبی (Side Effects) \n",
    "\n",
    "</font>\n",
    "</div>\n"
   ]
  },
  {
   "cell_type": "markdown",
   "id": "dcc60ff8-9ddf-4137-bda7-8939922240a3",
   "metadata": {},
   "source": [
    "<div style=\"direction:rtl;line-height:200%;\">\n",
    "  <font face=\"B Nazanin\" size=4>\n",
    "    <font color=#000080 size=5>\n",
    "1. جلوگیری از عوارض جانبی هنگام ارسال اشیاء متغیر (Mutable Objects)\n",
    "\n",
    "</font>\n",
    "</div>\n"
   ]
  },
  {
   "cell_type": "markdown",
   "id": "30648cb6-8246-45dc-bf36-68688569a66d",
   "metadata": {},
   "source": [
    "<div  style=\"direction:rtl;line-height:200%;\">\n",
    "  <font face=\"B nazanin\" size=5>\n",
    "    <p></p>\n",
    "هنگامی که اشیاء قابل تغییر (مانند لیست‌ها، دیکشنری‌ها، و... ) را به یک تابع ارسال می‌کنیم، باید مراقب باشیم که تابع این اشیاء را تغییر ندهد. تغییر یک شیء متغیر که به تابع ارسال شده، می‌تواند منجر به عوارض جانبی ناخواسته شود. اگر تغییر این شیء ضروری است، بهتر است یک نسخه کپی از آن ایجاد کنیم و سپس تغییرات را بر روی نسخه کپی اعمال کنیم. این کار از بروز تغییرات ناخواسته در شیء اصلی جلوگیری می‌کند.\n",
    "\n",
    "</font>\n",
    "</div>\n"
   ]
  },
  {
   "cell_type": "markdown",
   "id": "e071bff6-4480-4086-9e5b-586116aff86a",
   "metadata": {},
   "source": [
    "<div style=\"direction:rtl;line-height:200%;\">\n",
    "  <font face=\"B Nazanin\" size=4>\n",
    "    <font color=#000080 size=5>\n",
    "2. گروه‌بندی پارامترها با استفاده از اشیاء به‌عنوان ظرف (Container) \n",
    "</font>\n",
    "</div>\n"
   ]
  },
  {
   "cell_type": "markdown",
   "id": "cca09cad-b63d-43ab-b796-7843e4eb747f",
   "metadata": {},
   "source": [
    "<div  style=\"direction:rtl;line-height:200%;\">\n",
    "  <font face=\"B nazanin\" size=5>\n",
    "    <p></p>\n",
    "اگر پارامترهای زیادی به تابع ارسال می‌شود، می‌توانیم آنها را به‌صورت منطقی در یک شیء واحد گروه‌بندی کنیم. این شیء به‌عنوان یک ظرف عمل کرده و تمام داده‌های لازم را در بر می‌گیرد. این کار باعث می‌شود که کد خواناتر و مدیریت آن آسان‌تر شود. این مفهوم به انتزاع (Abstraction) در طراحی شیء‌گرا نزدیک است و به ایجاد ساختار بهتر کمک می‌کند.\n",
    "</font>\n",
    "</div>\n"
   ]
  },
  {
   "cell_type": "markdown",
   "id": "49468f43-5c2c-468d-ba7c-e79133f18c08",
   "metadata": {},
   "source": [
    "<div style=\"direction:rtl;line-height:200%;\">\n",
    "  <font face=\"B Nazanin\" size=4>\n",
    "    <font color=#000080 size=5>\n",
    "3. استفاده از  *args  و  **kwargs در شرایط خاص\n",
    "\n",
    "</font>\n",
    "</div>\n"
   ]
  },
  {
   "cell_type": "markdown",
   "id": "3d445054-0203-4982-a7fa-918172f4b388",
   "metadata": {},
   "source": [
    "<div  style=\"direction:rtl;line-height:200%;\">\n",
    "  <font face=\"B nazanin\" size=5>\n",
    "<p></p>\n",
    "     اگر تعداد پارامترهای ورودی یک تابع بسیار زیاد باشد و امکان گروه‌بندی آنها در یک شیء وجود نداشته باشد، می‌توانیم از *args و **kwargs استفاده کنیم. این تکنیک، تابع را انعطاف‌پذیرتر می‌کند، اما خوانایی کد را کاهش می‌دهد زیرا مشخص نیست که تابع چه پارامترهایی را می‌پذیرد. به همین دلیل، بهتر است که این نوع توابع به خوبی مستندسازی شوند تا در آینده قابل درک باشند.\n",
    "</font>\n",
    "</div>\n"
   ]
  },
  {
   "cell_type": "markdown",
   "id": "3ed30180-f1c9-4a15-a137-df4999d2d6e1",
   "metadata": {},
   "source": [
    "<div style=\"direction:rtl;line-height:200%;\">\n",
    "  <font face=\"B Nazanin\" size=4>\n",
    "    <font color=#000080 size=5>\n",
    "4. محدودیت استفاده از  *args و **kwargs\n",
    "</font>\n",
    "</div>\n"
   ]
  },
  {
   "cell_type": "markdown",
   "id": "55215adb-7b63-42ae-b2d7-54f66c7fee7c",
   "metadata": {},
   "source": [
    "<div  style=\"direction:rtl;line-height:200%;\">\n",
    "  <font face=\"B nazanin\" size=5>\n",
    "<p></p>\n",
    "بهتر است که *args و **kwargs فقط در مواقعی استفاده شوند که یک تابع به صورت کامل و عمومی نقش یک واسطه یا پوشاننده (Wrapper) برای تابع دیگری را ایفا می‌کند، مانند مواردی که تابع super() در یک کلاس فرزند استفاده می‌شود یا زمانی که از یک دکوراتور (Decorator) استفاده می‌کنیم.\n",
    "</font>\n",
    "</div>\n"
   ]
  },
  {
   "cell_type": "markdown",
   "id": "4b95776d-8b92-4b4b-abe7-406da8019152",
   "metadata": {},
   "source": [
    "<div style=\"direction:rtl;line-height:200%;\">\n",
    "  <font face=\"B Nazanin\" size=4>\n",
    "    <font color=#000080 size=5>\n",
    "Orthogonality in software\n",
    "</font>\n",
    "</div>\n"
   ]
  },
  {
   "cell_type": "markdown",
   "id": "8655f9be-3add-42df-ac84-de8eaff214b1",
   "metadata": {},
   "source": [
    "<div  style=\"direction:rtl;line-height:200%;\">\n",
    "  <font face=\"B nazanin\" size=5>\n",
    "<p></p>\n",
    "مفهوم ارتوگونالیته در طراحی نرم‌افزار به معنای استقلال و عدم وابستگی اجزای مختلف نرم‌افزار به یکدیگر است، به طوری که تغییر در یک جزء، بر سایر اجزا تأثیر نگذارد. این اصل در نرم‌افزار به شکلی مشابه با مفهوم ریاضیاتی آن به کار می‌رود: اگر دو بخش نرم‌افزار ارتوگونال باشند، تغییری در یکی از آنها تأثیری بر دیگری ندارد، و این باعث کاهش عوارض جانبی می‌شود. این استقلال نه‌تنها باعث می‌شود که بخش‌های مختلف نرم‌افزار را بتوان به طور جداگانه تغییر داد و آزمایش کرد، بلکه قابلیت استفاده مجدد و تست‌پذیری کد را هم افزایش می‌دهد.<br>\n",
    "<br>\n",
    "در اینجا مثالی ساده از ارتوگونالیته را بررسی می‌کنیم. فرض کنید تابعی داریم که قیمت نهایی یک محصول را با در نظر گرفتن مالیات و تخفیف محاسبه می‌کند. سپس تابعی برای نمایش قیمت نهایی داریم که با فرمت خاصی آن را به صورت رشته بازمی‌گرداند. این دو تابع مستقل از هم هستند و می‌توانند جداگانه تغییر کنند:\n",
    "</font>\n",
    "</div>\n"
   ]
  },
  {
   "cell_type": "code",
   "execution_count": null,
   "id": "da3851d6-49b7-4336-aa6c-2c394df6cc32",
   "metadata": {},
   "outputs": [],
   "source": [
    "def calculate_price(base_price: float, tax: float, discount: float) -> float:\n",
    "    return (base_price * (1 + tax)) * (1 - discount)\n",
    "\n",
    "def show_price(price: float) -> str:\n",
    "    return \"$ {0:,.2f}\".format(price)\n",
    "\n",
    "def str_final_price(base_price: float, tax: float, discount: float, fmt_function=str) -> str:\n",
    "    return fmt_function(calculate_price(base_price, tax, discount))\n",
    "print(str_final_price(10, 0.2, 0.5)) \n",
    "print(str_final_price(1000, 0.2, 0)) \n",
    "print(str_final_price(1000, 0.2, 0.1, fmt_function=show_price))  \n"
   ]
  },
  {
   "cell_type": "markdown",
   "id": "fe5de2ca-9ec8-40a3-ad03-68d5f7006350",
   "metadata": {},
   "source": [
    "<div  style=\"direction:rtl;line-height:200%;\">\n",
    "  <font face=\"B nazanin\" size=5>\n",
    "    <p></p>\n",
    "•  استقلال توابع از یکدیگر:<br>\n",
    "\tتغییر در نحوه محاسبه قیمت (calculate_price) تأثیری روی قالب‌بندی (show_price) یا برعکس ندارد. این یعنی هر تابع کار مخصوص به خودش را انجام می‌دهد و به وظایف دیگر توابع وابسته نیست.<br>\n",
    "•  انعطاف‌پذیری:<br>\n",
    "\tتابع str_final_price به کمک پارامتر fmt_function کاملاً عمومی طراحی شده است. این پارامتر به شما اجازه می‌دهد هر تابع قالب‌بندی دلخواهی را به آن بدهید (به‌جای show_price می‌توانید تابع دیگری استفاده کنید) بدون نیاز به تغییر در منطق محاسبات قیمت.\n",
    "\n",
    "</font>\n",
    "</div>"
   ]
  },
  {
   "cell_type": "markdown",
   "id": "b3d5db56-87cd-4fde-8023-3c427f8dc07b",
   "metadata": {},
   "source": [
    "<div style=\"direction:rtl;line-height:200%;\">\n",
    "  <font face=\"B Nazanin\" size=4>\n",
    "    <font color=#000080 size=5>\n",
    "مزایای ارتوگونالیته در طراحی نرم‌افزار\n",
    "</font>\n",
    "</div>\n"
   ]
  },
  {
   "cell_type": "markdown",
   "id": "1e2d57d7-5f46-41f4-b2ec-4701250adf2c",
   "metadata": {},
   "source": [
    "<div  style=\"direction:rtl;line-height:200%;\">\n",
    "  <font face=\"B nazanin\" size=5>\n",
    "<p></p>\n",
    "•\tکاهش وابستگی: ارتوگونالیته باعث می‌شود بخش‌های مختلف نرم‌افزار به یکدیگر وابستگی نداشته باشند، بنابراین تغییر در یکی از آنها بر سایر بخش‌ها تأثیر نمی‌گذارد.<br>\n",
    "•\tتست‌پذیری بهتر: از آنجا که تغییر در یک بخش نرم‌افزار تأثیری بر سایر بخش‌ها ندارد، تست کردن هر بخش به صورت مستقل امکان‌پذیر است و نیازی به تست جامع برای هر تغییر کوچک نیست.<br>\n",
    "•\tقابلیت استفاده مجدد و نگهداشت: ارتوگونالیته باعث می‌شود کد ما ساده‌تر و منعطف‌تر باشد و بتوانیم از اجزای مختلف آن در بخش‌های دیگر پروژه استفاده کنیم.\n",
    "</font>\n",
    "/div>\n",
    "\n"
   ]
  },
  {
   "cell_type": "markdown",
   "id": "ff6ecad4-cd74-49ae-a1d4-967b72c2dcfd",
   "metadata": {},
   "source": [
    "<div style=\"direction:rtl;line-height:200%;\">\n",
    "  <font face=\"B Nazanin\" size=4>\n",
    "    <font color=#000080 size=5>\n",
    "سازمان‌دهی و ساختاردهی بهتر کد\n",
    "</font>\n",
    "</div>\n"
   ]
  },
  {
   "cell_type": "markdown",
   "id": "44175e5d-757f-4ec5-a83e-63c7912fbb9a",
   "metadata": {},
   "source": [
    "<div style=\"direction:rtl;line-height:200%;\">\n",
    "  <font face=\"B Nazanin\" size=4>\n",
    "    <font color=#000080 size=5>\n",
    "1- کوچک‌سازی فایل‌ها:\n",
    "</font>\n",
    "</div>\n"
   ]
  },
  {
   "cell_type": "markdown",
   "id": "e1c3397f-8ee2-4d78-ad17-41e750e6a9a7",
   "metadata": {},
   "source": [
    "<div  style=\"direction:rtl;line-height:200%;\">\n",
    "  <font face=\"B nazanin\" size=5>\n",
    "<p></p>\n",
    "•\tداشتن فایل‌های بزرگ که شامل تعداد زیادی تعریف (مثل کلاس‌ها، توابع و ثابت‌ها) هستند، می‌تواند نگهداری و خواندن کد را مشکل‌تر کند.<br>\n",
    "•\tپیشنهاد می‌شود کد را به فایل‌های کوچک‌تر تقسیم کنیم و بخش‌های نامرتبط را در فایل‌های جداگانه قرار دهیم. این کار موجب می‌شود تا پیمایش و یافتن بخش‌های مختلف راحت‌تر شود.\n",
    "</font>\n",
    "</div>\n"
   ]
  },
  {
   "cell_type": "markdown",
   "id": "17077284-3fca-4398-a409-298790a7d4fe",
   "metadata": {},
   "source": [
    "<div style=\"direction:rtl;line-height:200%;\">\n",
    "  <font face=\"B Nazanin\" size=4>\n",
    "    <font color=#000080 size=5>\n",
    "2-  ایجاد پکیج‌های (بسته‌های) پایتون:\n",
    "\n",
    "</font>\n",
    "</div>"
   ]
  },
  {
   "cell_type": "markdown",
   "id": "d3aa41e5-28ec-4889-8d87-f397abc40e05",
   "metadata": {},
   "source": [
    "<div  style=\"direction:rtl;line-height:200%;\">\n",
    "  <font face=\"B nazanin\" size=5>\n",
    "<p></p>\n",
    "•\tاگر فایل بزرگی دارید که بخش‌های مختلف کد از آن استفاده می‌کنند، می‌توانید آن را به چندین فایل کوچک‌تر تبدیل کرده و همه را در یک پوشه‌ی جدید که یک فایل __init__.py در آن است، قرار دهید. این فایل‌ها پکیج را تشکیل می‌دهند و ساختار آن‌ها به شکلی است که همچنان با دیگر بخش‌های کد سازگار باقی می‌مانند.<br>\n",
    "•\tفایل __init__.py می‌تواند کدها و تعریف‌های اصلی را از فایل‌های دیگر وارد کند تا کل پکیج به عنوان یک ماژول واحد قابل استفاده باشد.\n",
    "</font>\n",
    "</div>"
   ]
  },
  {
   "cell_type": "markdown",
   "id": "6bc004eb-1775-460d-a456-5fdb19753606",
   "metadata": {},
   "source": [
    "<div style=\"direction:rtl;line-height:200%;\">\n",
    "  <font face=\"B Nazanin\" size=4>\n",
    "    <font color=#000080 size=5>\n",
    "3-  کاهش بار حافظه و وابستگی‌ها:\n",
    "\n",
    "</font>\n",
    "</div>\n"
   ]
  },
  {
   "cell_type": "markdown",
   "id": "d9c64370-5edd-4734-9475-61515a12349d",
   "metadata": {},
   "source": [
    "<div  style=\"direction:rtl;line-height:200%;\">\n",
    "  <font face=\"B nazanin\" size=5>\n",
    "<p></p>\n",
    "•\tکوچکتر کردن فایل‌ها باعث می‌شود که هنگام وارد کردن (import) یک ماژول، تنها موارد موردنیاز به حافظه وارد شوند، در نتیجه کد بهینه‌تر و سریع‌تر بارگذاری می‌شود.<br>\n",
    "•\tهمچنین این تقسیم‌بندی باعث می‌شود هر فایل به وابستگی‌های کمتری نیاز داشته باشد.\n",
    "</font>\n",
    "</div>\n"
   ]
  },
  {
   "cell_type": "markdown",
   "id": "f378c44f-a5df-4653-99d1-9b8c9ed04b94",
   "metadata": {},
   "source": [
    "<div style=\"direction:rtl;line-height:200%;\">\n",
    "  <font face=\"B Nazanin\" size=4>\n",
    "    <font color=#000080 size=5>\n",
    "4- مرکزیت دادن به اطلاعات مشترک:\n",
    "</font>\n",
    "</div>\n"
   ]
  },
  {
   "cell_type": "markdown",
   "id": "0136afcf-4078-463a-8cd1-72bb9ad49578",
   "metadata": {},
   "source": [
    "<div  style=\"direction:rtl;line-height:200%;\">\n",
    "  <font face=\"B nazanin\" size=5>\n",
    "<p></p>\n",
    "•\tمثلاً به جای اینکه ثابت‌ها (مثل مقادیر تنظیمات) در هر فایل جداگانه تعریف شوند، می‌توان یک فایل خاص برای آن‌ها تعریف کرد (مثلاً constants.py). سپس در هر بخش از پروژه که به این ثابت‌ها نیاز داشتیم، به جای تعریف مجدد، آنها را از این فایل وارد کنیم.\n",
    "</font>\n",
    "</div>\n"
   ]
  },
  {
   "cell_type": "markdown",
   "id": "8968bfb8-985c-4ff3-8239-0f9d57b046d0",
   "metadata": {},
   "source": [
    "<div style=\"direction:rtl;line-height:200%;\">\n",
    "  <font face=\"B Nazanin\" size=4>\n",
    "    <font color=#000080 size=5>\n",
    "مزایای سازمان‌دهی بهتر:\n",
    "\n",
    "</font>\n",
    "</div>\n"
   ]
  },
  {
   "cell_type": "markdown",
   "id": "1c3b2754-9816-4592-a6e1-0982deb06d1a",
   "metadata": {},
   "source": [
    "<div  style=\"direction:rtl;line-height:200%;\">\n",
    "  <font face=\"B nazanin\" size=5>\n",
    "<p></p>\n",
    "•\tپیمایش راحت‌تر: فایل‌های کوچکتر با تعریف‌های مرتبط باعث می‌شود تا کد راحت‌تر خوانده و پیدا شود.<br>\n",
    "•\tبارگذاری کارآمدتر: با بارگذاری تنها موارد ضروری، حافظه کمتری اشغال شده و سرعت بالاتر می‌رود.<br.\n",
    "•\tکاهش تکرار و استفاده دوباره از کد: تمرکز روی اطلاعات مشترک (مانند ثابت‌ها) باعث کاهش تکرار و خطا در کد می‌شود و این اطلاعات به سادگی قابل استفاده مجدد هستند.\n",
    "</font>\n",
    "</div>\n"
   ]
  },
  {
   "cell_type": "markdown",
   "id": "96fb43ac-cd38-4327-9965-683828884b76",
   "metadata": {},
   "source": [
    "<div style=\"direction:rtl;line-height:200%;\">\n",
    "  <font face=\"B Nazanin\" size=4>\n",
    "    <font color=#000080 size=5>\n",
    "نکات کلیدی فصل:\n",
    "\n",
    "</font>\n",
    "</div>"
   ]
  },
  {
   "cell_type": "markdown",
   "id": "e3884ccd-1b18-43c9-a74d-8b8b7e0f2233",
   "metadata": {},
   "source": [
    "<div  style=\"direction:rtl;line-height:200%;\">\n",
    "  <font face=\"B nazanin\" size=5>\n",
    "<p></p>\n",
    "1.\tقرارداد با مشتری (Design by Contract - DbC):\n",
    "<br>\n",
    "o\tاصل DbC به این معناست که هر مؤلفه کد با شرایطی که مشخص شده کار می‌کند و در صورت بروز خطا، می‌توانیم به سرعت مشخص کنیم که کدام بخش از کد قرارداد را نقض کرده است.<br>\n",
    "o\tاین روش به اشکال‌زدایی مؤثر کمک می‌کند، چون باعث می‌شود خطاها به صورت دقیق مشخص شوند.<br>\n",
    "2.\tبرنامه‌نویسی دفاعی:\n",
    "<br>\n",
    "o\tبرنامه‌نویسی دفاعی به معنی نوشتن کدهایی است که از خود در برابر ورودی‌های اشتباه یا مخرب محافظت می‌کنند.<br>\n",
    "o\tاین روش به ویژه برای بخش‌های حیاتی برنامه بسیار مفید است و مکمل خوبی برای DbC محسوب می‌شود.<br>\n",
    "3.\tاستفاده مناسب از Assert:\n",
    "<br>\n",
    "o\tدر پایتون، باید از assert به درستی و فقط برای چک کردن شرایطی استفاده کنیم که فرض می‌کنیم همواره درست هستند.<br>\n",
    "o\tنباید از assert برای کنترل جریان برنامه استفاده کرد و نباید این استثناها را گرفت.<br>\n",
    "4.\tاستفاده از استثناها (Exceptions):\n",
    "<br>\n",
    "o\tاستثناها را باید در مواقع مناسب و به درستی به کار برد.<br>\n",
    "o\tنباید از استثناها برای کنترل جریان استفاده کنیم؛ زیرا این روش می‌تواند خوانایی و پایداری کد را کاهش دهد.<br>\n",
    "5.\tترکیب در مقابل ارث‌بری:\n",
    "<br>\n",
    "o\tدر طراحی شی‌گرا، گاهی بهتر است از ترکیب (composition) به جای ارث‌بری (inheritance) استفاده کنیم.<br>\n",
    "o\tاستفاده از هر کدام بستگی به نیاز دارد، اما بهتر است از ضد الگوهای رایج اجتناب کنیم، به ویژه در پایتون که زبان بسیار پویایی است.<br>\n",
    "6.\tتعداد پارامترهای ورودی به توابع:\n",
    "<br>\n",
    "o\tتوابعی که پارامترهای زیادی می‌پذیرند، معمولاً نشانه‌ای از طراحی نادرست هستند.<br>\n",
    "o\tباید با استفاده از روش‌های مناسب، مثل دسته‌بندی پارامترها یا ایجاد اشیاء جدید برای آن‌ها، از پیچیدگی بیش از حد در تعریف توابع جلوگیری کرد.\n",
    "</font>\n",
    "</div>"
   ]
  },
  {
   "cell_type": "code",
   "execution_count": null,
   "id": "602c053b-05ff-4d7d-9ca1-624ec916e99b",
   "metadata": {},
   "outputs": [],
   "source": []
  }
 ],
 "metadata": {
  "kernelspec": {
   "display_name": "Python 3 (ipykernel)",
   "language": "python",
   "name": "python3"
  },
  "language_info": {
   "codemirror_mode": {
    "name": "ipython",
    "version": 3
   },
   "file_extension": ".py",
   "mimetype": "text/x-python",
   "name": "python",
   "nbconvert_exporter": "python",
   "pygments_lexer": "ipython3",
   "version": "3.12.4"
  }
 },
 "nbformat": 4,
 "nbformat_minor": 5
}

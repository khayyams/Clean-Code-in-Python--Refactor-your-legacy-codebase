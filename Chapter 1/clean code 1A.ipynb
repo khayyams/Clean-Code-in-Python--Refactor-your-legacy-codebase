{
 "cells": [
  {
   "cell_type": "markdown",
   "id": "7ff5a8b0-5a61-4d10-9b52-4b88abf8c8f5",
   "metadata": {},
   "source": [
    "<h1 style=\"text-align:center;font-size:220%;color:#0000CD; font-family: 'B Nazanin';\">فصل 1<br><hr><span style=\"color:#000000;font-size:150%;\">مقدمه، قالب‌بندی کد و ابزارها</span></h1>"
   ]
  },
  {
   "cell_type": "markdown",
   "id": "ac486104-f41d-4a43-b85e-c8413f62e606",
   "metadata": {},
   "source": [
    "<div  style=\"text-align:center;direction:rtl;line-height:200%;\">\n",
    "<font face=\"B nazanin\" size=5>\n",
    "<p></p>\n",
    "<hr>\n",
    "استاد: دکتر صالحی\n",
    "<br>\n",
    "ارائه دهنده: ریحانه رئیسی\n",
    "<br>\n",
    "نگار بهارلو\n",
    "<br>\n",
    "عاطفه شالوزاد\n",
    "<br>\n",
    "درس مباحثی در علوم کامپیوتر\n",
    "<hr>\n",
    "</font>\n",
    "</div>\n",
    "</font>\r\n",
    "</div>\r\n"
   ]
  },
  {
   "cell_type": "markdown",
   "id": "11ddd136-da24-4972-82b7-981412b4d4c0",
   "metadata": {},
   "source": [
    "<div  style=\"direction:rtl;line-height:200%;\">\r\n",
    "  <font face=\"B nazanin\" size=5>\r\n",
    "    <p></p>\r\n",
    "در این فصل، به بررسی اولین مفاهیم مربوط به کد تمیز می‌پردازیم، با شروع از اینکه کد تمیز چیست و چه معنایی دارد. هدف اصلی این فصل این است که بفهمیم کد تمیز فقط یک ویژگی خوب یا یک تجمل در پروژه‌های نرم‌افزاری نیست، بلکه یک ضرورت است. بدون کد باکیفیت، پروژه با خطرات ناشی از انباشت بدهی فنی مواجه خواهد شد.\r\n",
    "      \r\n",
    "</font>\r\n",
    "</div>\r\n"
   ]
  },
  {
   "cell_type": "markdown",
   "id": "4c795a08-e2f8-4372-a58c-6ee79cdf2fe2",
   "metadata": {},
   "source": [
    "<div style=\"direction:rtl;line-height:200%;\">\n",
    "  <font face=\"B Nazanin\" size=4>\n",
    "    <font color=#0000CD size=6>\n",
    "    پس از خواندن این فصل، موارد زیر را خواهید آموخت:\n",
    "</font>\n",
    "</div>\n"
   ]
  },
  {
   "cell_type": "markdown",
   "id": "cf2c6e33-ae97-4d28-b97d-b181977edfff",
   "metadata": {},
   "source": [
    "<div  style=\"direction:rtl;line-height:200%;\">\r\n",
    "  <font face=\"B nazanin\" size=5>\r\n",
    "    <p></p>\r\n",
    "- اینکه کد تمیز به چیزی بسیار مهم‌تر از فقط فرمت‌بندی اشاره دارد.\r\n",
    "<br>\r\n",
    "- اینکه داشتن فرمت‌بندی استاندارد یک بخش کلیدی در پروژه‌های نرم‌افزاری برای حفظ قابلیت نگهداری آن است.\r\n",
    "<br>\r\n",
    "- چگونه با استفاده از ویژگی‌هایی که پایتون ارائه می‌دهد، کدی خود مستندساز ایجاد کنیم.\r\n",
    "<br>\r\n",
    "- چگونه ابزارهایی را پیکربندی کنیم تا بررسی‌های ایستا  را به صورت خودکار بر روی کد انجام دهند.\r\n",
    "\r\n",
    "</font>\r\n",
    "</div>\r\n"
   ]
  },
  {
   "cell_type": "markdown",
   "id": "11098606-18a8-4af0-9ad1-f5a7cc477743",
   "metadata": {},
   "source": [
    "<div style=\"direction:rtl;line-height:200%;\">\n",
    "  <font face=\"B Nazanin\" size=4>\n",
    "    <font color=#0000CD size=6>\n",
    "      مقدمه: Introduction\n",
    "</font>\n",
    "</div>\n"
   ]
  },
  {
   "cell_type": "markdown",
   "id": "81296222-9f1b-497f-b2b0-063ecedd0379",
   "metadata": {},
   "source": [
    "<div  style=\"direction:rtl;line-height:200%;\">\r\n",
    "  <font face=\"B nazanin\" size=5>\r\n",
    "    <p></p>\r\n",
    "ابتدا با مفهوم کد تمیز آشنا می‌شویم و اینکه چرا این موضوع برای موفقیت یک پروژه مهندسی نرم‌افزار اهمیت دارد. در دو بخش اول، می‌آموزیم که حفظ کیفیت خوب کد چقدر برای کارایی در پروژه‌ها مهم است. سپس به بررسی استثناهایی در این قوانین می‌پردازیم: یعنی شرایطی که ممکن است حتی مقرون به صرفه باشد که کد را به‌طور کامل بازسازی نکنیم و تمام بدهی فنی آن را نپردازیم. در نهایت، باید بفهمیم که چرا در چنین مواردی تصمیم به عدم بهبود کد گرفته‌ایم و این شرایط را به درستی شناسایی کنیم تا به اشتباه تصور نکنیم که چیزی نباید بهبود یابد در حالی که باید بهبود داده شود.\r\n",
    "      \r\n",
    "</font>\r\n",
    "</div>\r\n"
   ]
  },
  {
   "cell_type": "markdown",
   "id": "0230451a-d892-4fbb-828c-5da09aed9dc6",
   "metadata": {},
   "source": [
    "<hr>"
   ]
  },
  {
   "cell_type": "markdown",
   "id": "2e0e884b-0b71-4600-8783-4c094ba38b52",
   "metadata": {},
   "source": [
    "<div style=\"direction:rtl;line-height:200%;\">\n",
    "  <font face=\"B Nazanin\" size=4>\n",
    "    <font color=#0000CD size=6>\n",
    "   مفهوم کد تمیز: The meaning of clean code \n",
    "</font>\n",
    "</div>\n"
   ]
  },
  {
   "cell_type": "markdown",
   "id": "837d5449-ac25-46c7-a4c1-a748948a90e3",
   "metadata": {},
   "source": [
    "<div  style=\"direction:rtl;line-height:200%;\">\r\n",
    "  <font face=\"B nazanin\" size=5>\r\n",
    "    <p></p>\r\n",
    "هیچ تعریف قطعی و سخت‌گیرانه‌ای از کد تمیز وجود ندارد. همچنین، احتمالاً هیچ راهی برای اندازه‌گیری رسمی کد تمیز نیست، بنابراین نمی‌توان از ابزاری استفاده کرد که به شما بگوید کد شما چقدر خوب، بد یا قابل نگهداری است. کد تمیز چیزی نیست که یک ماشین بتواند آن را تشخیص دهد (حداقل تا کنون)، بلکه چیزی است که ما به عنوان متخصصان باید تصمیم بگیریم.      \r\n",
    "</font>\r\n",
    "</div>\r\n"
   ]
  },
  {
   "cell_type": "markdown",
   "id": "9196bb31-7c38-4bc2-a25f-ed8e03d54f4b",
   "metadata": {},
   "source": [
    "<div style=\"direction:rtl;line-height:200%;\">\n",
    "  <font face=\"B Nazanin\" size=4>\n",
    "    <font color=#0000CD size=6>\n",
    "اهمیت داشتن کد تمیز:    The importance of having clean code\n",
    "</font>\n",
    "</div>\n"
   ]
  },
  {
   "cell_type": "markdown",
   "id": "4997fe87-e727-4d59-9d29-75d11e1f8d46",
   "metadata": {},
   "source": [
    "<div  style=\"direction:rtl;line-height:200%;\">\r\n",
    "  <font face=\"B nazanin\" size=5>\r\n",
    "    <p></p>\r\n",
    "دلایل زیادی برای اهمیت کد تمیز وجود دارد. بیشتر آن‌ها حول ایده‌هایی مانند قابلیت نگهداری، کاهش بدهی فنی، کار کردن مؤثر در توسعه چابک  و مدیریت یک پروژه موفق می‌چرخند.\r\n",
    "<br>\r\n",
    "اولین مفهومی که می‌خواهم بررسی کنم مربوط به توسعه چابک و تحویل مداوم است.       \r\n",
    "</font>\r\n",
    "</div>\r\n"
   ]
  },
  {
   "cell_type": "markdown",
   "id": "b5f1bc88-765f-4d56-9c41-774c118a28de",
   "metadata": {},
   "source": [
    "<div style=\"direction:rtl;line-height:200%;\">\n",
    "  <font face=\"B Nazanin\" size=4>\n",
    "    <font color=#0000CD size=6>\n",
    "    بدهی فنی :  Technical debt\n",
    "</font>\n",
    "</div>\n"
   ]
  },
  {
   "cell_type": "markdown",
   "id": "8b2544a3-471b-465d-95bb-c9a6d1d0cce8",
   "metadata": {},
   "source": [
    "<div  style=\"direction:rtl;line-height:200%;\">\r\n",
    "  <font face=\"B nazanin\" size=5>\r\n",
    "    <p></p>\r\n",
    "به مفهومی اشاره دارد که مشکلات نرم‌افزار نتیجه یک سازش یا تصمیم اشتباه است. \r\n",
    "<br>\r\n",
    "می‌توان به بدهی فنی از دو منظر فکر کرد از حال به گذشته و از حال به آینده پذیرفتن بدهی فنی به این معناست که فردا تغییر کد سخت‌تر و گران‌تر از امروز خواهد بود، و روز بعد حتی گران‌تر خواهد شد و همین‌طور ادامه خواهد داشت. \r\n",
    "<br>\r\n",
    "بدترین نکته در مورد بدهی فنی این است که یک مشکل بلندمدت و پنهان است.\r\n",
    "\r\n",
    "</font>\r\n",
    "</div>\r\n"
   ]
  },
  {
   "cell_type": "markdown",
   "id": "959a4b73-d140-4354-aef7-e3ad1a2edaea",
   "metadata": {},
   "source": [
    "<div style=\"direction:rtl;line-height:200%;\">\n",
    "  <font face=\"B Nazanin\" size=4>\n",
    "    <font color=#0000CD size=6>\n",
    "   برخی استثناها: Some exceptions\n",
    "</font>\n",
    "</div>\n"
   ]
  },
  {
   "cell_type": "markdown",
   "id": "b85379e3-6bf1-436e-a780-304a97340d0f",
   "metadata": {},
   "source": [
    "<div  style=\"direction:rtl;line-height:200%;\">\r\n",
    "  <font face=\"B nazanin\" size=5>\r\n",
    "    <p></p>\r\n",
    "•\tوقتی در حال نوشتن یک اسکریپت ساده برای یک کار یک‌باره هستید.\r\n",
    "<br>\r\n",
    "•\tمسابقات کدنویسی\r\n",
    "<br>\r\n",
    "•\tهنگام توسعه یک اثبات مفهوم\r\n",
    "<br>\r\n",
    "•\tهنگام توسعه یک نمونه اولیه (البته تا زمانی که مطمئن باشید که این واقعاً یک نمونه اولیه است و کنار گذاشته خواهد شد).\r\n",
    "<br>\r\n",
    "•\tزمانی که با یک پروژه قدیمی که قرار است کنار گذاشته شود و فقط برای مدت زمان \r\n",
    "کوتاهی در حالت نگهداری است کار می‌کنید (و البته، به شرطی که این موضوع تضمین شده باشد)\r\n",
    "\r\n",
    "</font>\r\n",
    "</div>\r\n"
   ]
  },
  {
   "cell_type": "markdown",
   "id": "2203be47-1a0a-4862-b6f5-5f57b719c5ab",
   "metadata": {},
   "source": [
    "<div style=\"direction:rtl;line-height:200%;\">\n",
    "  <font face=\"B Nazanin\" size=4>\n",
    "    <font color=#0000CD size=6>\n",
    "    فرمت‌بندی کد: Code formatting\n",
    "</font>\n",
    "</div>\n"
   ]
  },
  {
   "cell_type": "markdown",
   "id": "e597329a-9f15-4111-bd63-c69b3e5f2311",
   "metadata": {},
   "source": [
    "<div  style=\"direction:rtl;line-height:200%;\">\r\n",
    "  <font face=\"B nazanin\" size=5>\r\n",
    "    <p></p>\r\n",
    "آیا کد تمیز فقط درباره فرمت‌بندی و ساختاردهی کد است؟ پاسخ کوتاه این است که خیر.\r\n",
    "<br>\r\n",
    "برخی استانداردهای کدنویسی مانند PEP-8 وجود دارند که بیان می‌کنند کد چگونه باید نوشته شود در پایتون معروف‌ترین استاندارد است  .\r\n",
    "<br>\r\n",
    "با این حال، کد تمیز چیزی فراتر از استانداردهای کدنویسی، فرمت‌بندی، ابزارهای بررسی مربوط به چیدمان کد است. کد تمیز به دستیابی به نرم‌افزار با کیفیت و ساخت سیستمی که قوی و قابل نگهداری باشد.\r\n",
    "<br>\r\n",
    "در مجموع، می‌توانیم بگوییم که کد تمیز ربطی به مواردی مانند PEP-8 یا سبک‌های کدنویسی ندارد. این موضوع بسیار فراتر از این‌ها است و به حفظ قابلیت نگهداری کد و کیفیت نرم‌افزار مربوط می‌شود. اما همان‌طور که خواهیم دید، فرمت‌بندی صحیح کد برای کار کردن به‌صورت مؤثر اهمیت دارد\r\n",
    "\r\n",
    "</font>\r\n",
    "</div>\r\n"
   ]
  },
  {
   "cell_type": "markdown",
   "id": "59e6d817-5483-4dce-9db2-9d385e27f3e0",
   "metadata": {},
   "source": [
    "\n",
    "<div style=\"line-height:300%;\">\n",
    "  <font face=\"XB Zar\" size=3>\n",
    "    <a href=\"https://peps.python.org/pep-0008\">https://peps.python.org/pep-0008</a>\n",
    "</font>\n",
    "</div>\n"
   ]
  },
  {
   "cell_type": "markdown",
   "id": "b994fc31-49ca-4927-8cc2-4da109156de0",
   "metadata": {},
   "source": [
    "<hr>"
   ]
  },
  {
   "cell_type": "markdown",
   "id": "02f39042-4b6d-4744-ab74-8943f3e7ae6f",
   "metadata": {},
   "source": [
    "<div style=\"direction:rtl;line-height:200%;\">\n",
    "  <font face=\"B Nazanin\" size=4>\n",
    "    <font color=#0000CD size=6>\n",
    "     پیروی از راهنمای سبک کدنویسی در پروژه:   Adhering to a coding style guide on your project \n",
    "</font>\n",
    "</div>\n"
   ]
  },
  {
   "cell_type": "markdown",
   "id": "edd8b195-fcd8-4597-9d6a-8ece71340c26",
   "metadata": {},
   "source": [
    "<div  style=\"direction:rtl;line-height:200%;\">\r\n",
    "  <font face=\"B nazanin\" size=5>\r\n",
    "    <p></p>\r\n",
    "یک دستورالعمل کدنویسی حداقل موردی است که یک پروژه باید داشته باشد تا بتوان گفت که تحت استانداردهای کیفی توسعه داده شده است. اولین چیزی که به ذهنم می‌رسد وقتی به دنبال ویژگی‌های خوب در چیدمان کد می‌گردم، انسجام است.\r\n",
    "<br>\r\n",
    "همان‌طور که در کتاب کلاسیک Code Complete بیان شد تحلیل جالبی از یک موضوع در مقاله ای با عنوان Perceptions in Chess(1973) انجام شد. \r\n",
    "<br>\r\n",
    "ما به‌عنوان مهندسین نرم‌افزار متخصص در پایتون، مانند استادان شطرنج در مثال قبلی هستیم. وقتی کد به‌صورت تصادفی ساختاردهی شده باشد، بدون پیروی از هیچ منطقی یا استانداردی، تشخیص اشتباهات برای ما به همان اندازه سخت خواهد بود که برای یک توسعه‌دهنده مبتدی. از سوی دیگر، اگر ما به خواندن کد به‌صورت ساختارمند عادت کرده باشیم و یاد گرفته باشیم که با پیروی از الگوها به‌سرعت ایده‌هایی از کد بگیریم، در این صورت مزیت قابل‌توجهی خواهیم داشت.\r\n",
    "<br>\r\n",
    "به‌طور خاص، برای پایتون، سبکی از کدنویسی که باید دنبال کنید، PEP-8 است.\r\n",
    "\r\n",
    "</font>\r\n",
    "</div>\r\n"
   ]
  },
  {
   "cell_type": "markdown",
   "id": "6d571c5a-a56f-44ff-951c-d87dd1dd976a",
   "metadata": {},
   "source": [
    "<div\n",
    "  style=\"direction:rtl;line-height:200%;\">\n",
    "  <font face=\"B Nazanin\" size=4>\n",
    "    <font color=\"#0000CD\" size=4>\n",
    "اگر متوجه شدید که تیم شما در سبک کدنویسی هماهنگ نیست و در بررسی‌های کد چندین بحث در این زمینه وجود دارد، احتمالاً ایده خوبی است که راهنمای کدنویسی را بازبینی کنید و در ابزارهای بررسی خودکار سرمایه‌گذاری کنید.\n",
    "</font>\n",
    "</div>\n"
   ]
  },
  {
   "cell_type": "markdown",
   "id": "d767a394-b489-4461-83e1-327016a466ba",
   "metadata": {},
   "source": [
    "<div style=\"direction:rtl;line-height:200%;\">\n",
    "  <font face=\"B Nazanin\" size=4>\n",
    "    <font color=#0000CD size=6>\n",
    "به طور خاص PEP-8 به برخی نکات در رابطه با ویژگی های کیفی اشاره میکند شامل :\n",
    "</font>\n",
    "</div>\n"
   ]
  },
  {
   "cell_type": "markdown",
   "id": "e35976e8-f622-4dd6-9d90-49720a769afe",
   "metadata": {},
   "source": [
    "<div style=\"direction:rtl;line-height:200%;\">\n",
    "  <font face=\"B Nazanin\" size=4>\n",
    "    <font color=#0000CD size=6>\n",
    "    قابلیت جستجو : Searchability\n",
    "</font>\n",
    "</div>\n"
   ]
  },
  {
   "cell_type": "markdown",
   "id": "8697a40b-ad7c-4775-8b5b-434b356bbce5",
   "metadata": {},
   "source": [
    "<div  style=\"direction:rtl;line-height:200%;\">\r\n",
    "  <font face=\"B nazanin\" size=5>\r\n",
    "    <p></p>\r\n",
    "این به توانایی شناسایی توکن‌ها در کد به‌صورت یک نگاه اشاره دارد.\r\n",
    "\r\n",
    "</font>\r\n",
    "</div>\r\n"
   ]
  },
  {
   "cell_type": "markdown",
   "id": "d7590cb0-0272-4ee3-b7c5-bdee8676f403",
   "metadata": {},
   "source": [
    "```Python\n",
    "$ grep-nr \"location=\" .\n",
    "./core.py:13: location=current_location,\n",
    "```"
   ]
  },
  {
   "cell_type": "markdown",
   "id": "8be26b6c-0cb6-4dcb-bb0c-0ef133235b03",
   "metadata": {},
   "source": [
    "<div  style=\"direction:rtl;line-height:200%;\">\n",
    "  <font face=\"B nazanin\" size=5>\n",
    "    <p></p>\n",
    "اکنون، می‌خواهیم بدانیم این متغیر کجا این مقدار را دریافت می‌کند. دستور زیر نیز اطلاعاتی که به دنبال آن هستیم را به ما ارائه خواهد داد.\n",
    "\n",
    "\n",
    "</font>\n",
    "</div>"
   ]
  },
  {
   "cell_type": "markdown",
   "id": "93fb20dc-391c-4c08-9925-95ca24959170",
   "metadata": {},
   "source": [
    "```Python\n",
    "$ grep -nr \"location =\" .\n",
    "./core.py:10: current_location = get_location()\n",
    "```"
   ]
  },
  {
   "cell_type": "markdown",
   "id": "641154a7-a660-4c77-b66d-1b244278427a",
   "metadata": {},
   "source": [
    "<div  style=\"direction:rtl;line-height:200%;\">\n",
    "\t<font face=\"B nazanin\" size=5>\n",
    "\t\t<p></p>\n",
    "    PEP-8\n",
    "      قواعدی را تعیین می‌کند که طبق آن، هنگام ارسال آرگومان‌ها به‌صورت کلیدی به یک تابع، از فاصله استفاده نمی‌کنیم، اما هنگام تخصیص مقادیر به متغیرها از فاصله استفاده می‌کنیم.\n",
    "</font>\n",
    "</div>\r\n",
    "</div>\r\n"
   ]
  },
  {
   "cell_type": "markdown",
   "id": "99c6a25f-3886-4af2-a91d-6ac066f3e711",
   "metadata": {},
   "source": [
    "<div style=\"direction:rtl;line-height:200%;\">\n",
    "  <font face=\"B Nazanin\" size=4>\n",
    "    <font color=#0000CD size=6>\n",
    "سازگاری : Consistency\n",
    "</font>\n",
    "</div>\n"
   ]
  },
  {
   "cell_type": "markdown",
   "id": "20e4df9e-0f35-4a3c-b01e-20a933ded2a7",
   "metadata": {},
   "source": [
    "<div  style=\"direction:rtl;line-height:200%;\">\r\n",
    "  <font face=\"B nazanin\" size=5>\r\n",
    "    <p></p>\r\n",
    "    اگر کد دارای قالب یکنواخت باشد، خواندن آن بسیار آسان‌تر خواهد بود.<br>\r\n",
    "        این موضوع به‌ویژه برای معرفی افراد جدید به پروژه شما مهم است.\r\n",
    "</font>\r\n",
    "</div>\r\n"
   ]
  },
  {
   "cell_type": "markdown",
   "id": "93d7d4e9-2c85-4e17-bec6-2a1aaef5941d",
   "metadata": {},
   "source": [
    "<div style=\"direction:rtl;line-height:200%;\">\n",
    "  <font face=\"B Nazanin\" size=4>\n",
    "    <font color=#0000CD size=6>\n",
    "    مدیریت بهتر خطا: Better error handling\n",
    "</font>\n",
    "</div>\n"
   ]
  },
  {
   "cell_type": "markdown",
   "id": "71c10a63-6467-4618-a077-6e1b8632639e",
   "metadata": {},
   "source": [
    "<div  style=\"direction:rtl;line-height:200%;\">\n",
    "\t<font face=\"B nazanin\" size=5>\n",
    "\t\t<p></p>\n",
    "    یکی از پیشنهادات ارائه‌شده در PEP-8 این است که مقدار کد داخل بلوک‌های \n",
    "      <code>try/except</code>\n",
    "      را به حداقل ممکن محدود کنیم. این کار سطح خطا را کاهش می‌دهد.\n",
    "</font>\n",
    "</div>"
   ]
  },
  {
   "cell_type": "markdown",
   "id": "05ef338f-1789-4543-af87-bf9f0a2a489e",
   "metadata": {},
   "source": [
    "<div style=\"direction:rtl;line-height:200%;\">\n",
    "  <font face=\"B Nazanin\" size=4>\n",
    "    <font color=#0000CD size=6>\n",
    "    کیفیت کد : Code quality\n",
    "</font>\n",
    "</div>\n"
   ]
  },
  {
   "cell_type": "markdown",
   "id": "21622356-c984-4d9f-84b7-06b8bb98be0e",
   "metadata": {},
   "source": [
    "<div  style=\"direction:rtl;line-height:200%;\">\n",
    "  <font face=\"B nazanin\" size=5>\n",
    "    <p></p>\n",
    "با نگاهی ساختاری به کد، شما به درک بهتری از آن در یک نگاه خواهید رسید تحلیل ایستا کد می‌تواند به کاهش نسبت اشکالات به ازای هر خط کد کمک کند.\n",
    "</font>\n",
    "</div>\n"
   ]
  },
  {
   "cell_type": "markdown",
   "id": "c30f1732-0d94-43df-8f88-be88509ede5b",
   "metadata": {},
   "source": [
    "<div style=\"direction:rtl;line-height:200%;\">\n",
    "  <font face=\"B Nazanin\" size=4>\n",
    "    <font color=#0000CD size=6>\n",
    "    مستندسازی: Documentation\n",
    "</font>\n",
    "</div>\n"
   ]
  },
  {
   "cell_type": "markdown",
   "id": "d68aff5e-2a26-4dc1-b832-ca4564d4e2e9",
   "metadata": {},
   "source": [
    "<div  style=\"direction:rtl;line-height:200%;\">\r\n",
    "  <font face=\"B nazanin\" size=5>\r\n",
    "    <p></p>\r\n",
    "این بخش به مستندسازی کد در پایتون، از درون کد، می‌پردازد توضیح اینکه کد چه کاری انجام می‌دهد (نه اینکه چگونه این کار را انجام می‌دهد) ایده خوبی است.\r\n",
    "<br>\r\n",
    "یک تفاوت مهم اینکه مستندسازی کد با اضافه کردن نظرات (comments) به آن یکسان نیست. این بخش به بررسی اسناد و حاشیه نویشی می‌پردازد زیرا این‌ها ابزارهایی در پایتون هستند که برای مستندسازی کد استفاده می‌شوند.\r\n",
    "<br>\r\n",
    "دلیل دیگری که به‌طور خاص به حاشیه نویسی  مربوط می‌شود، این است که آن‌ها می‌توانند در اجرای برخی بررسی‌های خودکار، مانندtype hinting، از طریق ابزارهایی مانند mypy یا pytypeکمک کنند. در نهایت، متوجه خواهیم شد که اضافه کردن حاشیه نتیجه‌اش مثبت خواهد بود.\r\n",
    "\r\n",
    "\r\n",
    "</font>\r\n",
    "</div>\r\n"
   ]
  },
  {
   "cell_type": "markdown",
   "id": "c3487432-1326-4295-a9e1-fab9611cb087",
   "metadata": {},
   "source": [
    "\n",
    "<div style=\"line-height:300%;\">\n",
    "  <font face=\"XB Zar\" size=3>\n",
    "    <a href=\"https://google.github.io/pytype/\">https://google.github.io/pytype/</a>\n",
    "</font>\n",
    "</div>\n",
    "\n",
    "\n",
    "\n",
    "<div style=\"line-height:300%;\">\n",
    "  <font face=\"XB Zar\" size=3>\n",
    "    <a href=\"http://mypy-lang.org/\">http://mypy-lang.org/ </a>\n",
    "</font>\n",
    "</div>\n"
   ]
  },
  {
   "cell_type": "markdown",
   "id": "fc7cec22-b956-4517-a309-9a091078871f",
   "metadata": {},
   "source": [
    "<div style=\"direction:rtl;line-height:200%;\">\n",
    "  <font face=\"B Nazanin\" size=4>\n",
    "    <font color=#0000CD size=6>\n",
    "   نظرکد: Code comment\n",
    "</font>\n",
    "</div>\n"
   ]
  },
  {
   "cell_type": "markdown",
   "id": "ebc953a2-e312-4c71-adcd-307fb68c221c",
   "metadata": {},
   "source": [
    "<div  style=\"direction:rtl;line-height:200%;\">\r\n",
    "  <font face=\"B nazanin\" size=5>\r\n",
    "    <p></p>\r\n",
    "به طور کلی، باید هدف ما این باشد که تا حد امکان کامنت کد را کاهش دهیم.\r\n",
    "<br>\r\n",
    "کامنت ها در کد نشانهای از ناتوانی ما در بیان صحیح خود کد هستند .\r\n",
    "<br>\r\n",
    "با این حال، در برخی موارد، اجتناب از افزودن یک کامنت در کد غیرممکن است\r\n",
    "و عدم انجام این کار میتواند خطرناک باشد. این معمولاً در مورد مواردی صدق\r\n",
    "میکند که در کد باید به دلیل یک نکته فنی خاص که در ابتدا غیرقابل توجه است،\r\n",
    "کاری انجام شود.\r\n",
    "</font>\r\n",
    "</div>\r\n"
   ]
  },
  {
   "cell_type": "markdown",
   "id": "da14f282-4bea-4c9d-a3af-04d9de1cdd10",
   "metadata": {},
   "source": [
    "<hr>"
   ]
  },
  {
   "cell_type": "markdown",
   "id": "ea91850b-bb01-4c4f-8321-3fac47a59631",
   "metadata": {},
   "source": [
    "<div\n",
    "  style=\"direction:rtl;line-height:200%;\">\n",
    "  <font face=\"B Nazanin\" size=4>\n",
    "    <font color=#000080 size=6>\n",
    "Docstrings\n",
    "\n",
    "</font>\n",
    "</div>\n"
   ]
  },
  {
   "cell_type": "markdown",
   "id": "28097ba6-0013-472c-b964-1c3f5af8b304",
   "metadata": {},
   "source": [
    "<div  style=\"direction:rtl;line-height:200%;\">\n",
    "  <font face=\"B nazanin\" size=5>\n",
    "    <p></p>\n",
    "داک‌ استرینگ ها مستندات جاسازی ‌شده در کد منبع هستند.\n",
    "\n",
    "</font>\n",
    "</div>"
   ]
  },
  {
   "cell_type": "markdown",
   "id": "4f55360f-43b4-4d96-b729-878a8a15732f",
   "metadata": {},
   "source": [
    "<hr>"
   ]
  },
  {
   "cell_type": "markdown",
   "id": "d682daba-7dd8-4101-b38b-3d257dff41d5",
   "metadata": {},
   "source": [
    "<div\n",
    "  style=\"direction:rtl;line-height:200%;\">\n",
    "  <font face=\"B Nazanin\" size=4>\n",
    "    <font color=#4169E1 size=6>\n",
    "ویژگی ها:\n",
    "\n",
    "</font>\n",
    "</div>\n"
   ]
  },
  {
   "cell_type": "markdown",
   "id": "63c99d99-6ff1-47f4-bbc2-abd64962d0a7",
   "metadata": {},
   "source": [
    "<div  style=\"direction:rtl;line-height:200%;\">\n",
    "  <font face=\"B nazanin\" size=5>\n",
    "    <p></p>\n",
    "•\tداک‌استرینگ‌ها به منظور ارائه مستندات برای یک مؤلفه خاص (مانند ماژول، کلاس، متد یا تابع) در کد طراحی شده‌اند که برای توسعه‌ دهندگان دیگر مفید خواهد بود.\n",
    "<br>\n",
    "•\tداک‌استرینگ ها همچنین برای مستندسازی تصمیمات طراحی و معماری مفید هستند.\n",
    "<br>\n",
    "•\tاز آنجایی که پایتون زبانی با تایپ پویا است داشتن داک‌استرینگ در کد باعث می‌شود توسعه ‌دهنده‌های دیگر بهتر بفهمند ورودی و خروجی یک تابع چه شکلی باید باشد.\n",
    "<br>\n",
    "\n",
    "</font>\n",
    "</div>"
   ]
  },
  {
   "cell_type": "markdown",
   "id": "3008652f-a27b-486e-847a-9811bdbce477",
   "metadata": {},
   "source": [
    "<hr>"
   ]
  },
  {
   "cell_type": "markdown",
   "id": "8ebb2d5a-8c38-47e2-ab56-2348dc08f956",
   "metadata": {},
   "source": [
    "<div  style=\"direction:rtl;line-height:200%;\">\n",
    "  <font face=\"B nazanin\" size=5>\n",
    "    <p></p>\n",
    "به این مثال از کتابخانه استاندارد توجه کنید:\n",
    "\n",
    "</font>\n",
    "</div>"
   ]
  },
  {
   "cell_type": "markdown",
   "id": "aec615b5-2741-4dd0-a203-95d5ab1f071c",
   "metadata": {},
   "source": [
    "```Python\n",
    "Type: method_descriptor\n",
    "```\n",
    "\n"
   ]
  },
  {
   "cell_type": "markdown",
   "id": "d4984867-56a6-4b1d-984e-5c5fd2fdf0af",
   "metadata": {},
   "source": [
    "<div  style=\"direction:rtl;line-height:200%;\">\n",
    "  <font face=\"B nazanin\" size=5>\n",
    "    <p></p>\n",
    "در اینجا، متن مستندات (docstring) مربوط به متد update در دیکشنری‌ها اطلاعات مفیدی به ما می‌دهد و به ما می‌گوید که می‌توانیم از آن به روش‌های مختلفی استفاده کنیم:\n",
    "\n",
    "</font>\n",
    "</div>"
   ]
  },
  {
   "cell_type": "markdown",
   "id": "a015a529-f62f-4c17-83e4-ace8dc7cfce1",
   "metadata": {},
   "source": [
    "<div  style=\"direction:rtl;line-height:200%;\">\n",
    "  <font face=\"B nazanin\" size=5>\n",
    "    <p></p>\n",
    "1. ما می‌توانیم چیزی را که دارای متد  ()keys. است  به آن ارسال کنیم و دیکشنری اصلی را با کلیدهای شیء پاس ‌داده ‌شده به‌ روز کنیم:\n",
    "\n",
    "</font>\n",
    "</div>"
   ]
  },
  {
   "cell_type": "code",
   "execution_count": 72,
   "id": "278f2bc5-8525-41b5-aef1-3c9ecea1bc8b",
   "metadata": {},
   "outputs": [
    {
     "data": {
      "text/plain": [
       "{1: 'one', 2: 'two'}"
      ]
     },
     "execution_count": 72,
     "metadata": {},
     "output_type": "execute_result"
    }
   ],
   "source": [
    "d = {}\n",
    "d.update({1: \"one\", 2: \"two\"}) \n",
    "d"
   ]
  },
  {
   "cell_type": "code",
   "execution_count": 74,
   "id": "1a79811b-4d9f-4e68-bbf3-016d16a901d2",
   "metadata": {},
   "outputs": [
    {
     "name": "stdout",
     "output_type": "stream",
     "text": [
      "Help on dict object:\n",
      "\n",
      "class dict(object)\n",
      " |  dict() -> new empty dictionary\n",
      " |  dict(mapping) -> new dictionary initialized from a mapping object's\n",
      " |      (key, value) pairs\n",
      " |  dict(iterable) -> new dictionary initialized as if via:\n",
      " |      d = {}\n",
      " |      for k, v in iterable:\n",
      " |          d[k] = v\n",
      " |  dict(**kwargs) -> new dictionary initialized with the name=value pairs\n",
      " |      in the keyword argument list.  For example:  dict(one=1, two=2)\n",
      " |\n",
      " |  Built-in subclasses:\n",
      " |      StgDict\n",
      " |\n",
      " |  Methods defined here:\n",
      " |\n",
      " |  __contains__(self, key, /)\n",
      " |      True if the dictionary has the specified key, else False.\n",
      " |\n",
      " |  __delitem__(self, key, /)\n",
      " |      Delete self[key].\n",
      " |\n",
      " |  __eq__(self, value, /)\n",
      " |      Return self==value.\n",
      " |\n",
      " |  __ge__(self, value, /)\n",
      " |      Return self>=value.\n",
      " |\n",
      " |  __getattribute__(self, name, /)\n",
      " |      Return getattr(self, name).\n",
      " |\n",
      " |  __getitem__(self, key, /)\n",
      " |      Return self[key].\n",
      " |\n",
      " |  __gt__(self, value, /)\n",
      " |      Return self>value.\n",
      " |\n",
      " |  __init__(self, /, *args, **kwargs)\n",
      " |      Initialize self.  See help(type(self)) for accurate signature.\n",
      " |\n",
      " |  __ior__(self, value, /)\n",
      " |      Return self|=value.\n",
      " |\n",
      " |  __iter__(self, /)\n",
      " |      Implement iter(self).\n",
      " |\n",
      " |  __le__(self, value, /)\n",
      " |      Return self<=value.\n",
      " |\n",
      " |  __len__(self, /)\n",
      " |      Return len(self).\n",
      " |\n",
      " |  __lt__(self, value, /)\n",
      " |      Return self<value.\n",
      " |\n",
      " |  __ne__(self, value, /)\n",
      " |      Return self!=value.\n",
      " |\n",
      " |  __or__(self, value, /)\n",
      " |      Return self|value.\n",
      " |\n",
      " |  __repr__(self, /)\n",
      " |      Return repr(self).\n",
      " |\n",
      " |  __reversed__(self, /)\n",
      " |      Return a reverse iterator over the dict keys.\n",
      " |\n",
      " |  __ror__(self, value, /)\n",
      " |      Return value|self.\n",
      " |\n",
      " |  __setitem__(self, key, value, /)\n",
      " |      Set self[key] to value.\n",
      " |\n",
      " |  __sizeof__(...)\n",
      " |      D.__sizeof__() -> size of D in memory, in bytes\n",
      " |\n",
      " |  clear(...)\n",
      " |      D.clear() -> None.  Remove all items from D.\n",
      " |\n",
      " |  copy(...)\n",
      " |      D.copy() -> a shallow copy of D\n",
      " |\n",
      " |  get(self, key, default=None, /)\n",
      " |      Return the value for key if key is in the dictionary, else default.\n",
      " |\n",
      " |  items(...)\n",
      " |      D.items() -> a set-like object providing a view on D's items\n",
      " |\n",
      " |  keys(...)\n",
      " |      D.keys() -> a set-like object providing a view on D's keys\n",
      " |\n",
      " |  pop(...)\n",
      " |      D.pop(k[,d]) -> v, remove specified key and return the corresponding value.\n",
      " |\n",
      " |      If the key is not found, return the default if given; otherwise,\n",
      " |      raise a KeyError.\n",
      " |\n",
      " |  popitem(self, /)\n",
      " |      Remove and return a (key, value) pair as a 2-tuple.\n",
      " |\n",
      " |      Pairs are returned in LIFO (last-in, first-out) order.\n",
      " |      Raises KeyError if the dict is empty.\n",
      " |\n",
      " |  setdefault(self, key, default=None, /)\n",
      " |      Insert key with a value of default if key is not in the dictionary.\n",
      " |\n",
      " |      Return the value for key if key is in the dictionary, else default.\n",
      " |\n",
      " |  update(...)\n",
      " |      D.update([E, ]**F) -> None.  Update D from dict/iterable E and F.\n",
      " |      If E is present and has a .keys() method, then does:  for k in E: D[k] = E[k]\n",
      " |      If E is present and lacks a .keys() method, then does:  for k, v in E: D[k] = v\n",
      " |      In either case, this is followed by: for k in F:  D[k] = F[k]\n",
      " |\n",
      " |  values(...)\n",
      " |      D.values() -> an object providing a view on D's values\n",
      " |\n",
      " |  ----------------------------------------------------------------------\n",
      " |  Class methods defined here:\n",
      " |\n",
      " |  __class_getitem__(...)\n",
      " |      See PEP 585\n",
      " |\n",
      " |  fromkeys(iterable, value=None, /)\n",
      " |      Create a new dictionary with keys from iterable and values set to value.\n",
      " |\n",
      " |  ----------------------------------------------------------------------\n",
      " |  Static methods defined here:\n",
      " |\n",
      " |  __new__(*args, **kwargs)\n",
      " |      Create and return a new object.  See help(type) for accurate signature.\n",
      " |\n",
      " |  ----------------------------------------------------------------------\n",
      " |  Data and other attributes defined here:\n",
      " |\n",
      " |  __hash__ = None\n",
      "\n"
     ]
    }
   ],
   "source": [
    "d = {}\n",
    "d.update({1: \"one\", 2: \"two\"})\n",
    "d\n",
    "help(d)"
   ]
  },
  {
   "cell_type": "markdown",
   "id": "1418fec4-9272-4752-97df-bfeb17d2b746",
   "metadata": {},
   "source": [
    "<div  style=\"direction:rtl;line-height:200%;\">\n",
    "  <font face=\"B nazanin\" size=5>\n",
    "    <p></p>\n",
    ".2 ما می‌توانیم یک iterable از جفت‌های کلید و مقدار را پاس دهیم و آن‌ها را  unpack کرده تا دیکشنری را به‌ روز کنیم:\n",
    "</font>\n",
    "</div>"
   ]
  },
  {
   "cell_type": "code",
   "execution_count": 76,
   "id": "8e3b07cd-bc86-4731-a50e-69271e179d47",
   "metadata": {},
   "outputs": [
    {
     "data": {
      "text/plain": [
       "{1: 'one', 2: 'two', 3: 'three', 4: 'four'}"
      ]
     },
     "execution_count": 76,
     "metadata": {},
     "output_type": "execute_result"
    }
   ],
   "source": [
    "d.update([(3, \"three\"), (4, \"four\")]) \n",
    "d"
   ]
  },
  {
   "cell_type": "markdown",
   "id": "f560e7d4-0279-4939-82dc-080ba2d9b456",
   "metadata": {},
   "source": [
    "<div  style=\"direction:rtl;line-height:200%;\">\n",
    "  <font face=\"B nazanin\" size=5>\n",
    "    <p></p>\n",
    "همچنین به ما می‌گوید که می‌توانیم دیکشنری را با مقادیری که از آرگومان‌های کلیدی (keyword arguments) گرفته شده به‌ روزرسانی کنیم:\n",
    "\n",
    "</font>\n",
    "</div>"
   ]
  },
  {
   "cell_type": "code",
   "execution_count": 78,
   "id": "570e41cf-8598-4b4e-a22c-ba4333167366",
   "metadata": {},
   "outputs": [
    {
     "data": {
      "text/plain": [
       "{1: 'one', 2: 'two', 3: 'three', 4: 'four', 'five': 5}"
      ]
     },
     "execution_count": 78,
     "metadata": {},
     "output_type": "execute_result"
    }
   ],
   "source": [
    "d.update(five=5)\n",
    "d"
   ]
  },
  {
   "cell_type": "markdown",
   "id": "c6fe21ba-3349-467a-816f-4cb568ecb205",
   "metadata": {},
   "source": [
    "<div  style=\"direction:rtl;line-height:200%;\">\n",
    "  <font face=\"B nazanin\" size=5>\n",
    "    <p></p>\n",
    "این اطلاعات برای کسی که می‌خواهد یاد بگیرد و درک کند که یک تابع جدید چگونه کار می‌کند و چگونه می‌تواند از آن بهره ببرد، بسیار مهم است.\n",
    "</font>\n",
    "</div>"
   ]
  },
  {
   "cell_type": "markdown",
   "id": "fc425b94-4374-443e-a902-f09f56ec2cb8",
   "metadata": {},
   "source": [
    "<hr>"
   ]
  },
  {
   "cell_type": "markdown",
   "id": "58762d85-d743-45e8-9486-65ccb80b4388",
   "metadata": {},
   "source": [
    "<div\n",
    "  style=\"direction:rtl;line-height:200%;\">\n",
    "  <font face=\"B Nazanin\" size=4>\n",
    "    <font color=#4169E1 size=5>\n",
    "چه زمانی به داک استرینگ دسترسی داریم؟\n",
    "</font>\n",
    "</div>"
   ]
  },
  {
   "cell_type": "markdown",
   "id": "5d00f340-ac3e-4ec6-985a-442a2cddc258",
   "metadata": {},
   "source": [
    "<div  style=\"direction:rtl;line-height:200%;\">\n",
    "  <font face=\"B nazanin\" size=5>\n",
    "    <p></p>\n",
    "زمانی که یک شی دارای داک ‌استرینگ تعریف ‌شده‌ای باشد، این ویژگی بخشی از آن شی از طریق ویژگی __doc__ آن می‌شود:\n",
    "</font>\n",
    "</div>"
   ]
  },
  {
   "cell_type": "code",
   "execution_count": 80,
   "id": "644929a0-d1a3-453e-a6e4-ae93097a02c9",
   "metadata": {},
   "outputs": [
    {
     "name": "stdout",
     "output_type": "stream",
     "text": [
      "Run some computation\n",
      "Help on function my_function in module __main__:\n",
      "\n",
      "my_function()\n",
      "    Run some computation\n",
      "\n"
     ]
    }
   ],
   "source": [
    "def my_function():\n",
    "    \"\"\"Run some computation\"\"\"\n",
    "    return None\n",
    "\n",
    "print(my_function.__doc__)  # مشاهده‌ی داک‌استرینگ\n",
    "# یا استفاده از help:\n",
    "help(my_function)\n"
   ]
  },
  {
   "cell_type": "markdown",
   "id": "8a5bf17f-2a58-41b2-ba05-60d67a659b35",
   "metadata": {},
   "source": [
    "<div  style=\"direction:rtl;line-height:200%;\">\n",
    "  <font face=\"B nazanin\" size=5>\n",
    "    <p></p>\n",
    "اگر Sphinx را اجرا کنید، این ابزار ساختار پایه ‌ای برای مستندات پروژه شما ایجاد می‌کند. با افزونه (sphinx.ext.autodoc) ‌   به ویژه، این ابزار داک ‌استرینگ ها را از کد گرفته و در صفحات مستندات توابع قرار می‌دهد.\n",
    "</font>\n",
    "</div>\n"
   ]
  },
  {
   "cell_type": "markdown",
   "id": "e864e85d-26fa-4e00-bc79-e1ca481d472d",
   "metadata": {},
   "source": [
    "<hr>"
   ]
  },
  {
   "cell_type": "markdown",
   "id": "12dd33cc-f03a-40f4-ba92-902181e6fccc",
   "metadata": {},
   "source": [
    "<div  style=\"direction:rtl;line-height:200%;\">\n",
    "  <font face=\"B nazanin\" size=5>\n",
    "    <p></p>\n",
    "برای پروژه‌های متن‌باز، می‌توانید از خواندن اسناد از لینک زیراستفاده کنید که به ‌طور خودکار مستندات را برای هر شاخه یا نسخه (قابل پیکربندی) تولید می‌کند.\n",
    "</font>\n",
    "</div>"
   ]
  },
  {
   "cell_type": "markdown",
   "id": "b6b9e5cd-5ace-4c02-81e9-dbdaf753a8a0",
   "metadata": {},
   "source": [
    "<div style=\"line-height:300%;\">\n",
    "  <font face=\"XB Zar\" size=3>\n",
    "<a href=\"https://readthedocs.org/\">https://google.github.io/pytype/</a>\n",
    "</font>\n",
    "</div>\n"
   ]
  },
  {
   "cell_type": "markdown",
   "id": "91d2e309-acd6-4ca6-b4bc-0a7a269301f2",
   "metadata": {},
   "source": [
    "<hr>"
   ]
  },
  {
   "cell_type": "markdown",
   "id": "f5ea33a6-9d04-48d4-b4a1-ea0f40911392",
   "metadata": {},
   "source": [
    "<div\n",
    "  style=\"direction:rtl;line-height:200%;\">\n",
    "  <font face=\"B Nazanin\" size=4>\n",
    "    <font color=#4169E1 size=6>\n",
    "معایب:\n",
    "</font>\n",
    "</div>"
   ]
  },
  {
   "cell_type": "markdown",
   "id": "55e0e487-587d-4030-8530-eee29ad43a79",
   "metadata": {},
   "source": [
    "<div  style=\"direction:rtl;line-height:200%;\">\n",
    "  <font face=\"B nazanin\" size=5>\n",
    "    <p></p>\n",
    "•\tمانند همه مستندات، نیاز به نگهداری دستی و مداوم دارد. \n",
    "<br>\n",
    "•\tبرای اینکه داک ‌استرینگ ها واقعاً مفید باشند، باید جزئیات زیادی داشته باشند که به چندین خط نیاز دارد.\n",
    "<br>\n",
    "\n",
    "</font>\n",
    "</div>"
   ]
  },
  {
   "cell_type": "markdown",
   "id": "51a0583b-554a-4906-af7c-ecf093a6f699",
   "metadata": {},
   "source": [
    "<hr>"
   ]
  },
  {
   "cell_type": "markdown",
   "id": "db376602-13c7-45f5-99ba-46cb7af16ef4",
   "metadata": {},
   "source": [
    "<div\n",
    "  style=\"direction:rtl;line-height:200%;\">\n",
    "  <font face=\"B Nazanin\" size=4>\n",
    "    <font color=#000080 size=6>\n",
    "Annotations\n",
    "\n",
    "</font>\n",
    "</div>"
   ]
  },
  {
   "cell_type": "markdown",
   "id": "8aa103b3-e236-4e0a-8ac1-ce658f254dac",
   "metadata": {},
   "source": [
    "<div  style=\"direction:rtl;line-height:200%;\">\n",
    "  <font face=\"B nazanin\" size=5>\n",
    "    <p></p>\n",
    "PEP-3107 مفهوم انوتیشن‌ را معرفی کرد. ایده اساسی آنها این است که به خوانندگان کد درباره آنچه که به عنوان مقادیر آرگومان‌ها در توابع انتظار می‌رود، اشاره کنند. \n",
    "\n",
    "</font>\n",
    "</div>"
   ]
  },
  {
   "cell_type": "markdown",
   "id": "8144f80a-d6c8-4f09-90c7-33fab8ef9d86",
   "metadata": {},
   "source": [
    "<div  style=\"direction:rtl;line-height:200%;\">\n",
    "  <font face=\"B nazanin\" size=5>\n",
    "    <p></p>\n",
    "انوتیشن‌ ها به شما اجازه می‌دهند نوع مورد انتظار برخی از متغیرهایی که تعریف شده‌اند را مشخص کنید.\n",
    "</font>\n",
    "</div>"
   ]
  },
  {
   "cell_type": "markdown",
   "id": "76487d79-5aae-4bb3-9d20-609a709adfe9",
   "metadata": {},
   "source": [
    "```Python\n",
    "@dataclass\n",
    "class Point\n",
    "    lat: float\n",
    "    long: float\n",
    "def locate(latitude: float, longitude: float) -> Point:\n",
    "    \"\"\"Find an object in the map by its coordinates\"\"\"\n",
    "```\n"
   ]
  },
  {
   "cell_type": "markdown",
   "id": "5a189252-ffe6-4fff-97bc-fd653c2c2b2d",
   "metadata": {},
   "source": [
    "<div  style=\"direction:rtl;line-height:200%;\">\n",
    "  <font face=\"B nazanin\" size=5>\n",
    "    <p></p>\n",
    "ما می‌توانیم ازانوتیشن‌ برای بیان‌گرتر کردن کد خود استفاده کنیم. مثال زیر را در نظر بگیرید که تابعی برای راه‌اندازی یک کار (task) است، اما همچنین یک پارامتر برای به تعویق انداختن اجرا می‌پذیرد:\n",
    "\n",
    "</font>\n",
    "</div>"
   ]
  },
  {
   "cell_type": "markdown",
   "id": "0e4501cd-76cb-48f1-8e0e-6982dc36699f",
   "metadata": {},
   "source": [
    "```Python\n",
    "def launch_task(delay_in_seconds):\n",
    "    ...\n",
    "```\n"
   ]
  },
  {
   "cell_type": "markdown",
   "id": "eee81904-959f-4787-a93e-956113d9836d",
   "metadata": {},
   "source": [
    "<div  style=\"direction:rtl;line-height:200%;\">\n",
    "  <font face=\"B nazanin\" size=5>\n",
    "    <p></p>\n",
    "چه مقادیری برای ثانیه‌ها قابل قبول و خوب هستند؟ آیا کسری‌ها نیز در نظر گرفته می‌شوند؟\n",
    "\n",
    "</font>\n",
    "</div>\n"
   ]
  },
  {
   "cell_type": "markdown",
   "id": "5ba05556-0a2e-4e8f-9d79-5445beb32bed",
   "metadata": {},
   "source": [
    "```Python\n",
    "Seconds = float\n",
    "def launch_task(delay: Seconds):\n",
    "    ...\n",
    "```\n"
   ]
  },
  {
   "cell_type": "markdown",
   "id": "d764de1b-283b-4e17-bf99-78fd04193677",
   "metadata": {},
   "source": [
    "<div  style=\"direction:rtl;line-height:200%;\">\n",
    "  <font face=\"B nazanin\" size=5>\n",
    "    <p></p>\n",
    "با معرفی انوتیشن‌، یک ویژگی خاص جدید نیز اضافه می‌شود که آن `__annotations__` است. در مثال ما، این به شکل زیر خواهد بود:\n",
    "\n",
    "</font>\n",
    "</div>\n"
   ]
  },
  {
   "cell_type": "code",
   "execution_count": 96,
   "id": "b2adf7d7-4fb9-423f-b3cb-82fce587ba21",
   "metadata": {},
   "outputs": [
    {
     "name": "stdout",
     "output_type": "stream",
     "text": [
      "{'latitude': <class 'float'>, 'longitude': <class 'float'>, 'return': <class '__main__.Point'>}\n"
     ]
    }
   ],
   "source": [
    "from dataclasses import dataclass\n",
    "\n",
    "@dataclass\n",
    "class Point:\n",
    "    lat: float\n",
    "    long: float\n",
    "\n",
    "def locate(latitude: float, longitude: float) -> Point:\n",
    "    \"\"\"Find an object in the map by its coordinates\"\"\"\n",
    "    return Point(lat=latitude, long=longitude)\n",
    "\n",
    "print(locate.__annotations__)\n"
   ]
  },
  {
   "cell_type": "markdown",
   "id": "ef3ed0a8-8357-4143-a7d4-477e20e4dff8",
   "metadata": {},
   "source": [
    "<div  style=\"direction:rtl;line-height:200%;\">\n",
    "  <font face=\"B nazanin\" size=5>\n",
    "    <p></p>\n",
    "ما می‌توانیم از این ویژگی برای تولید مستندات، اجرای اعتبارسنجی‌ها یا اعمال چک‌ها در کد خود استفاده کنیم.\n",
    "\n",
    "</font>\n",
    "</div>"
   ]
  },
  {
   "cell_type": "markdown",
   "id": "28a6ff20-d538-4219-8758-ef25624097b2",
   "metadata": {},
   "source": [
    "<div  style=\"direction:rtl;line-height:200%;\">\n",
    "  <font face=\"B nazanin\" size=5>\n",
    "    <p></p>\n",
    "در مورد چک کردن کد از طریق انوتیشن‌، اینجا است که PEP-484 وارد عمل می‌شود. این PEP اصول اولیه تایپ هینتینگ (type hinting) را مشخص می‌کند.\n",
    "ما می‌توانیم نام‌ها و انتزاعات معناداری برای انواع در کد خود ایجاد کنیم. \n",
    "\n",
    "</font>\n",
    "</div>"
   ]
  },
  {
   "cell_type": "markdown",
   "id": "ff97fcf2-ee59-4e0b-8068-71384c746d74",
   "metadata": {},
   "source": [
    "```Python\n",
    "def process_clients(clients: list):\n",
    "    ...\n",
    "```\n"
   ]
  },
  {
   "cell_type": "code",
   "execution_count": 111,
   "id": "9ea851eb-6adf-4d5e-9ee8-b163be94230b",
   "metadata": {},
   "outputs": [
    {
     "name": "stdout",
     "output_type": "stream",
     "text": [
      "Processing client: Alice\n",
      "Processing client: Bob\n",
      "Processing client: Charlie\n"
     ]
    }
   ],
   "source": [
    "def process_clients(clients: list):\n",
    "    \"\"\"پردازش لیستی از مشتریان\"\"\"\n",
    "    for client in clients:\n",
    "        print(f\"Processing client: {client}\")\n",
    "\n",
    "# استفاده:\n",
    "clients_list = [\"Alice\", \"Bob\", \"Charlie\"]\n",
    "process_clients(clients_list)\n"
   ]
  },
  {
   "cell_type": "markdown",
   "id": "835e2084-4df9-49ad-906b-6453deceaaa2",
   "metadata": {},
   "source": [
    "<div  style=\"direction:rtl;line-height:200%;\">\n",
    "  <font face=\"B nazanin\" size=5>\n",
    "    <p></p>\n",
    "اگر مشتریان به‌عنوان تاپل‌هایی از اعداد صحیح و متن نمایش داده می‌شوند، می‌توانیم کمی جزئیات بیشتری اضافه کنیم:\n",
    "\n",
    "</font>\n",
    "</div>"
   ]
  },
  {
   "cell_type": "code",
   "execution_count": 115,
   "id": "969197d2-9117-419a-8e0d-097bb3775db7",
   "metadata": {},
   "outputs": [
    {
     "name": "stdout",
     "output_type": "stream",
     "text": [
      "Processing client ID: 1, Name: Alice\n",
      "Processing client ID: 2, Name: Bob\n",
      "Processing client ID: 3, Name: Charlie\n"
     ]
    }
   ],
   "source": [
    "def process_clients(clients: list[tuple[int, str]]):\n",
    "    \"\"\"پردازش و نمایش لیستی از مشتریان\"\"\"\n",
    "    for client_id, client_name in clients:\n",
    "        print(f\"Processing client ID: {client_id}, Name: {client_name}\")\n",
    "\n",
    "# استفاده:\n",
    "clients_list = [(1, \"Alice\"), (2, \"Bob\"), (3, \"Charlie\")]\n",
    "process_clients(clients_list)\n"
   ]
  },
  {
   "cell_type": "markdown",
   "id": "2335ff03-e818-4f21-86be-65a8ea3bcd3c",
   "metadata": {},
   "source": [
    "<div  style=\"direction:rtl;line-height:200%;\">\n",
    "  <font face=\"B nazanin\" size=5>\n",
    "    <p></p>\n",
    "اما این هنوز اطلاعات کافی را به ما نمی‌دهد، بهتر است نامی برای آن نام مستعار داشته باشیم تا مجبور نباشیم نوع آن را استنباط کنیم.\n",
    "</font>\n",
    "</div>"
   ]
  },
  {
   "cell_type": "code",
   "execution_count": null,
   "id": "135a3b29-f78d-4a83-8f89-7ab2b5a24e76",
   "metadata": {},
   "outputs": [],
   "source": [
    "from typing import Tuple\n",
    "\n",
    "Client = Tuple[int, str]  # Client به عنوان تاپل شامل ID و نام تعریف شده است\n",
    "\n",
    "def process_clients(clients: list[Client]):\n",
    "    \"\"\"نمایش اطلاعات مشتریان\"\"\"\n",
    "    for client_id, client_name in clients:\n",
    "        print(f\"Processing client ID: {client_id}, Name: {client_name}\")\n",
    "\n",
    "# استفاده:\n",
    "clients_list = [(1, \"Alice\"), (2, \"Bob\"), (3, \"Charlie\")]\n",
    "process_clients(clients_list)\n"
   ]
  },
  {
   "cell_type": "markdown",
   "id": "2f7f1a12-41a1-448c-bb3f-f36a2ee43b00",
   "metadata": {},
   "source": [
    "<div  style=\"direction:rtl;line-height:200%;\">\n",
    "  <font face=\"B nazanin\" size=5>\n",
    "    <p></p>\n",
    "یک مزیت اضافی که انوتیشن‌ به همراه دارند این است که با معرفی PEP-526 و PEP-557، راهی مناسب برای نوشتن کلاس‌ها به صورت فشرده و تعریف اشیاء کوچک در دسترس است.\n",
    "</font>\n",
    "</div>"
   ]
  },
  {
   "cell_type": "code",
   "execution_count": 109,
   "id": "4d533bfa-6f20-4328-b081-7711f2682e68",
   "metadata": {},
   "outputs": [
    {
     "name": "stdout",
     "output_type": "stream",
     "text": [
      "{'lat': <class 'float'>, 'long': <class 'float'>}\n",
      "Point(lat=1, long=2) Point(lat=1, long=2)\n"
     ]
    }
   ],
   "source": [
    "from dataclasses import dataclass\n",
    "\n",
    "@dataclass\n",
    "class Point:\n",
    "    lat: float\n",
    "    long: float\n",
    "\n",
    "print(Point.__annotations__) \n",
    "p1 = Point(1, 2)             \n",
    "p2 = Point(lat=1, long=2)     \n",
    "print(p1, p2)\n"
   ]
  },
  {
   "cell_type": "markdown",
   "id": "f9b62cf9-cd3b-407e-b2ad-bbc89a9a71d8",
   "metadata": {},
   "source": [
    "<hr>"
   ]
  },
  {
   "cell_type": "markdown",
   "id": "8256658f-4405-4016-bc92-37f7c81eea67",
   "metadata": {},
   "source": [
    "<div\n",
    "  style=\"direction:rtl;line-height:200%;\">\n",
    "  <font face=\"B Nazanin\" size=4>\n",
    "    <font color=#4169E1 size=5>\n",
    "آیا انوتیشن‌ها جایگزین داک‌استرینگ‌ها می‌شوند؟\n",
    "\n",
    "</font>\n",
    "</div>"
   ]
  },
  {
   "cell_type": "markdown",
   "id": "1f6010bc-13c5-4ff1-b72c-e434a1d5b73a",
   "metadata": {},
   "source": [
    "<div  style=\"direction:rtl;line-height:200%;\">\n",
    "  <font face=\"B nazanin\" size=5>\n",
    "    <p></p>\n",
    "پاسخ منفی است و این به این دلیل است که آنها مکمل یکدیگر هستند.\n",
    "<br>\n",
    "درست است که بخشی از اطلاعات قبلاً موجود در داک‌استرینگ اکنون می‌تواند به انوتیشن‌ها منتقل شود (دیگر نیازی به نشان دادن انواع پارامترها در داک‌استرینگ‌ها نیست زیرا می‌توانیم از انوتیشن‌ها استفاده کنیم). اما این باید فقط فضای بیشتری برای مستندسازی بهتر در داک‌استرینگ ایجاد کند.\n",
    "</font>\n",
    "</div>\n"
   ]
  },
  {
   "cell_type": "markdown",
   "id": "1ad90e7a-c94f-4363-804e-0c32780298b2",
   "metadata": {},
   "source": [
    "<div\n",
    "  style=\"direction:rtl;line-height:200%;\">\n",
    "  <font face=\"B Nazanin\" size=4>\n",
    "    <font color=#4169E1 size=5>\n",
    "آیا واقعاً ارزش دارد که داک‌استرینگ‌ها نیز وجود داشته باشند؟\n",
    "\n",
    "</font>\n",
    "</div>"
   ]
  },
  {
   "cell_type": "markdown",
   "id": "ab9610c1-825c-4e61-89ce-9595f0c7f330",
   "metadata": {},
   "source": [
    "<div  style=\"direction:rtl;line-height:200%;\">\n",
    "  <font face=\"B nazanin\" size=5>\n",
    "    <p></p>\n",
    "فرض کنید که ما تابعی داریم که انتظار یک دیکشنری برای اعتبارسنجی داده‌ها را دارد:\n",
    "\n",
    "</font>\n",
    "</div>"
   ]
  },
  {
   "cell_type": "markdown",
   "id": "1d02cb95-4940-4ef4-a974-79908883b39d",
   "metadata": {},
   "source": [
    "```Python\n",
    "def data_from_response(response: dict) -> dict:\n",
    "    if response[\"status\"] != 200:\n",
    "       raise ValueError\n",
    "    return {\"data\": response[\"payload\"]}\n",
    "```\n"
   ]
  },
  {
   "cell_type": "markdown",
   "id": "2906d7b0-e9f9-4a25-bd84-fe8f5120f1e0",
   "metadata": {},
   "source": [
    "<div  style=\"direction:rtl;line-height:200%;\">\n",
    "  <font face=\"B nazanin\" size=5>\n",
    "    <p></p>\n",
    "ببینیم آیا می‌توانیم این را بهتر با کمک یک داک‌استرینگ توضیح دهیم:\n",
    "\n",
    "</font>\n",
    "</div>"
   ]
  },
  {
   "cell_type": "code",
   "execution_count": 127,
   "id": "9940a4b3-9beb-4dbe-b8b4-c0295af112c5",
   "metadata": {},
   "outputs": [
    {
     "name": "stdout",
     "output_type": "stream",
     "text": [
      "Error: \"Missing 'payload' in the response.\"\n"
     ]
    }
   ],
   "source": [
    "def data_from_response(response: dict) -> dict:\n",
    "    \"\"\"If the response is OK, return its payload.\n",
    "    \n",
    "    - response: A dict like::\n",
    "    {\n",
    "        \"status\": 200,  # <int>\n",
    "        \"timestamp\": \"....\",  # ISO format string of the current date time\n",
    "        \"payload\": { ... }  # dict with the returned data\n",
    "    }\n",
    "    - Returns a dictionary like::\n",
    "    {\"data\": { .. } }\n",
    "\n",
    "    - Raises:\n",
    "    - ValueError if the HTTP status is != 200\n",
    "    - KeyError if 'payload' is missing\n",
    "    \"\"\"\n",
    "    \n",
    "    if response.get(\"status\") != 200:\n",
    "        raise ValueError(\"Invalid status code.\")\n",
    "    \n",
    "    payload = response.get(\"payload\")\n",
    "    if payload is None:\n",
    "        raise KeyError(\"Missing 'payload' in the response.\")\n",
    "    \n",
    "    return {\"data\": payload}\n",
    "\n",
    "# تعریف ورودی\n",
    "response = {\n",
    "    \"status\": 200,\n",
    "    \"timestamp\": \"2025-01-22T15:30:00Z\"\n",
    "}\n",
    "\n",
    "# فراخوانی تابع\n",
    "try:\n",
    "    result = data_from_response(response)\n",
    "    print(result)\n",
    "except KeyError as e:\n",
    "    print(f\"Error: {e}\")\n"
   ]
  },
  {
   "cell_type": "markdown",
   "id": "da5e7b1a-8b49-48d5-a6ec-8a8323a7045c",
   "metadata": {},
   "source": [
    "<hr>"
   ]
  },
  {
   "cell_type": "markdown",
   "id": "07d03212-6fc7-441c-af7d-36185366cd63",
   "metadata": {},
   "source": [
    "<div\n",
    "  style=\"direction:rtl;line-height:200%;\">\n",
    "  <font face=\"B Nazanin\" size=4>\n",
    "    <font color=#000080 size=6>\n",
    "ابزارها (Tooling) و اجرای خودکار بررسی‌های کد\n",
    "</font>\n",
    "</div>"
   ]
  },
  {
   "cell_type": "markdown",
   "id": "95a4bcf3-daa8-4459-8eb0-ee565774ce23",
   "metadata": {},
   "source": [
    "<div  style=\"direction:rtl;line-height:200%;\">\n",
    "  <font face=\"B nazanin\" size=5>\n",
    "    <p></p>\n",
    "چرا استفاده از ابزارهای خودکار مهم است؟ <br >\n",
    "•\tهدف اصلی کد، قابل‌فهم بودن برای انسان‌هاست<br >\n",
    "•\tفقط ما، به عنوان برنامه‌نویس، می‌توانیم کیفیت واقعی کد را تشخیص دهیم<br >\n",
    "•\tباید زمان کافی برای بازبینی کد(Code Review)صرف کنیم تا مطمئن شویم کد\n",
    "      <br >\n",
    "•\tبرای برنامه‌نویسان دیگر قابل درک و دنبال‌کردنی است<br >\n",
    ".با زبان مسئله و مفاهیم آن سازگار است<br >\n",
    "•\tبرای افراد جدید تیم خوانا و قابل استفاده است<br >\n",
    "\n",
    "</font>\n",
    "</div>"
   ]
  },
  {
   "cell_type": "markdown",
   "id": "bc6e5b93-2472-4ed3-9b1c-eb22045b4f02",
   "metadata": {},
   "source": [
    "<div\n",
    "  style=\"direction:rtl;line-height:200%;\">\n",
    "  <font face=\"B Nazanin\" size=4>\n",
    "    <font color=#000080 size=6>\n",
    "چرا فرمت‌بندی و ساختار کد کافی نیست؟\n",
    "</font>\n",
    "</div>"
   ]
  },
  {
   "cell_type": "markdown",
   "id": "a1b5823a-05f8-4049-ad8b-92505c67349a",
   "metadata": {},
   "source": [
    "<div  style=\"direction:rtl;line-height:200%;\">\n",
    "  <font face=\"B nazanin\" size=5>\n",
    "    <p></p>\n",
    "•\tقوانین فرمت‌بندی مثل رعایت PEP-8، مهم هستند اما کافی نیستند.\n",
    "<br>\n",
    "•\tما به عنوان مهندسین نرم‌افزار، باید تمرکز خود را از جزئیات ظاهری برداریم و زمان بیشتری روی تحلیل الگوهای کلی کد بگذاریم.\n",
    "<br>\n",
    "•\tبنابراین، بررسی‌هایی مانند فرمت‌بندی و چک کردن قوانین، باید خودکار شوند تا در زمان بازبینی دستی، روی مسائل عمیق‌تر تمرکز کنیم.\n",
    "</font>\n",
    "</div>"
   ]
  },
  {
   "cell_type": "markdown",
   "id": "fef0e07a-975c-46b7-8915-576428aa6636",
   "metadata": {},
   "source": [
    "<div style=\"direction:rtl;line-height:200%;\">\n",
    "  <font face=\"B Nazanin\" size=4>\n",
    "    <font color=#000080 size=6>\n",
    "اهمیت اتوماسیون در توسعه نرم‌افزار\n",
    "</font>\n",
    "</div>"
   ]
  },
  {
   "cell_type": "markdown",
   "id": "a19bfd60-5747-4369-be37-1c7b24677033",
   "metadata": {},
   "source": [
    "<div  style=\"direction:rtl;line-height:200%;\">\n",
    "  <font face=\"B nazanin\" size=5>\n",
    "    <p></p>\n",
    "•\tبررسی‌های خودکار بخشی از تست‌ها و چک‌لیست‌ها باشند.\n",
    "<br>\n",
    "•\tاجرای این بررسی‌ها در فرآیند CI تضمین می‌کند که در صورت نقض قوانین، پروژه متوقف شود و مشکلات زود شناسایی شوند.\n",
    "<br>\n",
    "•\tاین رویکرد کمک می‌کند تا بجای اینکه رهبر تیم یا اعضای دیگر مرتباً مشکلات فرمت‌بندی را گوشزد کنند، ابزارها خودشان به‌طور خودکار ساختار نادرست را شناسایی و گزارش کنند.\n",
    "</font>\n",
    "</div>"
   ]
  },
  {
   "cell_type": "markdown",
   "id": "ce30356b-8d05-40e4-bbe6-af218ef4962f",
   "metadata": {},
   "source": [
    "<div style=\"direction:rtl;line-height:200%;\">\n",
    "  <font face=\"B Nazanin\" size=4>\n",
    "    <font color=#000080 size=6>\n",
    "بررسی سازگاری نوع (Type Consistency)\n",
    "</font>\n",
    "</div>"
   ]
  },
  {
   "cell_type": "markdown",
   "id": "5ca0b73b-ca40-4170-bb9a-86ca0583bdfa",
   "metadata": {},
   "source": [
    "<div  style=\"direction:rtl;line-height:200%;\">\n",
    "  <font face=\"B nazanin\" size=5>\n",
    "    <p></p>\n",
    "سازگاری نوع یکی از موارد مهمی است که می‌خواهیم به‌صورت خودکار بررسی شود. در حالی که پایتون زبانی با تایپ پویا (dynamically typed) است، می‌توانیم با اضافه کردن تایپ‌ انوتیشن‌ها (Type Annotations) به کد، خوانایی را افزایش دهیم و به ابزارها کمک کنیم که نوع داده‌ها را بهتر درک کنند. حتی با اینکه این انوتیشن‌ها اختیاری هستند، استفاده از آن‌ها مزایای متعددی دارد، از جمله: \n",
    "<br>\n",
    "•\tخوانایی بیشتر کد برای هم‌تیمی‌ها و توسعه‌دهندگان دیگر.\n",
    "<br>\n",
    "•\tکشف زودهنگام باگ‌ها از طریق ابزارهای بررسی خودکار.\n",
    "</font>\n",
    "</div>"
   ]
  },
  {
   "cell_type": "markdown",
   "id": "4a126d48-b031-4f45-b09c-4ae8978a8582",
   "metadata": {},
   "source": [
    "<div style=\"direction:rtl;line-height:200%;\">\n",
    "  <font face=\"B Nazanin\" size=4>\n",
    "    <font color=#000080 size=6>\n",
    "ابزارهای بررسی سازگاری نوع در پایتون\n",
    "</font>\n",
    "</div>"
   ]
  },
  {
   "cell_type": "markdown",
   "id": "c069e97d-7d39-4f61-aaff-5b1fa0b69d46",
   "metadata": {},
   "source": [
    "<div  style=\"direction:rtl;line-height:200%;\">\n",
    "  <font face=\"B nazanin\" size=5>\n",
    "    <p></p>\n",
    "پس از معرفی قابلیت تایپ‌هینتینگ (Type Hinting) در پایتون، چندین ابزار برای بررسی سازگاری نوع (Type Consistency) توسعه یافتند. در این بخش، با دو ابزار محبوب آشنا می‌شویم:\n",
    "<br>\n",
    "1.\tmypy – بررسی ایستا و اختیاری تایپ‌ها در پایتون.\n",
    "<br>\n",
    "2.\tpytype – ابزار گوگل برای بررسی نوع کدهای پایتون.\n",
    "<br>\n",
    "فارغ از اینکه از چه ابزاری استفاده می‌کنید، اصل کلی این است که بررسی سازگاری تایپ‌ها باید خودکار و بخشی از فرآیند CI باشد تا از ورود خطاها به کد جلوگیری شود.\n",
    "</font>\n",
    "</div>"
   ]
  },
  {
   "cell_type": "markdown",
   "id": "aa10d733-8627-489c-b389-371477f5fc2e",
   "metadata": {},
   "source": [
    "<div style=\"direction:rtl;line-height:200%;\">\n",
    "  <font face=\"B Nazanin\" size=4>\n",
    "    <font color=#000080 size=6>\n",
    "استفاده از mypy\n",
    "</font>\n",
    "</div>"
   ]
  },
  {
   "cell_type": "markdown",
   "id": "576ade2b-0202-4a51-9dfa-0f5763bdd3cf",
   "metadata": {},
   "source": [
    "<div  style=\"direction:rtl;line-height:200%;\">\n",
    "  <font face=\"B nazanin\" size=5>\n",
    "    <p></p>\n",
    "mypy یکی از پرکاربردترین ابزارهای بررسی ایستای نوع (static type checking) در پایتون است. این ابزار تمام فایل‌های پروژه را تحلیل کرده و ناسازگاری‌های تایپ‌ها را شناسایی می‌کند. این ابزار اغلب می‌تواند خطاهای رایج را زودتر تشخیص دهد، هرچند ممکن است گاهی هشدارهای نادرست (false positives) هم بدهد.\n",
    "<br>\n",
    "می‌توانید این ابزار را با pip نصب کنید:\n",
    "</font>\n",
    "</div>"
   ]
  },
  {
   "cell_type": "markdown",
   "id": "8156245f-0d93-4824-8940-1a6eaa5811c8",
   "metadata": {},
   "source": [
    "```Pytho\n",
    "$ pip install mypy\n",
    "\n",
    "$ mypy <project-folder>\n",
    "```"
   ]
  },
  {
   "cell_type": "markdown",
   "id": "b5e3d051-3e4f-4d76-8389-6ab94e0ac6fd",
   "metadata": {},
   "source": [
    "<div style=\"direction:rtl;line-height:200%;\">\n",
    "  <font face=\"B Nazanin\" size=4>\n",
    "    <font color=#000080 size=6>\n",
    "بی‌اثر کردن خطاهای نادرست (False Positives)\n",
    "</font>\n",
    "</div>"
   ]
  },
  {
   "cell_type": "markdown",
   "id": "96cc03fd-36bd-4409-8f49-9d3dd31b6715",
   "metadata": {},
   "source": [
    "<div  style=\"direction:rtl;line-height:200%;\">\n",
    "  <font face=\"B nazanin\" size=5>\n",
    "    <p></p>\n",
    "اگر mypy در جایی به‌اشتباه هشداری نمایش داد و مطمئن بودید که آن خطا اشتباه است، می‌توانید با افزودن نظر (comment) زیر، آن خط را نادیده بگیرید:\n",
    "</font>\n",
    "</div>"
   ]
  },
  {
   "cell_type": "markdown",
   "id": "4c32796a-87f4-4ed8-a4ba-95231ad9b327",
   "metadata": {},
   "source": [
    "```Pytho\n",
    "type_to_ignore = \"something\"  # type: ignore\n",
    "```"
   ]
  },
  {
   "cell_type": "code",
   "execution_count": 129,
   "id": "db0f9b67-4f7b-4502-bb3b-edc15f0fcf24",
   "metadata": {},
   "outputs": [],
   "source": [
    "from typing import Iterable\n",
    "import logging\n",
    "\n",
    "# تنظیم لاگر\n",
    "logger = logging.getLogger(__name__)\n",
    "\n",
    "def broadcast_notification(\n",
    "    message: str,\n",
    "    relevant_user_emails: Iterable[str]  # انتظار دریافت مجموعه‌ای از رشته‌ها\n",
    "):\n",
    "    for email in relevant_user_emails:\n",
    "        logger.info(\"Sending %r to %r\", message, email)\n",
    "\n",
    "# استفاده‌ی اشتباه از تابع: ارسال یک رشته منفرد به‌جای مجموعه‌ای از ایمیل‌ها\n",
    "broadcast_notification(\"welcome\", \"user1@domain.com\")"
   ]
  },
  {
   "cell_type": "markdown",
   "id": "ccb09283-4b83-4e5b-9f0f-a145becdc4df",
   "metadata": {},
   "source": [
    "<div style=\"direction:rtl;line-height:200%;\">\n",
    "  <font face=\"B Nazanin\" size=4>\n",
    "    <font color=#000080 size=6>\n",
    "بررسی مشکل در مثال broadcast_notificatio  و حل آن با تایپ‌هینت\n",
    " </font>\n",
    "</div>"
   ]
  },
  {
   "cell_type": "markdown",
   "id": "5b9061d8-7123-4bf2-be21-c1d2f22993ba",
   "metadata": {},
   "source": [
    "<div  style=\"direction:rtl;line-height:200%;\">\n",
    "  <font face=\"B nazanin\" size=5>\n",
    "    <p></p>\n",
    "در این مثال، مشکل اصلی این است که پارامتر دوم تابع broadcast_notification باید یک مجموعه‌ای از ایمیل‌ها (مثل یک لیست یا تاپل از رشته‌ها) باشد. اما اگر به اشتباه یک رشته منفرد (مثل \"user1@domain.com\") ارسال شود، پایتون هر کاراکتر را به‌عنوان یک عنصر جداگانه در نظر می‌گیرد و سعی می‌کند آن را به‌عنوان ایمیل ارسال کند. این رفتار نه‌تنها اشتباه است، بلکه mypy هم در حالت عادی چنین خطایی را شناسایی نمی‌کند.\n",
    "</font>\n",
    "</div>"
   ]
  },
  {
   "cell_type": "markdown",
   "id": "1f5d06f7-ac74-4c2f-a288-53c8be0e2e26",
   "metadata": {},
   "source": [
    "<div style=\"direction:rtl;line-height:200%;\">\n",
    "  <font face=\"B Nazanin\" size=4>\n",
    "    <font color=#000080 size=6>\n",
    "راه‌حل با تایپ‌هینت دقیق‌تر\n",
    "</font>\n",
    "</div>"
   ]
  },
  {
   "cell_type": "markdown",
   "id": "971f501c-453b-48c1-9b19-70b78af04cc1",
   "metadata": {},
   "source": [
    "<div  style=\"direction:rtl;line-height:200%;\">\n",
    "  <font face=\"B nazanin\" size=5>\n",
    "    <p></p>\n",
    "به‌جای اینکه از Iterable[str] استفاده کنیم (که شامل هر شیء قابل پیمایش از نوع رشته است)، می‌توانیم تایپ را به List[str] یا Tuple[str] محدود کنیم تا فقط این نوع داده‌ها پذیرفته شوند.\n",
    ":\n",
    "</font>\n",
    "</div>"
   ]
  },
  {
   "cell_type": "code",
   "execution_count": null,
   "id": "a3aeb30b-4584-4381-b60a-d9b5733638e8",
   "metadata": {},
   "outputs": [],
   "source": [
    "from typing import List, Tuple, Union\n",
    "import logging\n",
    "\n",
    "logger = logging.getLogger(__name__)\n",
    "\n",
    "def broadcast_notification(\n",
    "    message: str,\n",
    "    relevant_user_emails: Union[List[str], Tuple[str]]\n",
    ") -> None:\n",
    "    for email in relevant_user_emails:\n",
    "        logger.info(\"Sending %r to %r\", message, email)\n",
    "\n",
    "# نمونه‌ی درست:\n",
    "broadcast_notification(\"Welcome!\", [\"user1@domain.com\", \"user2@domain.com\"])\n",
    "\n",
    "# نمونه‌ی اشتباه که mypy آن را شناسایی می‌کند:\n",
    "broadcast_notification(\"Welcome!\", \"user1@domain.com\")\n"
   ]
  },
  {
   "cell_type": "markdown",
   "id": "1a7a1068-7219-4a59-b0ba-967982b85a84",
   "metadata": {},
   "source": [
    "<div style=\"direction:rtl;line-height:200%;\">\n",
    "  <font face=\"B Nazanin\" size=4>\n",
    "    <font color=#000080 size=6>\n",
    "چک کردن با mypy\n",
    "</font>\n",
    "</div>\n"
   ]
  },
  {
   "cell_type": "markdown",
   "id": "81181f40-a494-4811-bd0f-f3c08431998e",
   "metadata": {},
   "source": [
    "<div  style=\"direction:rtl;line-height:200%;\">\n",
    "  <font face=\"B nazanin\" size=5>\n",
    "    <p></p>\n",
    "پس از اصلاح تایپ‌هینت‌ها، اگر به‌اشتباه یک رشته منفرد را به‌جای لیست ارسال کنیم، mypy خطای زیر را گزارش می‌دهد:\n",
    "</font>\n",
    "</div>"
   ]
  },
  {
   "cell_type": "markdown",
   "id": "8eacf1ac-22fc-49f0-9e60-47d551c68d36",
   "metadata": {},
   "source": [
    "```Pytho\n",
    "error: Argument 2 to \"broadcast_notification\" has incompatible type \"str\"; \n",
    "expected \"Union[List[str], Tuple[str]]\"\n",
    "```"
   ]
  },
  {
   "cell_type": "markdown",
   "id": "c726f3cd-4e4e-4f48-b9ff-45686c159dd6",
   "metadata": {},
   "source": [
    "<div style=\"direction:rtl;line-height:200%;\">\n",
    "  <font face=\"B Nazanin\" size=4>\n",
    "    <font color=#000080 size=6>\n",
    "ابزار pytype و تفاوت آن با mypy\n",
    "</font>\n",
    "</div>\n"
   ]
  },
  {
   "cell_type": "markdown",
   "id": "35fc38d3-89cb-4b35-8c43-83dd6b0b326c",
   "metadata": {},
   "source": [
    "<div  style=\"direction:rtl;line-height:200%;\">\n",
    "  <font face=\"B nazanin\" size=5>\n",
    "    <p></p>\n",
    "•\tmypy فقط تعاریف استاتیک تایپ‌ها را بررسی می‌کند.\n",
    "<br>\n",
    "•\tpytype علاوه بر تایپ‌ها، سعی می‌کند رفتار کد در زمان اجرا را هم تحلیل کند. بنابراین، اگر بخشی از کد به‌طور موقت از تایپ‌های تعریف‌شده خارج شود ولی در نهایت به وضعیت صحیح برگردد، pytype ممکن است این موضوع را نادیده بگیرد.\n",
    "</font>\n",
    "</div>"
   ]
  },
  {
   "cell_type": "markdown",
   "id": "c1237bc9-9d9c-41c5-866b-3ad9d53b7d45",
   "metadata": {},
   "source": [
    "<div style=\"direction:rtl;line-height:200%;\">\n",
    "  <font face=\"B Nazanin\" size=4>\n",
    "    <font color=#000080 size=6>\n",
    "ولیدیشن (Validation) یا اعتبارسنجی در کد یعنی چی؟\n",
    "</font>\n",
    "</div>"
   ]
  },
  {
   "cell_type": "markdown",
   "id": "b369099b-0063-433e-b989-54b0239887ec",
   "metadata": {},
   "source": [
    "<div  style=\"direction:rtl;line-height:200%;\">\n",
    "  <font face=\"B nazanin\" size=5>\n",
    "    <p></p>\n",
    "وقتی کد می‌نویسیم، هدف اینه که مطمئن بشیم:\n",
    " <br>\n",
    "•\tکد قابل‌فهم هست\n",
    "<br>\n",
    "•\tدرست کار می‌کنه\n",
    "<br>\n",
    "•\tاز نظر ساختار و ظاهر تمیز و مرتب نوشته شده.\n",
    "<br>\n",
    "برای اینکه مطمئن بشیم کد درست و استاندارد نوشته شده، از ابزارهایی استفاده می‌کنیم که خطاهای رایج رو پیدا می‌کنند. این ابزارها به ما کمک می‌کنند کدی بنویسیم که:\n",
    "<br>\n",
    "•\tاز استانداردهای مشخص پیروی کنه (مثلاً PEP-8 در پایتون.\n",
    "      <br>\n",
    "•\tاز مشکلات رایج جلوگیری کنیم (مثل داشتن تعداد زیاد ورودی در یک تابع).\n",
    "</font>\n",
    "</div>\n"
   ]
  },
  {
   "cell_type": "markdown",
   "id": "63ba643b-6b97-4452-a39c-db0a1335c3fc",
   "metadata": {},
   "source": [
    "<div style=\"direction:rtl;line-height:200%;\">\n",
    "  <font face=\"B Nazanin\" size=4>\n",
    "    <font color=#000080 size=6>\n",
    "PEP-8 چیه؟\n",
    "</font>\n",
    "</div>"
   ]
  },
  {
   "cell_type": "markdown",
   "id": "0288bea1-38f3-416d-b5c6-02235034cf76",
   "metadata": {},
   "source": [
    "<div  style=\"direction:rtl;line-height:200%;\">\n",
    "  <font face=\"B nazanin\" size=5>\n",
    "    <p></p>\n",
    " PEP-8 یک سری قوانین و توصیه‌ها برای سبک نوشتاری کد پایتون هست. مثلاً:\n",
    "<br>\n",
    "•\tچطور فاصله‌ها (Indentation) رو رعایت کنیم.\n",
    "<br>\n",
    "•\tچطور اسم متغیرها رو انتخاب کنیم.\n",
    "<br>\n",
    "•\tچطور خط‌های طولانی رو بشکنیم تا خواناتر بشه.\n",
    "<br>\n",
    "حالا ابزارهایی مثل pycodestyle و flake8 به ما کمک می‌کنن مطمئن بشیم کد ما این قوانین رو رعایت کرده.\n",
    "</font>\n",
    "</div>"
   ]
  },
  {
   "cell_type": "markdown",
   "id": "dddc5208-4e10-44c3-99ee-442de0d458ae",
   "metadata": {},
   "source": [
    "<div style=\"direction:rtl;line-height:200%;\">\n",
    "  <font face=\"B Nazanin\" size=4>\n",
    "    <font color=#000080 size=6>\n",
    "ابزارهایی برای چک کردن ساختار کد\n",
    "</font>\n",
    "</div>"
   ]
  },
  {
   "cell_type": "markdown",
   "id": "c4543065-995d-4d33-b13d-dfeecc8b5c23",
   "metadata": {},
   "source": [
    "<div  style=\"direction:rtl;line-height:200%;\">\n",
    "  <font face=\"B nazanin\" size=5>\n",
    "    <p></p>\n",
    "•\tpycodestyle: یک ابزار ساده که فقط بررسی می‌کنه آیا کد ما با قوانین PEP-8 سازگاره یا نه.\n",
    "<br>\n",
    "•\tflake8: کمی پیشرفته‌تره و علاوه بر PEP-8، چک‌های بیشتری انجام می‌ده. مثلاً ممکنه بررسی کنه که کد جایی داره تکرار غیرضروری انجام می‌ده.\n",
    "<br>\n",
    "این ابزارها رو می‌تونیم به‌راحتی با دستورهای خاص خودشون در ترمینال اجرا کنیم. مثلاً:\n",
    "\n",
    "</font>\n",
    "</div>"
   ]
  },
  {
   "cell_type": "markdown",
   "id": "aff49cf1-bad9-43ed-8f2d-97ab03f893b0",
   "metadata": {},
   "source": [
    "```Pytho\n",
    "$ pip install pycodestyle\n",
    "$ pycodestyle my_code.py\n",
    "``` "
   ]
  },
  {
   "cell_type": "markdown",
   "id": "eeb4b028-c335-4e6f-b991-8718c0810918",
   "metadata": {},
   "source": [
    "<div style=\"direction:rtl;line-height:200%;\">\n",
    "  <font face=\"B Nazanin\" size=4>\n",
    "    <font color=#000080 size=6>\n",
    "ابزار Pylint و کاربردش\n",
    "</font>\n",
    "</div>"
   ]
  },
  {
   "cell_type": "markdown",
   "id": "ca57f76a-f84b-42f7-a069-6fd55bbb5029",
   "metadata": {},
   "source": [
    "<div  style=\"direction:rtl;line-height:200%;\">\n",
    "  <font face=\"B nazanin\" size=5>\n",
    "    <p></p>\n",
    "یکی از قوی‌ترین ابزارهای چک کردن کیفیت کد، pylint هست. این ابزار فراتر از PEP-8 عمل می‌کنه و موارد پیچیده‌تری رو هم بررسی می‌کنه.\n",
    "<br>\n",
    "این ابزار لیستی از خطاها یا مشکلات احتمالی کد رو نشون می‌ده.\n",
    "<br>\n",
    "Pylint به‌صورت پیش‌فرض قوانین خیلی سخت‌گیرانه‌ای داره (مثلاً اینکه هر تابع باید توضیحاتی به‌عنوان docstring داشته باشه).\n",
    "ولی می‌تونیم این قوانین رو شخصی‌سازی کنیم. برای این کار، یک فایل به اسم pylintrc می‌سازیم و در اون تعیین می‌کنیم کدوم قوانین فعال یا غیرفعال باشن.\n",
    "\n",
    "</font>\n",
    "</div>"
   ]
  },
  {
   "cell_type": "markdown",
   "id": "ca6483b0-e6e0-41f4-b4ec-9748e6c58b21",
   "metadata": {},
   "source": [
    "<div style=\"direction:rtl;line-height:200%;\">\n",
    "  <font face=\"B Nazanin\" size=4>\n",
    "    <font color=#000080 size=6>\n",
    "Coala: ابزار چک کردن چند زبان برنامه‌نویسی\n",
    "</font>\n",
    "</div>"
   ]
  },
  {
   "cell_type": "markdown",
   "id": "d1f29d14-3914-4653-9644-0990b40ad973",
   "metadata": {},
   "source": [
    "<div  style=\"direction:rtl;line-height:200%;\">\n",
    "  <font face=\"B nazanin\" size=5>\n",
    "    <p></p>\n",
    "•\tCoala ابزاری مشابه pylint هست، با این تفاوت که از چند زبان مختلف (نه فقط پایتون) پشتیبانی می‌کنه.\n",
    "<br>\n",
    "•\tروش کارش هم مثل بقیه ابزارهاست: یک فایل تنظیمات می‌سازیم، و Coala با اجرای اون تنظیمات روی کد، خطاها رو پیدا می‌کنه.\n",
    "<br>\n",
    "•\tنکته جالب اینه که اگه خطایی قابل‌رفع باشه، Coala حتی پیشنهاد اصلاح خودکار می‌ده.\n",
    "\n",
    "</font>\n",
    "</div>"
   ]
  },
  {
   "cell_type": "markdown",
   "id": "4542c76a-9e87-4316-a871-e447afc537ab",
   "metadata": {},
   "source": [
    "<div style=\"direction:rtl;line-height:200%;\">\n",
    "  <font face=\"B Nazanin\" size=4>\n",
    "    <font color=#000080 size=6>\n",
    "چه می‌شه اگر قوانین پیش‌فرض کافی نباشن؟\n",
    "</font>\n",
    "</div>"
   ]
  },
  {
   "cell_type": "markdown",
   "id": "72f2f232-8808-49ba-8cfd-74d54e299a90",
   "metadata": {},
   "source": [
    "<div  style=\"direction:rtl;line-height:200%;\">\n",
    "  <font face=\"B nazanin\" size=5>\n",
    "    <p></p>\n",
    "گاهی پیش میاد که در پروژه، خطاها یا الگوهای خاصی پیدا می‌کنیم که در قوانین پیش‌فرض ابزارهایی مثل pylint یا Coala نیست. در چنین مواردی:\n",
    "<br>\n",
    "•\tمی‌تونیم قوانین خودمون رو تعریف کنیم.\n",
    "<br>\n",
    "•\tpylint به ما اجازه می‌ده پلاگین‌های سفارشی بنویسیم.\n",
    "<br>\n",
    "•\tدر Coala هم می‌تونیم ماژول‌های اعتبارسنجی جدید بسازیم که همراه با بقیه بررسی‌ها اجرا بشن.\n",
    "\n",
    "</font>\n",
    "</div>"
   ]
  },
  {
   "cell_type": "markdown",
   "id": "a1b3b95a-4188-42d4-8d2f-8e1336a03fa5",
   "metadata": {},
   "source": [
    "<div style=\"direction:rtl;line-height:200%;\">\n",
    "  <font face=\"B Nazanin\" size=4>\n",
    "    <font color=#000080 size=6>\n",
    "قالب‌بندی خودکار (Automatic Formatting)و معرفی ابزار  Black \n",
    "</font>\n",
    "</div>"
   ]
  },
  {
   "cell_type": "markdown",
   "id": "24e06d53-ac80-4368-862f-157ca0a3bd94",
   "metadata": {},
   "source": [
    "<div  style=\"direction:rtl;line-height:200%;\">\n",
    "  <font face=\"B nazanin\" size=5>\n",
    "    <p></p>\n",
    "یکی از ابزارهای محبوب برای قالب‌بندی خودکار کد پایتون، Black هست.\n",
    "<br>\n",
    "•\tبرخلاف flake8 که خیلی منعطف و قابل تنظیمه، Black قوانین سفت و سخت‌تری داره و تقریباً هیچ جا انعطاف نشون نمی‌ده.\n",
    "<br>\n",
    "•\tهدفش اینه که دیگه هیچ بحثی روی قالب‌بندی پیش نیاد؛ فقط کد رو می‌نویسه و تمام.\n",
    "\n",
    "</font>\n",
    "</div>"
   ]
  },
  {
   "cell_type": "markdown",
   "id": "ec6ad280-7d93-400d-8782-0d757b81c464",
   "metadata": {},
   "source": [
    "<div style=\"direction:rtl;line-height:200%;\">\n",
    "  <font face=\"B Nazanin\" size=4>\n",
    "    <font color=#000080 size=6>\n",
    "Black و تفاوتش با PEP-8\n",
    "</font>\n",
    "</div>"
   ]
  },
  {
   "cell_type": "markdown",
   "id": "9df71c0d-2ab7-47f9-a57f-f12130cd503a",
   "metadata": {},
   "source": [
    "<div  style=\"direction:rtl;line-height:200%;\">\n",
    "  <font face=\"B nazanin\" size=5>\n",
    "    <p></p>\n",
    "فرض کنید این کد ساده رو داریم که با PEP-8 سازگاره:\n",
    "</font>\n",
    "</div>\n"
   ]
  },
  {
   "cell_type": "code",
   "execution_count": null,
   "id": "7a3cf42e-79fb-4486-8f81-7f512d27499e",
   "metadata": {},
   "outputs": [],
   "source": [
    "def my_function(name):\n",
    "    \"\"\"\n",
    "    >>> my_function('black')\n",
    "    'received Black'\n",
    "    \"\"\"\n",
    "    return 'received {0}'.format(name.title())"
   ]
  },
  {
   "cell_type": "markdown",
   "id": "0d11eb2a-d990-446a-b4e7-dd9d370e6cbb",
   "metadata": {},
   "source": [
    "<div  style=\"direction:rtl;line-height:200%;\">\n",
    "  <font face=\"B nazanin\" size=5>\n",
    "    <p></p>\n",
    "حالا با اجرای دستور Black:\n",
    "</font>\n",
    "</div>"
   ]
  },
  {
   "cell_type": "markdown",
   "id": "1c0d66c1-69c5-4e03-bbf5-ce97e2596f7c",
   "metadata": {},
   "source": [
    "```Pytho\n",
    "black -l 79 *.py\n",
    "```"
   ]
  },
  {
   "cell_type": "markdown",
   "id": "f342a1a2-73fd-4784-a419-463775977f7b",
   "metadata": {},
   "source": [
    "<div  style=\"direction:rtl;line-height:200%;\">\n",
    "  <font face=\"B nazanin\" size=5>\n",
    "    <p></p>\n",
    "خروجی به شکل زیر درمیاد:\n",
    "<br>\n",
    "همون‌طور که می‌بینید، تک‌کوتیشن‌ها به دابل‌کوتیشن تبدیل شدن.\n",
    "<br>\n",
    "در کدهای پیچیده‌تر، ممکنه ویرگول‌های انتهایی (trailing commas) و سایر جزئیات هم تغییر کنن\n",
    "</font>\n",
    "</div>"
   ]
  },
  {
   "cell_type": "code",
   "execution_count": null,
   "id": "70ca1c5d-2985-423e-a5f4-fa84ccaeb79c",
   "metadata": {},
   "outputs": [],
   "source": [
    "def my_function(name):\n",
    "    \"\"\"\n",
    "    >>> my_function('black')\n",
    "    'received Black'\n",
    "    \"\"\"\n",
    "    return \"received {0}\".format(name.title())"
   ]
  },
  {
   "cell_type": "markdown",
   "id": "21a73131-26b1-4586-92ab-07ff37090ebf",
   "metadata": {},
   "source": [
    "<div style=\"direction:rtl;line-height:200%;\">\n",
    "  <font face=\"B Nazanin\" size=4>\n",
    "    <font color=#000080 size=6>\n",
    "چالش‌های استفاده از Black در پروژه‌های قدیمی\n",
    "</font>\n",
    "</div>\n"
   ]
  },
  {
   "cell_type": "markdown",
   "id": "62090839-cadb-4177-ad0e-a5f73e4c0b75",
   "metadata": {},
   "source": [
    "<div style=\"direction:rtl;line-height:200%;\">\n",
    "  <font face=\"B Nazanin\" size=4>\n",
    "    <font color=#000080 size=5>\n",
    "1. ساخت یک Pull Request بزرگ (milestone PR)\n",
    "</font>\n",
    "</div>"
   ]
  },
  {
   "cell_type": "markdown",
   "id": "f195baca-e8b4-4f7d-a5c3-9c7bf144e15d",
   "metadata": {},
   "source": [
    "<div  style=\"direction:rtl;line-height:200%;\">\n",
    "  <font face=\"B nazanin\" size=5>\n",
    "    <p></p>\n",
    "در این روش، تمام فایل‌های پروژه رو با black فرمت می‌کنید و یک PR بزرگ ایجاد می‌کنید که همه این تغییرات رو شامل می‌شه.\n",
    "<br>\n",
    "مزایا:\n",
    "<br>\n",
    "•\tکل پروژه یک‌باره با سبک جدید هماهنگ می‌شه.\n",
    "<br>\n",
    "معایب:\n",
    "<br>\n",
    "•\tتاریخچه پروژه در Git پر از تغییرات جزئی می‌شه (مثل تغییر کوتیشن‌ها)، که ردیابی تغییرات واقعی در آینده رو سخت می‌کنه.\n",
    "<br>\n",
    "•\tاین نوع PRها می‌تونه سر و صدای زیادی در Git ایجاد کنه و بررسی اون‌ها زمان‌بر باشه.\n",
    "</font>\n",
    "</div>"
   ]
  },
  {
   "cell_type": "markdown",
   "id": "efa6bc2b-b63f-40fe-94f4-955fb8fbe693",
   "metadata": {},
   "source": [
    "<div style=\"direction:rtl;line-height:200%;\">\n",
    "  <font face=\"B Nazanin\" size=4>\n",
    "    <font color=#000080 size=5>\n",
    "2. بازنویسی تاریخچه (Git History Rewrite)\n",
    "</font>\n",
    "</div>"
   ]
  },
  {
   "cell_type": "markdown",
   "id": "822c479a-dd8f-444c-a1c8-6025849177fc",
   "metadata": {},
   "source": [
    "<div  style=\"direction:rtl;line-height:200%;\">\n",
    "  <font face=\"B nazanin\" size=5>\n",
    "    <p></p>\n",
    "در این روش، به‌جای ایجاد PR بزرگ، تمام کامیت‌های قبلی پروژه رو با فرمت جدید black بازنویسی می‌کنید.\n",
    "<br>\n",
    "مزایا:\n",
    "<br>\n",
    "•\tبه‌نظر می‌رسه که پروژه از ابتدا با این فرمت نوشته شده، چون تاریخچه Git مرتب و تمیز باقی می‌مونه.\n",
    "<br>\n",
    "معایب:\n",
    "<br>\n",
    "•\tهمه اعضای تیم باید مخازن محلی (local repository) خودشون رو با تاریخچه جدید همگام‌سازی (sync) کنن.\n",
    "<br>\n",
    "•\tاگر پروژه تعداد زیادی کامیت داشته باشه، فرآیند بازنویسی طولانی و پیچیده می‌شه.\n",
    "</font>\n",
    "</div>"
   ]
  },
  {
   "cell_type": "markdown",
   "id": "e119cae4-f7d2-4507-8382-e6d27834672e",
   "metadata": {},
   "source": [
    "<div style=\"direction:rtl;line-height:200%;\">\n",
    "  <font face=\"B Nazanin\" size=4>\n",
    "    <font color=#000080 size=6>\n",
    "راه‌حل جایگزین: ابزار yapf\n",
    "</font>\n",
    "</div>"
   ]
  },
  {
   "cell_type": "markdown",
   "id": "96cef974-c9aa-44b6-a1e8-82488ef45b7d",
   "metadata": {},
   "source": [
    "<div style=\"direction:rtl;line-height:200%;\">\n",
    "  <font face=\"B Nazanin\" size=4>\n",
    "    <font color=#000080 size=5>\n",
    "تفاوت‌های yapf با black:\n",
    "\n",
    "</font>\n",
    "</div>"
   ]
  },
  {
   "cell_type": "markdown",
   "id": "f0e00db0-9024-4059-bded-c3af088011bc",
   "metadata": {},
   "source": [
    "<div  style=\"direction:rtl;line-height:200%;\">\n",
    "  <font face=\"B nazanin\" size=5>\n",
    "    <p></p>\n",
    "1.\tقابلیت قالب‌بندی جزئی:\n",
    "<br>\n",
    "با yapf می‌تونید فقط بخش‌های مشخصی از فایل (مثلاً چند خط خاص) رو قالب‌بندی کنید.\n",
    "<br>\n",
    "2.\tقابلیت تنظیم بیشتر:\n",
    "<br>\n",
    "برخلاف black که قوانین سفت و سختی داره، yapf به شما اجازه می‌ده سبک دلخواه خودتون رو تنظیم کنید.\n",
    "<br>\n",
    "3.\tادغام با Git Hooks:\n",
    "<br>\n",
    "می‌تونید yapf رو طوری تنظیم کنید که فقط بخش‌های تغییر‌یافته در هر commit به‌طور خودکار قالب‌بندی بشن.\n",
    "این کار رو با git pre-commit hook انجام می‌دیم.\n",
    "\n",
    "</font>\n",
    "</div>"
   ]
  },
  {
   "cell_type": "markdown",
   "id": "30832ba4-0a63-4cb8-97aa-c1409a15a3cf",
   "metadata": {},
   "source": [
    "<div style=\"direction:rtl;line-height:200%;\">\n",
    "  <font face=\"B Nazanin\" size=4>\n",
    "    <font color=#000080 size=6>\n",
    "Makefile و نقش آن در خودکارسازی فرآیندها در پروژه‌های نرم‌افزاری\n",
    "\n",
    "</font>\n",
    "</div>\n"
   ]
  },
  {
   "cell_type": "markdown",
   "id": "8c6de4e8-b742-4169-8119-828c9006cc37",
   "metadata": {},
   "source": [
    "<div  style=\"direction:rtl;line-height:200%;\">\n",
    "  <font face=\"B nazanin\" size=5>\n",
    "    <p></p>\n",
    "Makefile یک فایل پیکربندی در سیستم‌های توسعه مبتنی بر یونیکس است که به شما اجازه می‌دهد مجموعه‌ای از دستورات تکراری (مثل تست‌ها، اجرای lint، یا فرمت کردن کد) را به‌طور خودکار اجرا کنید. به کمک Makefile، می‌توانید با اجرای یک دستور ساده مثل make checklist چندین عملیات مهم را پشت سر هم انجام دهید. این ابزار هم در محیط توسعه و هم در سیستم‌های یکپارچه‌سازی مداوم (CI) بسیار مفید است.\n",
    "\n",
    "</font>\n",
    "</div>"
   ]
  },
  {
   "cell_type": "markdown",
   "id": "3dc121d6-c8ef-4eb6-a5f8-4aa3a1314073",
   "metadata": {},
   "source": [
    "```Pytho\n",
    ".PHONY: typehint\n",
    "typehint:\n",
    "    mypy --ignore-missing-imports src/\n",
    "\n",
    ".PHONY: test\n",
    "test:\n",
    "    pytest tests/\n",
    "\n",
    ".PHONY: lint\n",
    "lint:\n",
    "    pylint src/\n",
    "\n",
    ".PHONY: checklist\n",
    "checklist: lint typehint test\n",
    "\n",
    ".PHONY: black\n",
    "black:\n",
    "    black -l 79 *.py\n",
    "\n",
    ".PHONY: clean\n",
    "clean:\n",
    "    find . -type f -name \"*.pyc\" | xargs rm -fr\n",
    "    find . -type d -name __pycache__ | xargs rm -fr\n",
    "```"
   ]
  },
  {
   "cell_type": "markdown",
   "id": "8caa6e6e-d25d-469f-9904-3ee279d86bcc",
   "metadata": {},
   "source": [
    "<div style=\"direction:rtl;line-height:200%;\">\n",
    "  <font face=\"B Nazanin\" size=4>\n",
    "    <font color=#000080 size=6>\n",
    "چرا Makefile ابزار مفیدی است؟\n",
    "\n",
    "\n",
    "</font>\n",
    "</div>"
   ]
  },
  {
   "cell_type": "markdown",
   "id": "83b92483-303e-4d0f-b29a-b7094b2f17a0",
   "metadata": {},
   "source": [
    "<div  style=\"direction:rtl;line-height:200%;\">\n",
    "  <font face=\"B nazanin\" size=5>\n",
    "    <p></p>\n",
    "1.\tسادگی در استفاده:\n",
    "<br>\n",
    "اعضای تیم، با یک دستور ساده مثل make checklist، می‌توانند چندین عملیات را اجرا کنند بدون اینکه نیاز باشد پارامترهای پیچیده‌ای از ابزارهای مختلف را یاد بگیرند.\n",
    "<br>\n",
    "2.\tانعطاف‌پذیری در تغییر ابزارها:\n",
    "<br>\n",
    "اگر تیم شما تصمیم بگیرد ابزار دیگری را جایگزین کند (مثلاً تغییر از yapf به black)، فقط کافی است Makefile را به‌روزرسانی کنید و کاربران همچنان از همان دستورات استفاده می‌کنند.\n",
    "<br>\n",
    "3.\tهماهنگی با CI:\n",
    "<br>\n",
    "می‌توانید سیستم CI را طوری تنظیم کنید که از Makefile برای اجرای عملیات خودکار استفاده کند. این کار باعث می‌شود پیکربندی CI ساده بماند و تغییر ابزارها در آینده تأثیری بر فرآیندها نگذارد.\n",
    "\n",
    "</font>\n",
    "</div>"
   ]
  },
  {
   "cell_type": "markdown",
   "id": "4308ae46-f2cc-4d90-a842-416ac292de23",
   "metadata": {},
   "source": [
    "<div style=\"direction:rtl;line-height:200%;\">\n",
    "  <font face=\"B Nazanin\" size=4>\n",
    "    <font color=#000080 size=6>\n",
    "خلاصه اصول کد تمیز و ابزارهای مرتبط\n",
    "\n",
    "\n",
    "</font>\n",
    "</div>"
   ]
  },
  {
   "cell_type": "markdown",
   "id": "24699e04-a624-4694-9a66-236e4d9cf484",
   "metadata": {},
   "source": [
    "<div  style=\"direction:rtl;line-height:200%;\">\n",
    "  <font face=\"B nazanin\" size=5>\n",
    "    <p></p>\n",
    "ما اکنون درک اولیه‌ای از مفهوم کد تمیز (Clean Code) داریم و متوجه شدیم که این مفهوم فراتر از ظاهر یا ساختار کد است. نکات کلیدی عبارتند از:\n",
    "<br>\n",
    "1.\tکد تمیز به خوانایی و نگهداری آسان کد مربوط است، نه فقط زیبایی ظاهری.\n",
    "<br>\n",
    "2.\tهدف اصلی این است که ایده‌ها به‌وضوح در کد بیان شوند تا دیگران بتوانند منظور و هدف نویسنده کد را به‌درستی درک کنند.\n",
    "<br>\n",
    "3.\tکاهش بدهی فنی باعث می‌شود پروژه در بلندمدت پایدار بماند و همکاری مؤثر باشد.\n",
    "\n",
    "</font>\n",
    "</div>"
   ]
  },
  {
   "cell_type": "markdown",
   "id": "99463446-8db0-40bf-b357-771a87ce9b46",
   "metadata": {},
   "source": [
    "<div style=\"direction:rtl;line-height:200%;\">\n",
    "  <font face=\"B Nazanin\" size=4>\n",
    "    <font color=#000080 size=6>\n",
    "اهمیت پیروی از استانداردهای کدنویسی و اتوماسیون\n",
    "\n",
    "</font>\n",
    "</div>"
   ]
  },
  {
   "cell_type": "markdown",
   "id": "a07ce10d-a28e-49fb-b376-9a9fa2c81ffd",
   "metadata": {},
   "source": [
    "<div  style=\"direction:rtl;line-height:200%;\">\n",
    "  <font face=\"B nazanin\" size=5>\n",
    "    <p></p>\n",
    "هرچند پیروی از دستورالعمل‌های کدنویسی (مانند PEP-8) ضروری است، اما این شرط به‌تنهایی برای داشتن کد باکیفیت کافی نیست. بنابراین، اتوماسیون این فرآیندها بسیار اهمیت دارد تا تمرکز توسعه‌دهندگان روی مسائل مهم‌تر باقی بماند.\n",
    "<br>\n",
    "ابزارهای کلیدی که معرفی شدند:\n",
    "<br>\n",
    "•\tMypy – برای بررسی نوع‌دهی (Type Checking).\n",
    "<br>\n",
    "•\tPylint – برای نظارت بر کیفیت کد و رعایت قوانین.\n",
    "<br>\n",
    "•\tBlack – برای فرمت خودکار کد بر اساس استانداردها.\n",
    "<br>\n",
    "استفاده از این ابزارها تضمین می‌کند که استانداردهای کدنویسی به‌طور خودکار اجرا شوند و نیاز به بررسی دستی کاهش یابد.\n",
    "\n",
    "</font>\n",
    "</div>"
   ]
  },
  {
   "cell_type": "markdown",
   "id": "d89fd2e0-395b-453e-a938-ec8c10fb2c25",
   "metadata": {},
   "source": [
    "<div\n",
    "  style=\"direction:rtl;line-height:200%;\">\n",
    "  <font face=\"B Nazanin\" size=4>\n",
    "    <font color=#000080 size=5>\n",
    "PEP 8\n",
    "</font>\n",
    "</div>\n"
   ]
  },
  {
   "cell_type": "markdown",
   "id": "ee48e7ef-c22e-41e0-8767-de91a60cab7c",
   "metadata": {},
   "source": [
    "<div  style=\"direction:rtl;line-height:200%;\">\n",
    "  <font face=\"B nazanin\" size=5>\n",
    "    <p></p>\n",
    " در پایتون،  PEP 8 یا \"Python Enhancement Proposal 8\" مجموعه‌ای از استانداردها و توصیه‌ها برای نوشتن کد پایتون است که به خوانایی و یکنواختی کد کمک می‌کند. این استانداردها توسط Guido van Rossum خالق پایتون و تیم توسعه ‌دهندگان پایتون ایجاد شده‌اند و بسیاری از برنامه ‌نویسان پایتون از آن به عنوان یک مرجع مهم برای نوشتن کدهای قابل خواندن و قابل نگهداری پیروی می‌کنند.\n",
    "</font>\n",
    "</div>\n"
   ]
  },
  {
   "cell_type": "markdown",
   "id": "22a652f1-a367-44db-9f27-87f46cdb87bb",
   "metadata": {},
   "source": [
    "<div\n",
    "  style=\"direction:rtl;line-height:200%;\">\n",
    "  <font face=\"B Nazanin\" size=4>\n",
    "    <font color=#4169E1 size=5>\n",
    "اصول اصلی PEP  شامل موارد زیر است:\n",
    "\n",
    "</font>\n",
    "</div>\n"
   ]
  },
  {
   "cell_type": "markdown",
   "id": "6ea2f8e7-5860-4404-87a3-9a6bb9d6710b",
   "metadata": {},
   "source": [
    "<div  style=\"direction:rtl;line-height:200%;\">\n",
    "  <font face=\"B nazanin\" size=5>\n",
    "    <p></p>\n",
    " رعایت این قواعد باعث می‌شود کد شما خوانا، قابل نگهداری و استاندارد باشد. ابزارهایی مثل pycodestyle و    flake8 نیز برای بررسی خودکار کد و ارزیابی سازگاری آن با PEP 8 موجود هستند.\n",
    "</font>\n",
    "</div>\n"
   ]
  },
  {
   "cell_type": "markdown",
   "id": "0bbaab60-6c02-4974-b988-4f94220a9cae",
   "metadata": {},
   "source": [
    "<div  style=\"direction:rtl;line-height:200%;\">\n",
    "  <font face=\"B nazanin\" size=5>\n",
    "    <p></p>\n",
    " ۱. تورفتگی (Indentation):\n",
    "<br>\n",
    "از ۴ فاصله (spaces) برای تورفتگی استفاده کنید.\n",
    "<br>\n",
    "از ترکیب space و tab خودداری کنید. فقط از یکی استفاده کنید (ترجیحاً space).\n",
    "\n",
    "</font>\n",
    "</div>"
   ]
  },
  {
   "cell_type": "markdown",
   "id": "31e57009-a1eb-4901-b2dd-122daca27636",
   "metadata": {},
   "source": [
    "<div  style=\"direction:rtl;line-height:200%;\">\n",
    "  <font face=\"B nazanin\" size=5>\n",
    "    <p></p>\n",
    " ۲. طول خط (Line Length):\n",
    " <br>\n",
    "حداکثر طول خط کد: ۷۹ کاراکتر.\n",
    "<br>\n",
    "برای نظرات و مستندات (docstrings) می‌توان تا ۷۲ کاراکتر را در نظر گرفت.\n",
    "<br>\n",
    "اگر خطی طولانی شد، آن را به چند خط بشکنید:\n",
    "<br>\n",
    "از پرانتزهای معمولی، براکت یا آکولادها برای ادامه خط استفاده کنید.\n",
    "<br>\n",
    "برای شکستن خطوط طولانی، تورفتگی اضافه داشته باشید.\n",
    "</font>\n",
    "</div>"
   ]
  },
  {
   "cell_type": "markdown",
   "id": "3c49566b-a725-454f-8df6-70c309f5c0f1",
   "metadata": {},
   "source": [
    "```\n",
    "result = some_function(arg1, arg2, arg3, arg4,\n",
    "                       arg5, arg6)\n",
    "```"
   ]
  },
  {
   "cell_type": "markdown",
   "id": "ea16a32c-7baa-41f5-abbf-859a182ffaab",
   "metadata": {},
   "source": [
    "<div  style=\"direction:rtl;line-height:200%;\">\n",
    "  <font face=\"B nazanin\" size=5>\n",
    "    <p></p>\n",
    "۳. فضاها (Whitespace):\n",
    "<br>\n",
    "اطراف عملگرهای محاسباتی و تخصیص (مثل =, +, -, *, ==) یک فاصله قرار دهید:\n",
    "<br>\n",
    "در داخل پرانتزها، براکت‌ها یا آکولادها فاصله اضافی نگذارید:\n",
    "</font>\n",
    "</div>"
   ]
  },
  {
   "cell_type": "markdown",
   "id": "3da0179e-0a69-41fc-8c41-c24c8585e87b",
   "metadata": {},
   "source": [
    "```\n",
    "a = b + c\n",
    "\n",
    "# درست\n",
    "my_list = [1, 2, 3]\n",
    "# اشتباه\n",
    "my_list = [ 1, 2, 3 ]\n",
    "```"
   ]
  },
  {
   "cell_type": "markdown",
   "id": "2c75dab5-224e-4c95-8243-97bd6d65b897",
   "metadata": {},
   "source": [
    "<div  style=\"direction:rtl;line-height:200%;\">\n",
    "  <font face=\"B nazanin\" size=5>\n",
    "    <p></p>\n",
    "    ۴. کامنت‌ها (Comments):\n",
    "<br>\n",
    "کامنت‌های بلوکی (Block Comments): برای توضیح بخش‌های بزرگ کد استفاده کنید.\n",
    "<br>\n",
    "کامنت‌های خطی (Inline Comments): باید کوتاه و مرتبط باشند:\n",
    "<br>\n",
    "از کامنت‌های غیرضروری پرهیز کنید:\n",
    "</font>\n",
    "</div>"
   ]
  },
  {
   "cell_type": "markdown",
   "id": "2c8916ae-545d-486f-b3b6-7c72877157e1",
   "metadata": {},
   "source": [
    "```\n",
    "x = x + 1  # مقدار x را یک واحد افزایش می‌دهد\n",
    "\n",
    "# این کد مقدار 10 را به x می‌دهد\n",
    "x = 10  # این کامنت غیرضروری است\n",
    "```"
   ]
  },
  {
   "cell_type": "markdown",
   "id": "8dc61da3-7f39-434d-9cc0-6eb865857d1d",
   "metadata": {},
   "source": [
    "<div  style=\"direction:rtl;line-height:200%;\">\n",
    "  <font face=\"B nazanin\" size=5>\n",
    "    <p></p>\n",
    "۵. مستندات رشته‌ای (Docstrings):\n",
    "<br>\n",
    "برای تعریف کلاس‌ها، توابع یا ماژول‌ها از docstring استفاده کنید:\n",
    "\n",
    "</font>\n",
    "</div>"
   ]
  },
  {
   "cell_type": "code",
   "execution_count": null,
   "id": "e682d551-7bc8-4536-abc3-41bc9db04d98",
   "metadata": {},
   "outputs": [],
   "source": [
    "def greet(name):\n",
    "    \"\"\"\n",
    "    این تابع نام شخص را دریافت کرده\n",
    "    و یک پیام خوش‌آمدگویی برمی‌گرداند.\n",
    "    \"\"\"\n",
    "    return f\"Hello, {name}!\"\n"
   ]
  },
  {
   "cell_type": "code",
   "execution_count": null,
   "id": "8dc33772-c55d-42a9-b961-d1a50b68b499",
   "metadata": {},
   "outputs": [],
   "source": [
    "greet?"
   ]
  },
  {
   "cell_type": "markdown",
   "id": "9257a026-61a5-464a-a8ee-787d7d749950",
   "metadata": {},
   "source": [
    "<div  style=\"direction:rtl;line-height:200%;\">\n",
    "  <font face=\"B nazanin\" size=5>\n",
    "    <p></p>\n",
    "۶. ایمپورت‌ها (Imports):\n",
    "<br>\n",
    "تمامی importها در ابتدای فایل باشند.\n",
    "<br>\n",
    "از ترتیب زیر برای importها استفاده کنید:\n",
    "<br>\n",
    "ماژول‌های استاندارد (مثلاً os, sys)\n",
    "<br>\n",
    "کتابخانه‌های نصب‌شده خارجی (مثلاً numpy, requests)\n",
    "<br>\n",
    "ماژول‌های پروژه‌ی خودتان\n",
    "هر گروه از importها را با یک خط خالی جدا کنید.\n",
    "<br>\n",
    "هر کتابخانه را در یک خط جداگانه ایمپورت کنید:\n",
    "<br>\n",
    "</font>\n",
    "</div>"
   ]
  },
  {
   "cell_type": "code",
   "execution_count": null,
   "id": "ee4a7c22-446c-4996-b1bb-1dc11cff9d65",
   "metadata": {},
   "outputs": [],
   "source": [
    "# درست\n",
    "import os\n",
    "import sys\n",
    "\n",
    "# اشتباه\n",
    "import os, sys\n"
   ]
  },
  {
   "cell_type": "markdown",
   "id": "cf3687da-7df2-4fd3-915c-afc49ea940f1",
   "metadata": {},
   "source": [
    "<div  style=\"direction:rtl;line-height:200%;\">\n",
    "  <font face=\"B nazanin\" size=5>\n",
    "    <p></p>\n",
    "۷. نام‌گذاری متغیرها و توابع:\n",
    "<br>\n",
    "از snake_case برای نام‌گذاری متغیرها و توابع استفاده کنید:\n",
    "<br>\n",
    "از CamelCase برای نام‌گذاری کلاس‌ها استفاده کنید:\n",
    "<br>\n",
    "نام ثابت‌ها (constants) باید تماماً حروف بزرگ باشد:\n",
    "</font>\n",
    "</div>"
   ]
  },
  {
   "cell_type": "markdown",
   "id": "1f142f67-3ffc-484b-9fe5-f792c9fa2dd0",
   "metadata": {},
   "source": [
    "``` \n",
    "def calculate_total(price, tax):\n",
    "    pass\n",
    "***\n",
    "class MyClass:\n",
    "    pass\n",
    "***\n",
    "MAX_CONNECTIONS = 10\n",
    "```"
   ]
  },
  {
   "cell_type": "code",
   "execution_count": null,
   "id": "9246370e-16ee-467c-8b39-b8b1d0e2338c",
   "metadata": {},
   "outputs": [],
   "source": [
    "students_count"
   ]
  },
  {
   "cell_type": "markdown",
   "id": "d19870f6-77d4-4d5a-afc7-0b12b3c29847",
   "metadata": {},
   "source": [
    "<div  style=\"direction:rtl;line-height:200%;\">\n",
    "  <font face=\"B nazanin\" size=5>\n",
    "    <p></p>\n",
    "۸. ساختار شرطی (if/else):\n",
    "<br>\n",
    "از خطوط کوتاه و مختصر استفاده کنید:\n",
    "\n",
    "</font>\n",
    "</div>"
   ]
  },
  {
   "cell_type": "markdown",
   "id": "9b40cf14-4714-472b-a836-cbbd938759dd",
   "metadata": {},
   "source": [
    "```\n",
    "if x == 10:\n",
    "    print(\"x is 10\")\n",
    "# اشتباه\n",
    "if x == 10: print(\"x is 10\")\n",
    "```"
   ]
  },
  {
   "cell_type": "markdown",
   "id": "38fd01db-1f27-407a-a0d2-1a9b5b62472c",
   "metadata": {},
   "source": [
    "<div  style=\"direction:rtl;line-height:200%;\">\n",
    "  <font face=\"B nazanin\" size=5>\n",
    "    <p></p>\n",
    "۹. فایل‌های خالی (Blank Lines):\n",
    "<br>\n",
    "از خطوط خالی برای جدا کردن بخش‌های کد استفاده کنید:\n",
    "<br>\n",
    "دو خط خالی بین تعریف کلاس‌ها یا توابع سطح بالا.\n",
    "<br>\n",
    "یک خط خالی بین توابع داخل کلاس.\n",
    "</font>\n",
    "</div>"
   ]
  },
  {
   "cell_type": "markdown",
   "id": "2603d03d-fb74-42c6-9120-d8ccaf936b01",
   "metadata": {},
   "source": [
    "<div  style=\"direction:rtl;line-height:200%;\">\n",
    "  <font face=\"B nazanin\" size=5>\n",
    "    <p></p>\n",
    "۱۰. کلاس‌ها و توابع:\n",
    "<br>\n",
    "کلاس‌ها باید دارای docstring باشند.\n",
    "<br>\n",
    "توابع باید کوتاه و هدف‌دار باشند.\n",
    "<br>\n",
    "در کلاس‌ها، متدهای مرتبط را نزدیک به هم قرار دهید.\n",
    "</font>\n",
    "</div>"
   ]
  },
  {
   "cell_type": "markdown",
   "id": "c65c7641-bcb7-4c4d-831f-7436d4f0584e",
   "metadata": {},
   "source": [
    "<div  style=\"direction:rtl;line-height:200%;\">\n",
    "  <font face=\"B nazanin\" size=5>\n",
    "    <p></p>\n",
    "۱۱. استفاده از None:\n",
    "<br>\n",
    "برای مقایسه با None از is یا is not استفاده کنید:\n",
    "</font>\n",
    "</div>"
   ]
  },
  {
   "cell_type": "markdown",
   "id": "2152fed1-faa2-437b-9617-9478da47cb16",
   "metadata": {},
   "source": [
    "```# درست\n",
    "if x is None:\n",
    "    pass\n",
    "\n",
    "# اشتباه\n",
    "if x == None:\n",
    "    pass\n",
    "```"
   ]
  },
  {
   "cell_type": "markdown",
   "id": "ac1d69a7-03bc-46fd-be6a-d5de894dcc60",
   "metadata": {},
   "source": [
    "<div  style=\"direction:rtl;line-height:200%;\">\n",
    "  <font face=\"B nazanin\" size=5>\n",
    "    <p></p>\n",
    "۱۲. استثنائات (Exceptions):\n",
    "<br>\n",
    "از try/except برای مدیریت خطاها استفاده کنید:\n",
    "</font>\n",
    "</div>"
   ]
  },
  {
   "cell_type": "code",
   "execution_count": null,
   "id": "9925c93b-580f-4774-9407-a3c844ff6388",
   "metadata": {},
   "outputs": [],
   "source": [
    "try:\n",
    "    result = 10 / 0\n",
    "except ZeroDivisionError:\n",
    "    print(\"Division by zero is not allowed\")\n",
    "print(\"okey\")"
   ]
  },
  {
   "cell_type": "code",
   "execution_count": null,
   "id": "2ea26358-860e-41ec-9209-ed322446c31e",
   "metadata": {},
   "outputs": [],
   "source": []
  }
 ],
 "metadata": {
  "kernelspec": {
   "display_name": "Python 3 (ipykernel)",
   "language": "python",
   "name": "python3"
  },
  "language_info": {
   "codemirror_mode": {
    "name": "ipython",
    "version": 3
   },
   "file_extension": ".py",
   "mimetype": "text/x-python",
   "name": "python",
   "nbconvert_exporter": "python",
   "pygments_lexer": "ipython3",
   "version": "3.12.4"
  }
 },
 "nbformat": 4,
 "nbformat_minor": 5
}
